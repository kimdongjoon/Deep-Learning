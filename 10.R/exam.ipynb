{
 "cells": [
  {
   "cell_type": "code",
   "execution_count": null,
   "metadata": {},
   "outputs": [],
   "source": []
  },
  {
   "cell_type": "code",
   "execution_count": 5,
   "metadata": {},
   "outputs": [
    {
     "name": "stdout",
     "output_type": "stream",
     "text": [
      "5\n",
      "43.81780460041329\n"
     ]
    }
   ],
   "source": [
    "# ex1\n",
    "import math\n",
    "\n",
    "def randomX(x):\n",
    "    total =  math.sqrt((x-1) * (x-3 ** 2) * (x-5**3))\n",
    "    return total\n",
    "\n",
    "x = input()\n",
    "print (randomX(int(x)))"
   ]
  },
  {
   "cell_type": "code",
   "execution_count": 4,
   "metadata": {},
   "outputs": [],
   "source": [
    "\n",
    "    "
   ]
  },
  {
   "cell_type": "code",
   "execution_count": 6,
   "metadata": {},
   "outputs": [
    {
     "name": "stdout",
     "output_type": "stream",
     "text": [
      "3\n",
      "5\n",
      "2.385606273598312\n"
     ]
    },
    {
     "data": {
      "text/plain": [
       "False"
      ]
     },
     "execution_count": 6,
     "metadata": {},
     "output_type": "execute_result"
    }
   ],
   "source": [
    "#ex2\n",
    "def checkLog(x, y):\n",
    "    tmp = math.log10(x**y)\n",
    "    print(tmp)\n",
    "    if tmp >=5 and tmp <=10 : \n",
    "        return True\n",
    "    else:\n",
    "        return False\n",
    "\n",
    "x = input()\n",
    "y = input()\n",
    "checkLog(int(x), int(y))"
   ]
  },
  {
   "cell_type": "code",
   "execution_count": 8,
   "metadata": {},
   "outputs": [
    {
     "name": "stdout",
     "output_type": "stream",
     "text": [
      "n값 입력 : 5\n",
      "m값 입력 : 3\n",
      "10.0\n"
     ]
    }
   ],
   "source": [
    "# 3\n",
    "import math\n",
    "n = int(input(\"n값 입력 : \"))\n",
    "m = int(input(\"m값 입력 : \"))\n",
    "if n <= 0 or m <=0 or n <= m:\n",
    "    print(\"n또는 m값이 음수또는 n<=m 입니다.\")\n",
    "else:\n",
    "    nCm = (math.factorial(n))/((math.factorial(m))*(math.factorial(n-m)))\n",
    "print(nCm)"
   ]
  },
  {
   "cell_type": "code",
   "execution_count": 9,
   "metadata": {},
   "outputs": [
    {
     "name": "stdout",
     "output_type": "stream",
     "text": [
      "5\n",
      "122333444455555"
     ]
    }
   ],
   "source": [
    "n = input()\n",
    "for i in range (1, int(n)+1):\n",
    "    for j in range(1, i+1):\n",
    "        print(i, end =\"\")"
   ]
  },
  {
   "cell_type": "code",
   "execution_count": null,
   "metadata": {},
   "outputs": [],
   "source": [
    "\n"
   ]
  },
  {
   "cell_type": "code",
   "execution_count": null,
   "metadata": {},
   "outputs": [],
   "source": []
  }
 ],
 "metadata": {
  "kernelspec": {
   "display_name": "Python 3",
   "language": "python",
   "name": "python3"
  },
  "language_info": {
   "codemirror_mode": {
    "name": "ipython",
    "version": 3
   },
   "file_extension": ".py",
   "mimetype": "text/x-python",
   "name": "python",
   "nbconvert_exporter": "python",
   "pygments_lexer": "ipython3",
   "version": "3.7.6"
  }
 },
 "nbformat": 4,
 "nbformat_minor": 4
}
