{
 "cells": [
  {
   "cell_type": "code",
   "execution_count": 1,
   "metadata": {},
   "outputs": [
    {
     "name": "stderr",
     "output_type": "stream",
     "text": [
      "Using TensorFlow backend.\n"
     ]
    }
   ],
   "source": [
    "import csv\n",
    "import numpy as np\n",
    "import matplotlib.pyplot as plt\n",
    "%matplotlib inline\n",
    "import seaborn as sns\n",
    "import pandas as pd\n",
    "\n",
    "from tensorflow import keras\n",
    "from keras.datasets import imdb"
   ]
  },
  {
   "cell_type": "code",
   "execution_count": 2,
   "metadata": {},
   "outputs": [],
   "source": [
    "train = pd.read_csv('./labeledTrainData.tsv', 'r', delimiter='\\t', encoding= 'utf-8')\n",
    "test = pd.read_csv('./testData.tsv', 'r', delimiter='\\t', encoding= 'utf-8')\n"
   ]
  },
  {
   "cell_type": "code",
   "execution_count": 3,
   "metadata": {},
   "outputs": [
    {
     "data": {
      "text/plain": [
       "1    12500\n",
       "0    12500\n",
       "Name: sentiment, dtype: int64"
      ]
     },
     "execution_count": 3,
     "metadata": {},
     "output_type": "execute_result"
    }
   ],
   "source": [
    "train['sentiment'].value_counts()"
   ]
  },
  {
   "cell_type": "code",
   "execution_count": 4,
   "metadata": {},
   "outputs": [
    {
     "data": {
      "text/plain": [
       "\"With all this stuff going down at the moment with MJ i've started listening to his music, watching t\""
      ]
     },
     "execution_count": 4,
     "metadata": {},
     "output_type": "execute_result"
    }
   ],
   "source": [
    "train['review'][0][:100]"
   ]
  },
  {
   "cell_type": "code",
   "execution_count": 5,
   "metadata": {},
   "outputs": [
    {
     "data": {
      "text/plain": [
       "id           0\n",
       "sentiment    0\n",
       "review       0\n",
       "dtype: int64"
      ]
     },
     "execution_count": 5,
     "metadata": {},
     "output_type": "execute_result"
    }
   ],
   "source": [
    "train.isnull().sum()"
   ]
  },
  {
   "cell_type": "code",
   "execution_count": 6,
   "metadata": {},
   "outputs": [
    {
     "name": "stdout",
     "output_type": "stream",
     "text": [
      "With all this stuff going down at the moment with MJ i've started listening to his music, watching the odd documentary here and there, watched The Wiz and watched Moonwalker again. Maybe i just want to get a certain insight into this guy who i thought was really cool in the eighties just to maybe make up my mind whether he is guilty or innocent. Moonwalker is part biography, part feature film which i remember going to see at the cinema when it was originally released. Some of it has subtle messages about MJ's feeling towards the press and also the obvious message of drugs are bad m'kay.<br /><br />Visually impressive but of course this is all about Michael Jackson so unless you remotely like\n"
     ]
    },
    {
     "data": {
      "text/plain": [
       "\"With all this stuff going down at the moment with MJ i've started listening to his music, watching the odd documentary here and there, watched The Wiz and watched Moonwalker again. Maybe i just want to get a certain insight into this guy who i thought was really cool in the eighties just to maybe make up my mind whether he is guilty or innocent. Moonwalker is part biography, part feature film which i remember going to see at the cinema when it was originally released. Some of it has subtle messages about MJ's feeling towards the press and also the obvious message of drugs are bad m'kay.Visually impressive but of course this is all about Michael Jackson so unless you remotely like MJ in anywa\""
      ]
     },
     "execution_count": 6,
     "metadata": {},
     "output_type": "execute_result"
    }
   ],
   "source": [
    "from bs4 import BeautifulSoup\n",
    "\n",
    "example1 = BeautifulSoup(train['review'][0])\n",
    "print(train['review'][0][:700])\n",
    "example1.get_text()[:700]"
   ]
  },
  {
   "cell_type": "code",
   "execution_count": 7,
   "metadata": {},
   "outputs": [
    {
     "data": {
      "text/plain": [
       "'With all this stuff going down at the moment with MJ i ve started listening to his music  watching t'"
      ]
     },
     "execution_count": 7,
     "metadata": {},
     "output_type": "execute_result"
    }
   ],
   "source": [
    "# 정규표현식을 사용하게 하는 모듈 설치\n",
    "import re\n",
    "\n",
    "# ^ : 시작을 의미, 알파벳 소대문자로 시작하는 문자만 추출\n",
    "letters_only = re.sub('[^a-zA-z]',' ',example1.get_text())\n",
    "letters_only[:100]"
   ]
  },
  {
   "cell_type": "code",
   "execution_count": 8,
   "metadata": {},
   "outputs": [
    {
     "name": "stdout",
     "output_type": "stream",
     "text": [
      "437\n"
     ]
    },
    {
     "data": {
      "text/plain": [
       "['with',\n",
       " 'all',\n",
       " 'this',\n",
       " 'stuff',\n",
       " 'going',\n",
       " 'down',\n",
       " 'at',\n",
       " 'the',\n",
       " 'moment',\n",
       " 'with']"
      ]
     },
     "execution_count": 8,
     "metadata": {},
     "output_type": "execute_result"
    }
   ],
   "source": [
    "# 모두 소문자로 변환한다.\n",
    "lower_case = letters_only.lower()\n",
    "\n",
    "# 문자를 나눈다. => 토큰화\n",
    "words = lower_case.split()\n",
    "print(len(words))\n",
    "words[:10]"
   ]
  },
  {
   "cell_type": "code",
   "execution_count": 9,
   "metadata": {},
   "outputs": [
    {
     "name": "stderr",
     "output_type": "stream",
     "text": [
      "[nltk_data] Downloading package stopwords to\n",
      "[nltk_data]     C:\\Users\\2\\AppData\\Roaming\\nltk_data...\n",
      "[nltk_data]   Package stopwords is already up-to-date!\n"
     ]
    },
    {
     "data": {
      "text/plain": [
       "['i', 'me', 'my', 'myself', 'we', 'our', 'ours', 'ourselves', 'you', \"you're\"]"
      ]
     },
     "execution_count": 9,
     "metadata": {},
     "output_type": "execute_result"
    }
   ],
   "source": [
    "import nltk\n",
    "\n",
    "from nltk.stem import PorterStemmer\n",
    "\n",
    "nltk.download('stopwords')\n",
    "\n",
    "from nltk.corpus import stopwords\n",
    "stopwords.words('english')[:10]"
   ]
  },
  {
   "cell_type": "code",
   "execution_count": 10,
   "metadata": {},
   "outputs": [],
   "source": [
    "# 반복문을 이용하여 stopwords를 제거한 토큰들\n",
    "words = [w for w in words if not w in stopwords.words('english')]"
   ]
  },
  {
   "cell_type": "code",
   "execution_count": 11,
   "metadata": {},
   "outputs": [],
   "source": [
    "def review_to_words(raw_review):\n",
    "    stemmer = PorterStemmer()\n",
    "    # 1. HTML 제거\n",
    "    review_text = BeautifulSoup(raw_review, 'html.parser').get_text()\n",
    "    # 2. 영문자가 아닌 문자는 공백으로 변환\n",
    "    letters_only = re.sub('[^a-zA-Z]', ' ', review_text)\n",
    "    # 3. 소문자 변환\n",
    "    words = letters_only.lower().split()\n",
    "    # 4. Stopwords를 세트로 변환\n",
    "    # 파이썬에서는 리스트보다 세트로 찾는게 훨씬 빠르다.\n",
    "    stops = set(stopwords.words('english'))\n",
    "    # 5. Stopwords 제거\n",
    "    meaningful_words = [w for w in words if not w in stops]\n",
    "    # 6. 어간추출\n",
    "    stemming_words = [stemmer.stem(w) for w in meaningful_words]\n",
    "    # 7. 공백으로 구분된 문자열로 결합하여 결과를 반환\n",
    "    return(' '.join(stemming_words))\n"
   ]
  },
  {
   "cell_type": "code",
   "execution_count": 12,
   "metadata": {},
   "outputs": [
    {
     "data": {
      "text/plain": [
       "'stuff go moment mj start listen music watch odd documentari watch wiz watch moonwalk mayb want get certain insight guy thought realli cool eighti mayb make mind whether guilti innoc moonwalk part biographi part featur film rememb go see cinema origin releas subtl messag mj feel toward press also obviou messag drug bad kay visual impress cours michael jackson unless remot like mj anyway go hate find bore may call mj egotist consent make movi mj fan would say made fan true realli nice actual featur film bit final start minut exclud smooth crimin sequenc joe pesci convinc psychopath power drug lord want mj dead bad beyond mj overheard plan nah joe pesci charact rant want peopl know suppli drug etc dunno mayb hate mj music lot cool thing like mj turn car robot whole speed demon sequenc also director must patienc saint came film kiddi bad sequenc usual director hate work one kid let alon whole bunch perform complex danc scene bottom line movi peopl like mj one level anoth think peopl stay away tri give wholesom messag iron mj bestest buddi movi girl michael jackson truli one talent peopl ever grace planet guilti well attent gave subject hmmm well know peopl differ behind close door know fact either extrem nice stupid guy one sickest liar hope latter'"
      ]
     },
     "execution_count": 12,
     "metadata": {},
     "output_type": "execute_result"
    }
   ],
   "source": [
    "# 예시로 첫 리뷰만 적용\n",
    "\n",
    "clean_review = review_to_words(train['review'][0])\n",
    "clean_review"
   ]
  },
  {
   "cell_type": "code",
   "execution_count": 13,
   "metadata": {},
   "outputs": [
    {
     "name": "stdout",
     "output_type": "stream",
     "text": [
      "Review 5000 of 0        With all this stuff going down at the moment w...\n",
      "1        \\The Classic War of the Worlds\\\" by Timothy Hi...\n",
      "2        The film starts with a manager (Nicholas Bell)...\n",
      "3        It must be assumed that those who praised this...\n",
      "4        Superbly trashy and wondrously unpretentious 8...\n",
      "                               ...                        \n",
      "24995    It seems like more consideration has gone into...\n",
      "24996    I don't believe they made this film. Completel...\n",
      "24997    Guy is a loser. Can't get girls, needs to buil...\n",
      "24998    This 30 minute documentary Buñuel made in the ...\n",
      "24999    I saw this movie as a child and it broke my he...\n",
      "Name: review, Length: 25000, dtype: object\n",
      "Review 10000 of 0        With all this stuff going down at the moment w...\n",
      "1        \\The Classic War of the Worlds\\\" by Timothy Hi...\n",
      "2        The film starts with a manager (Nicholas Bell)...\n",
      "3        It must be assumed that those who praised this...\n",
      "4        Superbly trashy and wondrously unpretentious 8...\n",
      "                               ...                        \n",
      "24995    It seems like more consideration has gone into...\n",
      "24996    I don't believe they made this film. Completel...\n",
      "24997    Guy is a loser. Can't get girls, needs to buil...\n",
      "24998    This 30 minute documentary Buñuel made in the ...\n",
      "24999    I saw this movie as a child and it broke my he...\n",
      "Name: review, Length: 25000, dtype: object\n",
      "Review 15000 of 0        With all this stuff going down at the moment w...\n",
      "1        \\The Classic War of the Worlds\\\" by Timothy Hi...\n",
      "2        The film starts with a manager (Nicholas Bell)...\n",
      "3        It must be assumed that those who praised this...\n",
      "4        Superbly trashy and wondrously unpretentious 8...\n",
      "                               ...                        \n",
      "24995    It seems like more consideration has gone into...\n",
      "24996    I don't believe they made this film. Completel...\n",
      "24997    Guy is a loser. Can't get girls, needs to buil...\n",
      "24998    This 30 minute documentary Buñuel made in the ...\n",
      "24999    I saw this movie as a child and it broke my he...\n",
      "Name: review, Length: 25000, dtype: object\n",
      "Review 20000 of 0        With all this stuff going down at the moment w...\n",
      "1        \\The Classic War of the Worlds\\\" by Timothy Hi...\n",
      "2        The film starts with a manager (Nicholas Bell)...\n",
      "3        It must be assumed that those who praised this...\n",
      "4        Superbly trashy and wondrously unpretentious 8...\n",
      "                               ...                        \n",
      "24995    It seems like more consideration has gone into...\n",
      "24996    I don't believe they made this film. Completel...\n",
      "24997    Guy is a loser. Can't get girls, needs to buil...\n",
      "24998    This 30 minute documentary Buñuel made in the ...\n",
      "24999    I saw this movie as a child and it broke my he...\n",
      "Name: review, Length: 25000, dtype: object\n",
      "Review 25000 of 0        With all this stuff going down at the moment w...\n",
      "1        \\The Classic War of the Worlds\\\" by Timothy Hi...\n",
      "2        The film starts with a manager (Nicholas Bell)...\n",
      "3        It must be assumed that those who praised this...\n",
      "4        Superbly trashy and wondrously unpretentious 8...\n",
      "                               ...                        \n",
      "24995    It seems like more consideration has gone into...\n",
      "24996    I don't believe they made this film. Completel...\n",
      "24997    Guy is a loser. Can't get girls, needs to buil...\n",
      "24998    This 30 minute documentary Buñuel made in the ...\n",
      "24999    I saw this movie as a child and it broke my he...\n",
      "Name: review, Length: 25000, dtype: object\n",
      "Review 5000 of 0        Naturally in a film who's main themes are of m...\n",
      "1        This movie is a disaster within a disaster fil...\n",
      "2        All in all, this is a movie for kids. We saw i...\n",
      "3        Afraid of the Dark left me with the impression...\n",
      "4        A very accurate depiction of small time mob li...\n",
      "                               ...                        \n",
      "24995    Sony Pictures Classics, I'm looking at you! So...\n",
      "24996    I always felt that Ms. Merkerson had never got...\n",
      "24997    I was so disappointed in this movie. I am very...\n",
      "24998    From the opening sequence, filled with black a...\n",
      "24999    This is a great horror film for people who don...\n",
      "Name: review, Length: 25000, dtype: object\n",
      "Review 10000 of 0        Naturally in a film who's main themes are of m...\n",
      "1        This movie is a disaster within a disaster fil...\n",
      "2        All in all, this is a movie for kids. We saw i...\n",
      "3        Afraid of the Dark left me with the impression...\n",
      "4        A very accurate depiction of small time mob li...\n",
      "                               ...                        \n",
      "24995    Sony Pictures Classics, I'm looking at you! So...\n",
      "24996    I always felt that Ms. Merkerson had never got...\n",
      "24997    I was so disappointed in this movie. I am very...\n",
      "24998    From the opening sequence, filled with black a...\n",
      "24999    This is a great horror film for people who don...\n",
      "Name: review, Length: 25000, dtype: object\n",
      "Review 15000 of 0        Naturally in a film who's main themes are of m...\n",
      "1        This movie is a disaster within a disaster fil...\n",
      "2        All in all, this is a movie for kids. We saw i...\n",
      "3        Afraid of the Dark left me with the impression...\n",
      "4        A very accurate depiction of small time mob li...\n",
      "                               ...                        \n",
      "24995    Sony Pictures Classics, I'm looking at you! So...\n",
      "24996    I always felt that Ms. Merkerson had never got...\n",
      "24997    I was so disappointed in this movie. I am very...\n",
      "24998    From the opening sequence, filled with black a...\n",
      "24999    This is a great horror film for people who don...\n",
      "Name: review, Length: 25000, dtype: object\n",
      "Review 20000 of 0        Naturally in a film who's main themes are of m...\n",
      "1        This movie is a disaster within a disaster fil...\n",
      "2        All in all, this is a movie for kids. We saw i...\n",
      "3        Afraid of the Dark left me with the impression...\n",
      "4        A very accurate depiction of small time mob li...\n",
      "                               ...                        \n",
      "24995    Sony Pictures Classics, I'm looking at you! So...\n",
      "24996    I always felt that Ms. Merkerson had never got...\n",
      "24997    I was so disappointed in this movie. I am very...\n",
      "24998    From the opening sequence, filled with black a...\n",
      "24999    This is a great horror film for people who don...\n",
      "Name: review, Length: 25000, dtype: object\n",
      "Review 25000 of 0        Naturally in a film who's main themes are of m...\n",
      "1        This movie is a disaster within a disaster fil...\n",
      "2        All in all, this is a movie for kids. We saw i...\n",
      "3        Afraid of the Dark left me with the impression...\n",
      "4        A very accurate depiction of small time mob li...\n",
      "                               ...                        \n",
      "24995    Sony Pictures Classics, I'm looking at you! So...\n",
      "24996    I always felt that Ms. Merkerson had never got...\n",
      "24997    I was so disappointed in this movie. I am very...\n",
      "24998    From the opening sequence, filled with black a...\n",
      "24999    This is a great horror film for people who don...\n",
      "Name: review, Length: 25000, dtype: object\n"
     ]
    }
   ],
   "source": [
    "# 5000개 단위로 상태를 찍도록 개선, test data set도 동일하게 적용\n",
    "clean_train_reviews = []\n",
    "for i in range(0,len(train['review'])) :\n",
    "    if (i+1) % 5000 == 0:\n",
    "        print('Review {} of {}'.format(i+1, train['review']))\n",
    "    clean_train_reviews.append(review_to_words(train['review'][i]))\n",
    "    \n",
    "    \n",
    "clean_test_reviews = []\n",
    "for i in range(0,len(test['review'])) :\n",
    "    if (i+1) % 5000 == 0:\n",
    "        print('Review {} of {}'.format(i+1, test['review']))\n",
    "    clean_test_reviews.append(review_to_words(test['review'][i]))    \n",
    "    "
   ]
  },
  {
   "cell_type": "code",
   "execution_count": 14,
   "metadata": {},
   "outputs": [
    {
     "data": {
      "text/plain": [
       "<25000x20000 sparse matrix of type '<class 'numpy.int64'>'\n",
       "\twith 2757814 stored elements in Compressed Sparse Row format>"
      ]
     },
     "execution_count": 14,
     "metadata": {},
     "output_type": "execute_result"
    }
   ],
   "source": [
    "# 리뷰의 토큰을 피쳐로 변환\n",
    "from sklearn.feature_extraction.text import CountVectorizer\n",
    "from sklearn.pipeline import Pipeline\n",
    "\n",
    "# 튜토리얼과 다르게 파라미터 값을 수정\n",
    "vectorizer = CountVectorizer(analyzer = 'word', \n",
    "                             tokenizer = None,\n",
    "                             preprocessor = None, \n",
    "                             stop_words = None, \n",
    "                             min_df = 2, # 토큰이 나타날 최소 문서 개수\n",
    "                             ngram_range=(1, 3),\n",
    "                             max_features = 20000)\n",
    "\n",
    "# 속도 개선을 위해 파이프라인을 사용하도록 개선\n",
    "pipeline = Pipeline([('vect', vectorizer),])\n",
    "\n",
    "# 벡터화\n",
    "train_data_features = pipeline.fit_transform(clean_train_reviews)\n",
    "train_data_features\n",
    "\n"
   ]
  },
  {
   "cell_type": "code",
   "execution_count": 16,
   "metadata": {},
   "outputs": [
    {
     "data": {
      "text/plain": [
       "(25000, 20000)"
      ]
     },
     "execution_count": 16,
     "metadata": {},
     "output_type": "execute_result"
    }
   ],
   "source": [
    "train_data_features.shape"
   ]
  },
  {
   "cell_type": "code",
   "execution_count": 17,
   "metadata": {},
   "outputs": [
    {
     "name": "stdout",
     "output_type": "stream",
     "text": [
      "20000\n"
     ]
    },
    {
     "data": {
      "text/plain": [
       "['aag',\n",
       " 'aaron',\n",
       " 'ab',\n",
       " 'abandon',\n",
       " 'abbey',\n",
       " 'abbi',\n",
       " 'abbot',\n",
       " 'abbott',\n",
       " 'abc',\n",
       " 'abduct']"
      ]
     },
     "execution_count": 17,
     "metadata": {},
     "output_type": "execute_result"
    }
   ],
   "source": [
    "vocab = vectorizer.get_feature_names()\n",
    "print(len(vocab))\n",
    "vocab[:10]"
   ]
  },
  {
   "cell_type": "code",
   "execution_count": 18,
   "metadata": {},
   "outputs": [],
   "source": [
    "from sklearn.ensemble import RandomForestClassifier\n",
    "\n",
    "# 랜덤포레스트 분류기를 사용\n",
    "forest = RandomForestClassifier(n_estimators = 100, n_jobs = -1, random_state=2018)\n",
    "forest = forest.fit(train_data_features, train['sentiment'])"
   ]
  },
  {
   "cell_type": "code",
   "execution_count": 19,
   "metadata": {},
   "outputs": [],
   "source": [
    "from sklearn.model_selection import cross_val_score\n",
    "score = np.mean(cross_val_score(forest,train_data_features,train['sentiment'], cv=10, scoring='roc_auc'))"
   ]
  },
  {
   "cell_type": "code",
   "execution_count": 20,
   "metadata": {},
   "outputs": [
    {
     "data": {
      "text/plain": [
       "0.9269520960000002"
      ]
     },
     "execution_count": 20,
     "metadata": {},
     "output_type": "execute_result"
    }
   ],
   "source": [
    "score"
   ]
  },
  {
   "cell_type": "code",
   "execution_count": 21,
   "metadata": {},
   "outputs": [],
   "source": [
    "# test 데이터를 벡터화 함\n",
    "test_data_features = pipeline.transform(clean_test_reviews)\n",
    "test_data_features = test_data_features.toarray()\n",
    "\n",
    "# 벡터화한 test 데이터를 넣고 예측한다.\n",
    "result = forest.predict(test_data_features)"
   ]
  },
  {
   "cell_type": "code",
   "execution_count": 23,
   "metadata": {},
   "outputs": [
    {
     "data": {
      "text/html": [
       "<div>\n",
       "<style scoped>\n",
       "    .dataframe tbody tr th:only-of-type {\n",
       "        vertical-align: middle;\n",
       "    }\n",
       "\n",
       "    .dataframe tbody tr th {\n",
       "        vertical-align: top;\n",
       "    }\n",
       "\n",
       "    .dataframe thead th {\n",
       "        text-align: right;\n",
       "    }\n",
       "</style>\n",
       "<table border=\"1\" class=\"dataframe\">\n",
       "  <thead>\n",
       "    <tr style=\"text-align: right;\">\n",
       "      <th></th>\n",
       "      <th>id</th>\n",
       "      <th>sentent</th>\n",
       "    </tr>\n",
       "  </thead>\n",
       "  <tbody>\n",
       "    <tr>\n",
       "      <th>0</th>\n",
       "      <td>12311_10</td>\n",
       "      <td>1</td>\n",
       "    </tr>\n",
       "    <tr>\n",
       "      <th>1</th>\n",
       "      <td>8348_2</td>\n",
       "      <td>0</td>\n",
       "    </tr>\n",
       "    <tr>\n",
       "      <th>2</th>\n",
       "      <td>5828_4</td>\n",
       "      <td>1</td>\n",
       "    </tr>\n",
       "    <tr>\n",
       "      <th>3</th>\n",
       "      <td>7186_2</td>\n",
       "      <td>1</td>\n",
       "    </tr>\n",
       "    <tr>\n",
       "      <th>4</th>\n",
       "      <td>12128_7</td>\n",
       "      <td>1</td>\n",
       "    </tr>\n",
       "  </tbody>\n",
       "</table>\n",
       "</div>"
      ],
      "text/plain": [
       "         id  sentent\n",
       "0  12311_10        1\n",
       "1    8348_2        0\n",
       "2    5828_4        1\n",
       "3    7186_2        1\n",
       "4   12128_7        1"
      ]
     },
     "execution_count": 23,
     "metadata": {},
     "output_type": "execute_result"
    }
   ],
   "source": [
    "output = pd.DataFrame(data = {'id':test['id'], 'sentent':result})\n",
    "output.head()"
   ]
  },
  {
   "cell_type": "code",
   "execution_count": 24,
   "metadata": {},
   "outputs": [
    {
     "data": {
      "text/plain": [
       "array([1, 0, 1, ..., 0, 1, 0], dtype=int64)"
      ]
     },
     "execution_count": 24,
     "metadata": {},
     "output_type": "execute_result"
    }
   ],
   "source": [
    "result"
   ]
  },
  {
   "cell_type": "code",
   "execution_count": 25,
   "metadata": {},
   "outputs": [],
   "source": [
    "good = 0;\n",
    "bad  = 0\n",
    "for r in result:\n",
    "    if r == 1:\n",
    "        good += 1\n",
    "    else :\n",
    "        bad += 1"
   ]
  },
  {
   "cell_type": "code",
   "execution_count": 31,
   "metadata": {},
   "outputs": [
    {
     "data": {
      "text/plain": [
       "25000"
      ]
     },
     "execution_count": 31,
     "metadata": {},
     "output_type": "execute_result"
    }
   ],
   "source": [
    "len(result)"
   ]
  },
  {
   "cell_type": "code",
   "execution_count": 35,
   "metadata": {},
   "outputs": [],
   "source": [
    "good = good / len(result)"
   ]
  },
  {
   "cell_type": "code",
   "execution_count": 36,
   "metadata": {},
   "outputs": [],
   "source": [
    "bad = bad / len(result)"
   ]
  },
  {
   "cell_type": "code",
   "execution_count": 51,
   "metadata": {},
   "outputs": [
    {
     "name": "stdout",
     "output_type": "stream",
     "text": [
      "긍정적 리뷰 비율 : 0.49992 부정적 리뷰 비율 : 0.50008 "
     ]
    }
   ],
   "source": [
    "print('긍정적 리뷰 비율 :',good ,end = ' ')\n",
    "print('부정적 리뷰 비율 :',bad ,end = ' ')"
   ]
  },
  {
   "cell_type": "code",
   "execution_count": null,
   "metadata": {},
   "outputs": [],
   "source": []
  }
 ],
 "metadata": {
  "kernelspec": {
   "display_name": "Python 3",
   "language": "python",
   "name": "python3"
  },
  "language_info": {
   "codemirror_mode": {
    "name": "ipython",
    "version": 3
   },
   "file_extension": ".py",
   "mimetype": "text/x-python",
   "name": "python",
   "nbconvert_exporter": "python",
   "pygments_lexer": "ipython3",
   "version": "3.7.7"
  }
 },
 "nbformat": 4,
 "nbformat_minor": 4
}
