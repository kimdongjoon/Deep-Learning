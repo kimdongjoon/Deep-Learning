{
 "cells": [
  {
   "cell_type": "markdown",
   "metadata": {},
   "source": [
    "# Cifar-100 이미지 분류\n",
    "## 전체 데이터중 일부분만 사용\n",
    "### 모델 출처: Divya Agarwal\n",
    "#### CIFAR100 데이터 로드"
   ]
  },
  {
   "cell_type": "code",
   "execution_count": 1,
   "metadata": {},
   "outputs": [],
   "source": [
    "import tensorflow as tf\n",
    "from tensorflow.keras.datasets import cifar100\n",
    "(X_train, y_train), (X_test, y_test) = cifar100.load_data(label_mode='fine')"
   ]
  },
  {
   "cell_type": "code",
   "execution_count": 2,
   "metadata": {},
   "outputs": [
    {
     "data": {
      "text/plain": [
       "((50000, 32, 32, 3), (10000, 32, 32, 3))"
      ]
     },
     "execution_count": 2,
     "metadata": {},
     "output_type": "execute_result"
    }
   ],
   "source": [
    "X_train.shape, X_test.shape"
   ]
  },
  {
   "cell_type": "code",
   "execution_count": 27,
   "metadata": {},
   "outputs": [
    {
     "data": {
      "text/plain": [
       "array([[0., 0., 0., 0., 0., 0., 0., 0., 0., 0., 0., 0., 0., 0., 0., 0.,\n",
       "        0., 0., 0., 0., 0., 0., 0., 0., 0., 0., 0., 0., 0., 0., 0., 0.,\n",
       "        0., 0., 0., 0., 0., 0., 0., 0., 0., 0., 0., 0., 0., 0., 0., 0.,\n",
       "        0., 0., 0., 0., 0., 0., 0., 0., 0., 0., 1., 0., 0., 0., 0., 0.,\n",
       "        0., 0., 0., 0., 0., 0., 0., 0., 0., 0., 0., 0., 0., 0., 0., 0.,\n",
       "        0., 0., 0., 0., 0., 0., 0., 0., 0., 0., 0., 0., 0., 0., 0., 0.,\n",
       "        0., 0., 0., 0.],\n",
       "       [0., 0., 0., 0., 0., 0., 0., 0., 0., 0., 0., 0., 0., 0., 0., 0.,\n",
       "        0., 0., 0., 0., 0., 0., 0., 0., 0., 0., 0., 0., 0., 0., 0., 0.,\n",
       "        0., 0., 0., 0., 0., 0., 0., 0., 0., 0., 0., 0., 0., 0., 0., 0.,\n",
       "        0., 0., 0., 0., 0., 0., 0., 0., 0., 0., 0., 0., 0., 0., 0., 0.,\n",
       "        0., 0., 0., 0., 0., 0., 0., 0., 0., 0., 0., 0., 0., 0., 0., 0.,\n",
       "        0., 0., 0., 0., 0., 1., 0., 0., 0., 0., 0., 0., 0., 0., 0., 0.,\n",
       "        0., 0., 0., 0.],\n",
       "       [0., 0., 0., 0., 0., 0., 0., 0., 0., 0., 0., 0., 0., 0., 0., 0.,\n",
       "        0., 0., 0., 0., 0., 0., 0., 0., 0., 0., 0., 0., 0., 0., 0., 0.,\n",
       "        0., 0., 0., 0., 0., 0., 0., 0., 0., 0., 0., 0., 0., 0., 0., 0.,\n",
       "        0., 0., 0., 0., 0., 0., 0., 0., 0., 0., 0., 0., 0., 0., 0., 0.,\n",
       "        0., 0., 0., 0., 1., 0., 0., 0., 0., 0., 0., 0., 0., 0., 0., 0.,\n",
       "        0., 0., 0., 0., 0., 0., 0., 0., 0., 0., 0., 0., 0., 0., 0., 0.,\n",
       "        0., 0., 0., 0.],\n",
       "       [0., 0., 0., 0., 0., 0., 0., 0., 0., 0., 0., 0., 0., 0., 0., 0.,\n",
       "        0., 0., 0., 0., 0., 0., 0., 0., 0., 0., 0., 0., 0., 0., 0., 0.,\n",
       "        0., 0., 0., 0., 0., 0., 0., 0., 0., 0., 1., 0., 0., 0., 0., 0.,\n",
       "        0., 0., 0., 0., 0., 0., 0., 0., 0., 0., 0., 0., 0., 0., 0., 0.,\n",
       "        0., 0., 0., 0., 0., 0., 0., 0., 0., 0., 0., 0., 0., 0., 0., 0.,\n",
       "        0., 0., 0., 0., 0., 0., 0., 0., 0., 0., 0., 0., 0., 0., 0., 0.,\n",
       "        0., 0., 0., 0.],\n",
       "       [0., 0., 0., 0., 0., 0., 0., 0., 0., 0., 0., 0., 0., 0., 0., 0.,\n",
       "        0., 0., 0., 0., 0., 0., 0., 0., 0., 0., 0., 0., 0., 0., 0., 0.,\n",
       "        0., 0., 0., 0., 0., 0., 0., 0., 0., 0., 0., 0., 0., 0., 0., 0.,\n",
       "        0., 0., 0., 0., 0., 0., 0., 0., 0., 0., 0., 0., 0., 0., 0., 0.,\n",
       "        0., 0., 0., 0., 0., 0., 0., 0., 0., 0., 0., 0., 0., 0., 0., 0.,\n",
       "        0., 0., 0., 0., 0., 0., 0., 0., 0., 0., 0., 0., 0., 0., 0., 0.,\n",
       "        1., 0., 0., 0.],\n",
       "       [0., 0., 0., 0., 0., 0., 0., 0., 0., 0., 0., 0., 0., 0., 0., 0.,\n",
       "        0., 1., 0., 0., 0., 0., 0., 0., 0., 0., 0., 0., 0., 0., 0., 0.,\n",
       "        0., 0., 0., 0., 0., 0., 0., 0., 0., 0., 0., 0., 0., 0., 0., 0.,\n",
       "        0., 0., 0., 0., 0., 0., 0., 0., 0., 0., 0., 0., 0., 0., 0., 0.,\n",
       "        0., 0., 0., 0., 0., 0., 0., 0., 0., 0., 0., 0., 0., 0., 0., 0.,\n",
       "        0., 0., 0., 0., 0., 0., 0., 0., 0., 0., 0., 0., 0., 0., 0., 0.,\n",
       "        0., 0., 0., 0.],\n",
       "       [0., 0., 0., 0., 0., 0., 0., 0., 0., 0., 0., 0., 0., 0., 0., 0.,\n",
       "        0., 0., 0., 0., 0., 0., 0., 1., 0., 0., 0., 0., 0., 0., 0., 0.,\n",
       "        0., 0., 0., 0., 0., 0., 0., 0., 0., 0., 0., 0., 0., 0., 0., 0.,\n",
       "        0., 0., 0., 0., 0., 0., 0., 0., 0., 0., 0., 0., 0., 0., 0., 0.,\n",
       "        0., 0., 0., 0., 0., 0., 0., 0., 0., 0., 0., 0., 0., 0., 0., 0.,\n",
       "        0., 0., 0., 0., 0., 0., 0., 0., 0., 0., 0., 0., 0., 0., 0., 0.,\n",
       "        0., 0., 0., 0.],\n",
       "       [0., 0., 0., 0., 0., 0., 0., 0., 0., 0., 0., 0., 0., 0., 0., 0.,\n",
       "        0., 0., 0., 0., 0., 0., 0., 0., 0., 0., 0., 0., 0., 0., 0., 0.,\n",
       "        0., 0., 0., 0., 0., 0., 0., 0., 0., 0., 0., 0., 0., 0., 0., 0.,\n",
       "        0., 0., 0., 0., 0., 0., 0., 0., 0., 0., 0., 0., 0., 0., 0., 0.,\n",
       "        0., 0., 1., 0., 0., 0., 0., 0., 0., 0., 0., 0., 0., 0., 0., 0.,\n",
       "        0., 0., 0., 0., 0., 0., 0., 0., 0., 0., 0., 0., 0., 0., 0., 0.,\n",
       "        0., 0., 0., 0.],\n",
       "       [0., 0., 0., 0., 0., 0., 0., 0., 0., 0., 0., 0., 0., 0., 0., 0.,\n",
       "        0., 0., 0., 0., 0., 0., 0., 0., 0., 0., 0., 0., 0., 0., 0., 0.,\n",
       "        0., 0., 0., 0., 0., 0., 0., 0., 0., 0., 0., 0., 0., 0., 0., 0.,\n",
       "        0., 0., 0., 0., 0., 0., 0., 0., 0., 0., 0., 0., 1., 0., 0., 0.,\n",
       "        0., 0., 0., 0., 0., 0., 0., 0., 0., 0., 0., 0., 0., 0., 0., 0.,\n",
       "        0., 0., 0., 0., 0., 0., 0., 0., 0., 0., 0., 0., 0., 0., 0., 0.,\n",
       "        0., 0., 0., 0.],\n",
       "       [0., 0., 0., 0., 0., 0., 0., 0., 0., 0., 0., 0., 0., 0., 0., 0.,\n",
       "        0., 0., 0., 0., 0., 0., 0., 0., 0., 0., 0., 0., 0., 0., 0., 0.,\n",
       "        0., 0., 0., 0., 1., 0., 0., 0., 0., 0., 0., 0., 0., 0., 0., 0.,\n",
       "        0., 0., 0., 0., 0., 0., 0., 0., 0., 0., 0., 0., 0., 0., 0., 0.,\n",
       "        0., 0., 0., 0., 0., 0., 0., 0., 0., 0., 0., 0., 0., 0., 0., 0.,\n",
       "        0., 0., 0., 0., 0., 0., 0., 0., 0., 0., 0., 0., 0., 0., 0., 0.,\n",
       "        0., 0., 0., 0.]], dtype=float32)"
      ]
     },
     "execution_count": 27,
     "metadata": {},
     "output_type": "execute_result"
    }
   ],
   "source": [
    "y_train[:10]"
   ]
  },
  {
   "cell_type": "code",
   "execution_count": 3,
   "metadata": {},
   "outputs": [
    {
     "data": {
      "image/png": "[encoded data removed]",
      "text/plain": [
       "<Figure size 432x288 with 4 Axes>"
      ]
     },
     "metadata": {
      "needs_background": "light"
     },
     "output_type": "display_data"
    }
   ],
   "source": [
    "import matplotlib as mpl\n",
    "import matplotlib.pyplot as plt\n",
    "%matplotlib inline\n",
    "\n",
    "plt.subplot(141)\n",
    "plt.imshow(X_train[0], interpolation=\"bicubic\")\n",
    "plt.grid(False)\n",
    "plt.subplot(142)\n",
    "plt.imshow(X_train[4], interpolation=\"bicubic\")\n",
    "plt.grid(False)\n",
    "plt.subplot(143)\n",
    "plt.imshow(X_train[8], interpolation=\"bicubic\")\n",
    "plt.grid(False)\n",
    "plt.subplot(144)\n",
    "plt.imshow(X_train[12], interpolation=\"bicubic\")\n",
    "plt.grid(False)\n",
    "plt.show()"
   ]
  },
  {
   "cell_type": "code",
   "execution_count": 4,
   "metadata": {},
   "outputs": [
    {
     "data": {
      "text/plain": [
       "(array([19]), array([1]), array([23]), array([82]))"
      ]
     },
     "execution_count": 4,
     "metadata": {},
     "output_type": "execute_result"
    }
   ],
   "source": [
    "\n",
    "\n",
    "y_train[0], y_train[4], y_train[8], y_train[12]"
   ]
  },
  {
   "cell_type": "code",
   "execution_count": 5,
   "metadata": {},
   "outputs": [],
   "source": [
    "# CIFAR100_LABLES[y_train[0][0]], CIFAR100_LABELS[y_train[4][0]], \\\n",
    "# CIFAR100_LABLES[y_train[8][0]], CIFAR100_LABELS[y_train[12][0]]  \n",
    "\n"
   ]
  },
  {
   "cell_type": "markdown",
   "metadata": {},
   "source": [
    "### 자료형 변환 및 스케일링\n",
    "- X: 실수형으로 정규화\n",
    "- Y: 1-hot encoding"
   ]
  },
  {
   "cell_type": "code",
   "execution_count": 6,
   "metadata": {},
   "outputs": [
    {
     "name": "stdout",
     "output_type": "stream",
     "text": [
      "(50000, 32, 32, 3) float32\n"
     ]
    }
   ],
   "source": [
    "X_train = X_train.astype('float32')/255.0\n",
    "X_test = X_test.astype('float32')/255.0\n",
    "\n",
    "print(X_train.shape, X_train.dtype)"
   ]
  },
  {
   "cell_type": "code",
   "execution_count": 7,
   "metadata": {},
   "outputs": [
    {
     "data": {
      "text/plain": [
       "array([[0., 0., 0., 0., 0., 0., 0., 0., 0., 0., 0., 0., 0., 0., 0., 0.,\n",
       "        0., 0., 0., 1., 0., 0., 0., 0., 0., 0., 0., 0., 0., 0., 0., 0.,\n",
       "        0., 0., 0., 0., 0., 0., 0., 0., 0., 0., 0., 0., 0., 0., 0., 0.,\n",
       "        0., 0., 0., 0., 0., 0., 0., 0., 0., 0., 0., 0., 0., 0., 0., 0.,\n",
       "        0., 0., 0., 0., 0., 0., 0., 0., 0., 0., 0., 0., 0., 0., 0., 0.,\n",
       "        0., 0., 0., 0., 0., 0., 0., 0., 0., 0., 0., 0., 0., 0., 0., 0.,\n",
       "        0., 0., 0., 0.],\n",
       "       [0., 0., 0., 0., 0., 0., 0., 0., 0., 0., 0., 0., 0., 0., 0., 0.,\n",
       "        0., 0., 0., 0., 0., 0., 0., 0., 0., 0., 0., 0., 0., 1., 0., 0.,\n",
       "        0., 0., 0., 0., 0., 0., 0., 0., 0., 0., 0., 0., 0., 0., 0., 0.,\n",
       "        0., 0., 0., 0., 0., 0., 0., 0., 0., 0., 0., 0., 0., 0., 0., 0.,\n",
       "        0., 0., 0., 0., 0., 0., 0., 0., 0., 0., 0., 0., 0., 0., 0., 0.,\n",
       "        0., 0., 0., 0., 0., 0., 0., 0., 0., 0., 0., 0., 0., 0., 0., 0.,\n",
       "        0., 0., 0., 0.]], dtype=float32)"
      ]
     },
     "execution_count": 7,
     "metadata": {},
     "output_type": "execute_result"
    }
   ],
   "source": [
    "\n",
    "y_train = tf.keras.utils.to_categorical(y_train, 100)\n",
    "y_test = tf.keras.utils.to_categorical(y_test, 100)\n",
    "y_train[:2]"
   ]
  },
  {
   "cell_type": "markdown",
   "metadata": {},
   "source": [
    "#### 자료의 일부만 사용하여 모델 테스트 하기"
   ]
  },
  {
   "cell_type": "code",
   "execution_count": 8,
   "metadata": {},
   "outputs": [],
   "source": [
    "from sklearn.model_selection import train_test_split\n",
    "\n",
    "seed = 0\n",
    "X_train, X_test, y_train, y_test = train_test_split(X_test, y_test, \n",
    "                                                    test_size=.2, random_state=seed)"
   ]
  },
  {
   "cell_type": "code",
   "execution_count": 9,
   "metadata": {},
   "outputs": [],
   "source": [
    "\n",
    "from tensorflow.keras.models import Sequential\n",
    "from tensorflow.keras.layers import Conv2D, MaxPooling2D, Flatten, Dense, Dropout\n",
    "from tensorflow.keras.layers import Activation\n",
    "import numpy as np\n",
    "\n",
    "np.random.seed(0)"
   ]
  },
  {
   "cell_type": "code",
   "execution_count": 10,
   "metadata": {},
   "outputs": [
    {
     "name": "stdout",
     "output_type": "stream",
     "text": [
      "Model: \"sequential\"\n",
      "_________________________________________________________________\n",
      "Layer (type)                 Output Shape              Param #   \n",
      "=================================================================\n",
      "conv2d (Conv2D)              (None, 32, 32, 32)        896       \n",
      "_________________________________________________________________\n",
      "activation (Activation)      (None, 32, 32, 32)        0         \n",
      "_________________________________________________________________\n",
      "max_pooling2d (MaxPooling2D) (None, 16, 16, 32)        0         \n",
      "_________________________________________________________________\n",
      "activation_1 (Activation)    (None, 16, 16, 32)        0         \n",
      "_________________________________________________________________\n",
      "conv2d_1 (Conv2D)            (None, 16, 16, 64)        18496     \n",
      "_________________________________________________________________\n",
      "activation_2 (Activation)    (None, 16, 16, 64)        0         \n",
      "_________________________________________________________________\n",
      "max_pooling2d_1 (MaxPooling2 (None, 8, 8, 64)          0         \n",
      "_________________________________________________________________\n",
      "activation_3 (Activation)    (None, 8, 8, 64)          0         \n",
      "_________________________________________________________________\n",
      "dropout (Dropout)            (None, 8, 8, 64)          0         \n",
      "_________________________________________________________________\n",
      "conv2d_2 (Conv2D)            (None, 8, 8, 128)         73856     \n",
      "_________________________________________________________________\n",
      "activation_4 (Activation)    (None, 8, 8, 128)         0         \n",
      "_________________________________________________________________\n",
      "max_pooling2d_2 (MaxPooling2 (None, 4, 4, 128)         0         \n",
      "_________________________________________________________________\n",
      "dropout_1 (Dropout)          (None, 4, 4, 128)         0         \n",
      "_________________________________________________________________\n",
      "flatten (Flatten)            (None, 2048)              0         \n",
      "_________________________________________________________________\n",
      "dense (Dense)                (None, 512)               1049088   \n",
      "_________________________________________________________________\n",
      "activation_5 (Activation)    (None, 512)               0         \n",
      "_________________________________________________________________\n",
      "dropout_2 (Dropout)          (None, 512)               0         \n",
      "_________________________________________________________________\n",
      "dense_1 (Dense)              (None, 100)               51300     \n",
      "_________________________________________________________________\n",
      "activation_6 (Activation)    (None, 100)               0         \n",
      "=================================================================\n",
      "Total params: 1,193,636\n",
      "Trainable params: 1,193,636\n",
      "Non-trainable params: 0\n",
      "_________________________________________________________________\n"
     ]
    }
   ],
   "source": [
    "model = Sequential()\n",
    "\n",
    "# Input Layer\n",
    "model.add(Conv2D(32, (3,3), padding='same', input_shape = X_train.shape[1:]))\n",
    "model.add(Activation('relu'))\n",
    "# MAXPOOL Layer 1\n",
    "model.add(MaxPooling2D(pool_size=(2, 2)))\n",
    "model.add(Activation('relu'))\n",
    "# CONV2D Layer 2\n",
    "model.add(Conv2D(64, (3,3), padding='same'))\n",
    "model.add(Activation('relu'))\n",
    "# MAXPOOL Layer 2\n",
    "model.add(MaxPooling2D(pool_size=(2, 2)))\n",
    "model.add(Activation('relu'))\n",
    "# Add a dropout of 10%\n",
    "model.add(Dropout(0.1))\n",
    "# CONV2D Layer 3\n",
    "model.add(Conv2D(128, (3,3), padding='same'))\n",
    "model.add(Activation('relu'))\n",
    "# MAXPOOL Layer 3\n",
    "model.add(MaxPooling2D(pool_size=(2,2)))\n",
    "# Add dropout of 25%\n",
    "model.add(Dropout(0.25))\n",
    "# flatten \n",
    "model.add(Flatten())\n",
    "# Fully Connected Layer 1\n",
    "model.add(Dense(512))\n",
    "model.add(Activation('relu'))\n",
    "# Adding a dropout of 50%\n",
    "model.add(Dropout(0.5))\n",
    "# Output Layer (Fully Connected Layer 2) \n",
    "model.add(Dense(100))\n",
    "model.add(Activation('softmax'))\n",
    "          \n",
    "model.summary()"
   ]
  },
  {
   "cell_type": "code",
   "execution_count": 11,
   "metadata": {},
   "outputs": [],
   "source": [
    "opt = tf.keras.optimizers.Adam(lr=0.0001)\n",
    "model.compile(loss='categorical_crossentropy', optimizer=opt, metrics=['accuracy'])"
   ]
  },
  {
   "cell_type": "code",
   "execution_count": 13,
   "metadata": {},
   "outputs": [
    {
     "name": "stdout",
     "output_type": "stream",
     "text": [
      "Train on 8000 samples, validate on 2000 samples\n",
      "Epoch 1/100\n",
      "8000/8000 [==============================] - 7s 916us/sample - loss: 4.6053 - accuracy: 0.0114 - val_loss: 4.5851 - val_accuracy: 0.0150\n",
      "Epoch 2/100\n",
      "8000/8000 [==============================] - 7s 852us/sample - loss: 4.5355 - accuracy: 0.0230 - val_loss: 4.4350 - val_accuracy: 0.0260\n",
      "Epoch 3/100\n",
      "8000/8000 [==============================] - 7s 847us/sample - loss: 4.4030 - accuracy: 0.0341 - val_loss: 4.3118 - val_accuracy: 0.0570\n",
      "Epoch 4/100\n",
      "8000/8000 [==============================] - 7s 850us/sample - loss: 4.3009 - accuracy: 0.0454 - val_loss: 4.1981 - val_accuracy: 0.0675\n",
      "Epoch 5/100\n",
      "8000/8000 [==============================] - 7s 857us/sample - loss: 4.2094 - accuracy: 0.0540 - val_loss: 4.0922 - val_accuracy: 0.1015\n",
      "Epoch 6/100\n",
      "8000/8000 [==============================] - 7s 859us/sample - loss: 4.1121 - accuracy: 0.0740 - val_loss: 4.0080 - val_accuracy: 0.1125\n",
      "Epoch 7/100\n",
      "8000/8000 [==============================] - 7s 857us/sample - loss: 4.0277 - accuracy: 0.0876 - val_loss: 3.9074 - val_accuracy: 0.1260\n",
      "Epoch 8/100\n",
      "8000/8000 [==============================] - 7s 857us/sample - loss: 3.9437 - accuracy: 0.0984 - val_loss: 3.8319 - val_accuracy: 0.1445\n",
      "Epoch 9/100\n",
      "8000/8000 [==============================] - 7s 858us/sample - loss: 3.8753 - accuracy: 0.1095 - val_loss: 3.7647 - val_accuracy: 0.1540\n",
      "Epoch 10/100\n",
      "8000/8000 [==============================] - 7s 859us/sample - loss: 3.8072 - accuracy: 0.1222 - val_loss: 3.7047 - val_accuracy: 0.1550\n",
      "Epoch 11/100\n",
      "8000/8000 [==============================] - 7s 861us/sample - loss: 3.7537 - accuracy: 0.1321 - val_loss: 3.6683 - val_accuracy: 0.1620\n",
      "Epoch 12/100\n",
      "8000/8000 [==============================] - 7s 861us/sample - loss: 3.6881 - accuracy: 0.1394 - val_loss: 3.6258 - val_accuracy: 0.1770\n",
      "Epoch 13/100\n",
      "8000/8000 [==============================] - 7s 857us/sample - loss: 3.6314 - accuracy: 0.1519 - val_loss: 3.5743 - val_accuracy: 0.1920\n",
      "Epoch 14/100\n",
      "8000/8000 [==============================] - 7s 859us/sample - loss: 3.5854 - accuracy: 0.1641 - val_loss: 3.5563 - val_accuracy: 0.1890\n",
      "Epoch 15/100\n",
      "8000/8000 [==============================] - 7s 858us/sample - loss: 3.5490 - accuracy: 0.1676 - val_loss: 3.5057 - val_accuracy: 0.1880\n",
      "Epoch 16/100\n",
      "8000/8000 [==============================] - 7s 862us/sample - loss: 3.4720 - accuracy: 0.1784 - val_loss: 3.4733 - val_accuracy: 0.2005\n",
      "Epoch 17/100\n",
      "8000/8000 [==============================] - 7s 867us/sample - loss: 3.4422 - accuracy: 0.1891 - val_loss: 3.4643 - val_accuracy: 0.1985\n",
      "Epoch 18/100\n",
      "8000/8000 [==============================] - 7s 863us/sample - loss: 3.3958 - accuracy: 0.1920 - val_loss: 3.4385 - val_accuracy: 0.2055\n",
      "Epoch 19/100\n",
      "8000/8000 [==============================] - 7s 867us/sample - loss: 3.3555 - accuracy: 0.2007 - val_loss: 3.3854 - val_accuracy: 0.2145\n",
      "Epoch 20/100\n",
      "8000/8000 [==============================] - 7s 861us/sample - loss: 3.3300 - accuracy: 0.2064 - val_loss: 3.3645 - val_accuracy: 0.2225\n",
      "Epoch 21/100\n",
      "8000/8000 [==============================] - 7s 869us/sample - loss: 3.2673 - accuracy: 0.2142 - val_loss: 3.3366 - val_accuracy: 0.2245\n",
      "Epoch 22/100\n",
      "8000/8000 [==============================] - 7s 866us/sample - loss: 3.2347 - accuracy: 0.2184 - val_loss: 3.3188 - val_accuracy: 0.2230\n",
      "Epoch 23/100\n",
      "8000/8000 [==============================] - 7s 863us/sample - loss: 3.1929 - accuracy: 0.2306 - val_loss: 3.3078 - val_accuracy: 0.2280\n",
      "Epoch 24/100\n",
      "8000/8000 [==============================] - 7s 859us/sample - loss: 3.1540 - accuracy: 0.2342 - val_loss: 3.2708 - val_accuracy: 0.2375\n",
      "Epoch 25/100\n",
      "8000/8000 [==============================] - 7s 856us/sample - loss: 3.1255 - accuracy: 0.2404 - val_loss: 3.2689 - val_accuracy: 0.2315\n",
      "Epoch 26/100\n",
      "8000/8000 [==============================] - 7s 857us/sample - loss: 3.0807 - accuracy: 0.2549 - val_loss: 3.2378 - val_accuracy: 0.2355\n",
      "Epoch 27/100\n",
      "8000/8000 [==============================] - 7s 858us/sample - loss: 3.0480 - accuracy: 0.2560 - val_loss: 3.2551 - val_accuracy: 0.2360\n",
      "Epoch 28/100\n",
      "8000/8000 [==============================] - 7s 869us/sample - loss: 3.0103 - accuracy: 0.2624 - val_loss: 3.2057 - val_accuracy: 0.2450\n",
      "Epoch 29/100\n",
      "8000/8000 [==============================] - 7s 875us/sample - loss: 2.9670 - accuracy: 0.2635 - val_loss: 3.2133 - val_accuracy: 0.2370\n",
      "Epoch 30/100\n",
      "8000/8000 [==============================] - 7s 868us/sample - loss: 2.9347 - accuracy: 0.2756 - val_loss: 3.1853 - val_accuracy: 0.2490\n",
      "Epoch 31/100\n",
      "8000/8000 [==============================] - 7s 860us/sample - loss: 2.9057 - accuracy: 0.2815 - val_loss: 3.1683 - val_accuracy: 0.2450\n",
      "Epoch 32/100\n",
      "8000/8000 [==============================] - 7s 861us/sample - loss: 2.8519 - accuracy: 0.2851 - val_loss: 3.1601 - val_accuracy: 0.2535\n",
      "Epoch 33/100\n",
      "8000/8000 [==============================] - 7s 873us/sample - loss: 2.8376 - accuracy: 0.2866 - val_loss: 3.1444 - val_accuracy: 0.2575\n",
      "Epoch 34/100\n",
      "8000/8000 [==============================] - 7s 867us/sample - loss: 2.7800 - accuracy: 0.3076 - val_loss: 3.1470 - val_accuracy: 0.2500\n",
      "Epoch 35/100\n",
      "8000/8000 [==============================] - 7s 864us/sample - loss: 2.7594 - accuracy: 0.3072 - val_loss: 3.1286 - val_accuracy: 0.2530\n",
      "Epoch 36/100\n",
      "8000/8000 [==============================] - 7s 876us/sample - loss: 2.7223 - accuracy: 0.3166 - val_loss: 3.1115 - val_accuracy: 0.2620\n",
      "Epoch 37/100\n",
      "8000/8000 [==============================] - 7s 863us/sample - loss: 2.6889 - accuracy: 0.3299 - val_loss: 3.1094 - val_accuracy: 0.2655\n",
      "Epoch 38/100\n",
      "8000/8000 [==============================] - 7s 863us/sample - loss: 2.6780 - accuracy: 0.3184 - val_loss: 3.1035 - val_accuracy: 0.2685\n",
      "Epoch 39/100\n",
      "8000/8000 [==============================] - 7s 867us/sample - loss: 2.6256 - accuracy: 0.3260 - val_loss: 3.0954 - val_accuracy: 0.2665\n",
      "Epoch 40/100\n",
      "8000/8000 [==============================] - 7s 870us/sample - loss: 2.5911 - accuracy: 0.3440 - val_loss: 3.0893 - val_accuracy: 0.2710\n",
      "Epoch 41/100\n",
      "8000/8000 [==============================] - 7s 866us/sample - loss: 2.5727 - accuracy: 0.3416 - val_loss: 3.0949 - val_accuracy: 0.2675\n",
      "Epoch 42/100\n",
      "8000/8000 [==============================] - 7s 863us/sample - loss: 2.5307 - accuracy: 0.3441 - val_loss: 3.0702 - val_accuracy: 0.2740\n",
      "Epoch 43/100\n",
      "8000/8000 [==============================] - 7s 862us/sample - loss: 2.5072 - accuracy: 0.3579 - val_loss: 3.0571 - val_accuracy: 0.2805\n",
      "Epoch 44/100\n",
      "8000/8000 [==============================] - 7s 860us/sample - loss: 2.4518 - accuracy: 0.3701 - val_loss: 3.0816 - val_accuracy: 0.2750\n",
      "Epoch 45/100\n",
      "8000/8000 [==============================] - 7s 861us/sample - loss: 2.4364 - accuracy: 0.3721 - val_loss: 3.0447 - val_accuracy: 0.2825\n",
      "Epoch 46/100\n",
      "8000/8000 [==============================] - 7s 859us/sample - loss: 2.3999 - accuracy: 0.3837 - val_loss: 3.0352 - val_accuracy: 0.2820\n",
      "Epoch 47/100\n",
      "8000/8000 [==============================] - 7s 864us/sample - loss: 2.3677 - accuracy: 0.3866 - val_loss: 3.0452 - val_accuracy: 0.2820\n",
      "Epoch 48/100\n",
      "8000/8000 [==============================] - 7s 862us/sample - loss: 2.3318 - accuracy: 0.3885 - val_loss: 3.0237 - val_accuracy: 0.2815\n",
      "Epoch 49/100\n",
      "8000/8000 [==============================] - 7s 864us/sample - loss: 2.3185 - accuracy: 0.3999 - val_loss: 3.0310 - val_accuracy: 0.2795\n",
      "Epoch 50/100\n",
      "8000/8000 [==============================] - 7s 867us/sample - loss: 2.2915 - accuracy: 0.4010 - val_loss: 3.0349 - val_accuracy: 0.2840\n",
      "Epoch 51/100\n",
      "8000/8000 [==============================] - 7s 865us/sample - loss: 2.2352 - accuracy: 0.4121 - val_loss: 3.0251 - val_accuracy: 0.2830\n",
      "Epoch 52/100\n",
      "8000/8000 [==============================] - 7s 863us/sample - loss: 2.2106 - accuracy: 0.4215 - val_loss: 3.0352 - val_accuracy: 0.2760\n",
      "Epoch 53/100\n",
      "8000/8000 [==============================] - 7s 863us/sample - loss: 2.1948 - accuracy: 0.4195 - val_loss: 3.0410 - val_accuracy: 0.2780\n",
      "Epoch 54/100\n",
      "8000/8000 [==============================] - 7s 865us/sample - loss: 2.1464 - accuracy: 0.4359 - val_loss: 3.0426 - val_accuracy: 0.2795\n",
      "Epoch 55/100\n"
     ]
    },
    {
     "name": "stdout",
     "output_type": "stream",
     "text": [
      "8000/8000 [==============================] - 7s 855us/sample - loss: 2.1412 - accuracy: 0.4358 - val_loss: 3.0315 - val_accuracy: 0.2810\n",
      "Epoch 56/100\n",
      "8000/8000 [==============================] - 7s 857us/sample - loss: 2.0975 - accuracy: 0.4417 - val_loss: 3.0228 - val_accuracy: 0.2910\n",
      "Epoch 57/100\n",
      "8000/8000 [==============================] - 7s 861us/sample - loss: 2.0762 - accuracy: 0.4467 - val_loss: 3.0397 - val_accuracy: 0.2855\n",
      "Epoch 58/100\n",
      "8000/8000 [==============================] - 7s 855us/sample - loss: 2.0371 - accuracy: 0.4499 - val_loss: 3.0570 - val_accuracy: 0.2870\n",
      "Epoch 59/100\n",
      "8000/8000 [==============================] - 7s 856us/sample - loss: 2.0388 - accuracy: 0.4591 - val_loss: 3.0422 - val_accuracy: 0.2925\n",
      "Epoch 60/100\n",
      "8000/8000 [==============================] - 7s 855us/sample - loss: 1.9888 - accuracy: 0.4699 - val_loss: 3.0447 - val_accuracy: 0.2960\n",
      "Epoch 61/100\n",
      "8000/8000 [==============================] - 7s 857us/sample - loss: 1.9641 - accuracy: 0.4737 - val_loss: 3.0416 - val_accuracy: 0.2915\n",
      "Epoch 62/100\n",
      "8000/8000 [==============================] - 7s 856us/sample - loss: 1.9244 - accuracy: 0.4812 - val_loss: 3.0488 - val_accuracy: 0.2955\n",
      "Epoch 63/100\n",
      "8000/8000 [==============================] - 7s 857us/sample - loss: 1.9095 - accuracy: 0.4825 - val_loss: 3.0287 - val_accuracy: 0.2960\n",
      "Epoch 64/100\n",
      "8000/8000 [==============================] - 7s 857us/sample - loss: 1.8783 - accuracy: 0.4884 - val_loss: 3.0464 - val_accuracy: 0.2920\n",
      "Epoch 65/100\n",
      "8000/8000 [==============================] - 7s 860us/sample - loss: 1.8624 - accuracy: 0.4949 - val_loss: 3.0422 - val_accuracy: 0.2915\n",
      "Epoch 66/100\n",
      "8000/8000 [==============================] - 7s 860us/sample - loss: 1.8380 - accuracy: 0.4966 - val_loss: 3.0797 - val_accuracy: 0.2900\n",
      "Epoch 67/100\n",
      "8000/8000 [==============================] - 7s 857us/sample - loss: 1.8015 - accuracy: 0.5082 - val_loss: 3.0504 - val_accuracy: 0.2945\n",
      "Epoch 68/100\n",
      "8000/8000 [==============================] - 7s 856us/sample - loss: 1.7787 - accuracy: 0.5096 - val_loss: 3.0649 - val_accuracy: 0.2945\n",
      "Epoch 69/100\n",
      "8000/8000 [==============================] - 7s 860us/sample - loss: 1.7457 - accuracy: 0.5188 - val_loss: 3.0760 - val_accuracy: 0.2945\n",
      "Epoch 70/100\n",
      "8000/8000 [==============================] - 7s 856us/sample - loss: 1.7309 - accuracy: 0.5312 - val_loss: 3.0670 - val_accuracy: 0.2950\n",
      "Epoch 71/100\n",
      "8000/8000 [==============================] - 7s 857us/sample - loss: 1.6853 - accuracy: 0.5246 - val_loss: 3.1110 - val_accuracy: 0.2900\n",
      "Epoch 72/100\n",
      "8000/8000 [==============================] - 7s 864us/sample - loss: 1.6859 - accuracy: 0.5270 - val_loss: 3.0615 - val_accuracy: 0.2990\n",
      "Epoch 73/100\n",
      "8000/8000 [==============================] - 7s 857us/sample - loss: 1.6443 - accuracy: 0.5410 - val_loss: 3.0807 - val_accuracy: 0.2950\n",
      "Epoch 74/100\n",
      "8000/8000 [==============================] - 7s 861us/sample - loss: 1.6027 - accuracy: 0.5570 - val_loss: 3.1047 - val_accuracy: 0.2985\n",
      "Epoch 75/100\n",
      "8000/8000 [==============================] - 7s 857us/sample - loss: 1.6013 - accuracy: 0.5541 - val_loss: 3.1092 - val_accuracy: 0.2950\n",
      "Epoch 76/100\n",
      "8000/8000 [==============================] - 7s 857us/sample - loss: 1.5813 - accuracy: 0.5601 - val_loss: 3.1109 - val_accuracy: 0.3015\n",
      "Epoch 77/100\n",
      "8000/8000 [==============================] - 7s 857us/sample - loss: 1.5491 - accuracy: 0.5707 - val_loss: 3.1188 - val_accuracy: 0.3000\n",
      "Epoch 78/100\n",
      "8000/8000 [==============================] - 7s 857us/sample - loss: 1.5361 - accuracy: 0.5683 - val_loss: 3.1496 - val_accuracy: 0.2900\n",
      "Epoch 79/100\n",
      "8000/8000 [==============================] - 7s 857us/sample - loss: 1.5036 - accuracy: 0.5729 - val_loss: 3.1406 - val_accuracy: 0.2900\n",
      "Epoch 80/100\n",
      "8000/8000 [==============================] - 7s 857us/sample - loss: 1.4758 - accuracy: 0.5763 - val_loss: 3.0969 - val_accuracy: 0.3000\n",
      "Epoch 81/100\n",
      "8000/8000 [==============================] - 7s 858us/sample - loss: 1.4489 - accuracy: 0.5825 - val_loss: 3.1434 - val_accuracy: 0.2955\n",
      "Epoch 82/100\n",
      "8000/8000 [==============================] - 7s 860us/sample - loss: 1.4328 - accuracy: 0.5950 - val_loss: 3.1587 - val_accuracy: 0.2960\n",
      "Epoch 83/100\n",
      "8000/8000 [==============================] - 7s 860us/sample - loss: 1.4121 - accuracy: 0.5984 - val_loss: 3.1668 - val_accuracy: 0.2940\n",
      "Epoch 84/100\n",
      "8000/8000 [==============================] - 7s 860us/sample - loss: 1.3914 - accuracy: 0.6050 - val_loss: 3.1555 - val_accuracy: 0.2995\n",
      "Epoch 85/100\n",
      "8000/8000 [==============================] - 7s 861us/sample - loss: 1.3834 - accuracy: 0.6081 - val_loss: 3.1839 - val_accuracy: 0.2980\n",
      "Epoch 86/100\n",
      "8000/8000 [==============================] - 7s 866us/sample - loss: 1.3637 - accuracy: 0.6062 - val_loss: 3.1662 - val_accuracy: 0.3030\n",
      "Epoch 87/100\n",
      "8000/8000 [==============================] - 7s 860us/sample - loss: 1.3371 - accuracy: 0.6146 - val_loss: 3.1954 - val_accuracy: 0.2945\n",
      "Epoch 88/100\n",
      "8000/8000 [==============================] - 7s 865us/sample - loss: 1.2942 - accuracy: 0.6361 - val_loss: 3.2189 - val_accuracy: 0.2980\n",
      "Epoch 89/100\n",
      "8000/8000 [==============================] - 7s 878us/sample - loss: 1.2757 - accuracy: 0.6348 - val_loss: 3.2235 - val_accuracy: 0.2945\n",
      "Epoch 90/100\n",
      "8000/8000 [==============================] - 7s 864us/sample - loss: 1.2511 - accuracy: 0.6391 - val_loss: 3.2372 - val_accuracy: 0.2940\n",
      "Epoch 91/100\n",
      "8000/8000 [==============================] - 7s 861us/sample - loss: 1.2412 - accuracy: 0.6424 - val_loss: 3.2079 - val_accuracy: 0.3005\n",
      "Epoch 92/100\n",
      "8000/8000 [==============================] - 7s 861us/sample - loss: 1.2104 - accuracy: 0.6474 - val_loss: 3.2540 - val_accuracy: 0.2995\n",
      "Epoch 93/100\n",
      "8000/8000 [==============================] - 7s 859us/sample - loss: 1.1959 - accuracy: 0.6521 - val_loss: 3.2421 - val_accuracy: 0.3045\n",
      "Epoch 94/100\n",
      "8000/8000 [==============================] - 7s 860us/sample - loss: 1.1811 - accuracy: 0.6615 - val_loss: 3.2368 - val_accuracy: 0.2910\n",
      "Epoch 95/100\n",
      "8000/8000 [==============================] - 7s 862us/sample - loss: 1.1611 - accuracy: 0.6649 - val_loss: 3.2654 - val_accuracy: 0.2965\n",
      "Epoch 96/100\n",
      "8000/8000 [==============================] - 7s 864us/sample - loss: 1.1553 - accuracy: 0.6606 - val_loss: 3.2591 - val_accuracy: 0.3005\n",
      "Epoch 97/100\n",
      "8000/8000 [==============================] - 7s 866us/sample - loss: 1.1299 - accuracy: 0.6745 - val_loss: 3.2836 - val_accuracy: 0.2890\n",
      "Epoch 98/100\n",
      "8000/8000 [==============================] - 7s 864us/sample - loss: 1.0847 - accuracy: 0.6802 - val_loss: 3.2803 - val_accuracy: 0.3020\n",
      "Epoch 99/100\n",
      "8000/8000 [==============================] - 7s 868us/sample - loss: 1.0643 - accuracy: 0.6861 - val_loss: 3.3131 - val_accuracy: 0.2935\n",
      "Epoch 100/100\n",
      "8000/8000 [==============================] - 7s 865us/sample - loss: 1.0735 - accuracy: 0.6867 - val_loss: 3.3098 - val_accuracy: 0.3000\n"
     ]
    }
   ],
   "source": [
    "history = model.fit(X_train, y_train, epochs=100, batch_size=50,\n",
    "                    validation_data=(X_test, y_test), verbose=1)"
   ]
  },
  {
   "cell_type": "code",
   "execution_count": 24,
   "metadata": {},
   "outputs": [
    {
     "name": "stdout",
     "output_type": "stream",
     "text": [
      "2000/2000 [==============================] - 0s 210us/sample - loss: 3.3098 - accuracy: 0.3000\n",
      "\n",
      " Test Accuracy: 0.3000\n"
     ]
    }
   ],
   "source": [
    "# 테스트 정확도 출력 \n",
    "print(\"\\n Test Accuracy: %.4f\" % (model.evaluate(X_test, y_test)[1]))\n"
   ]
  },
  {
   "cell_type": "code",
   "execution_count": null,
   "metadata": {},
   "outputs": [],
   "source": []
  },
  {
   "cell_type": "code",
   "execution_count": 25,
   "metadata": {},
   "outputs": [],
   "source": [
    "# 테스트셋\n",
    "y_vloss = history.history['val_loss']\n",
    "y_vacc = history.history['val_accuracy']\n",
    "# 학습셋\n",
    "y_loss = history.history['loss']\n",
    "y_acc = history.history['accuracy']"
   ]
  },
  {
   "cell_type": "code",
   "execution_count": 26,
   "metadata": {},
   "outputs": [
    {
     "data": {
      "image/png": "[encoded data removed]",
      "text/plain": [
       "<Figure size 720x576 with 2 Axes>"
      ]
     },
     "metadata": {
      "needs_background": "light"
     },
     "output_type": "display_data"
    }
   ],
   "source": [
    "# 그래프로 표현\n",
    "x_len = np.arange(1, len(y_loss)+1)\n",
    "fig, ax0 = plt.subplots(figsize=(10,8))\n",
    "ax1 = ax0.twinx()\n",
    "ax0.plot(x_len, y_loss, c=\"blue\", label='Trainset_loss')\n",
    "ax0.plot(x_len, y_vloss, c=\"red\", label='Testset_loss')\n",
    "ax0.set_ylabel('loss')\n",
    "ax1.plot(x_len, y_acc, c=\"darkgreen\", label='Trainset_acc')\n",
    "ax1.plot(x_len, y_vacc, c=\"magenta\", label='Testset_acc')\n",
    "ax1.set_ylabel('accuracy')\n",
    "ax0.set_xlabel('epoch')\n",
    "ax0.legend(loc='upper center')\n",
    "ax1.legend(loc='lower center')\n",
    "plt.show()"
   ]
  },
  {
   "cell_type": "code",
   "execution_count": null,
   "metadata": {},
   "outputs": [],
   "source": []
  },
  {
   "cell_type": "code",
   "execution_count": null,
   "metadata": {},
   "outputs": [],
   "source": []
  },
  {
   "cell_type": "code",
   "execution_count": null,
   "metadata": {},
   "outputs": [],
   "source": []
  }
 ],
 "metadata": {
  "kernelspec": {
   "display_name": "Python 3",
   "language": "python",
   "name": "python3"
  },
  "language_info": {
   "codemirror_mode": {
    "name": "ipython",
    "version": 3
   },
   "file_extension": ".py",
   "mimetype": "text/x-python",
   "name": "python",
   "nbconvert_exporter": "python",
   "pygments_lexer": "ipython3",
   "version": "3.7.7"
  }
 },
 "nbformat": 4,
 "nbformat_minor": 4
}
