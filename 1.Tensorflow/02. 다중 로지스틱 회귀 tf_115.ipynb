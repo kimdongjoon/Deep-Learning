{
 "cells": [
  {
   "cell_type": "markdown",
   "metadata": {},
   "source": [
    "|합격여부|*(Y)*|0\t|0\t|0\t|1\t|1\t|1\t|1\n",
    "|학습시간|**(X1)**|2\t|4\t|6\t|8\t|10|\t12\t|14|\n",
    "|과외횟수|<span style=\"color:red\">(X2)</span>|3\t|3\t|4\t|6\t|7\t|8\t|9|\n",
    "\n",
    "합격여부 (Y)\t0\t0\t0\t1\t1\t1\t1\n",
    "학습시간 (X1)\t2\t4\t6\t8\t10\t12\t14\n",
    "과외횟수 (X2)\t3\t3\t4\t6\t7\t8\t9"
   ]
  },
  {
   "cell_type": "code",
   "execution_count": 14,
   "metadata": {},
   "outputs": [
    {
     "data": {
      "text/plain": [
       "'1.15.0'"
      ]
     },
     "execution_count": 14,
     "metadata": {},
     "output_type": "execute_result"
    }
   ],
   "source": [
    "# 필요한 라이브러리\n",
    "import numpy as np\n",
    "import tensorflow as tf\n",
    "tf.__version__\n",
    "# import tensorflow.compat.v1 as tf\n",
    "# tf.disable_v2_behavior()"
   ]
  },
  {
   "cell_type": "code",
   "execution_count": 15,
   "metadata": {},
   "outputs": [],
   "source": [
    "# 실행할 때마다 같은 결과를 출력하기 위한 seed 값 설정\n",
    "seed = 0\n",
    "np.random.seed(seed)\n",
    "tf.set_random_seed(seed)"
   ]
  },
  {
   "cell_type": "code",
   "execution_count": 16,
   "metadata": {},
   "outputs": [],
   "source": [
    "# x, y의 데이터 값\n",
    "x_data = np.array([[2, 3],[4, 3],[6, 4],[8, 6],[10, 7],[12, 8],[14, 9]]) \n",
    "y_data = np.array([0, 0, 0, 1, 1, 1, 1]).reshape(7, 1)"
   ]
  },
  {
   "cell_type": "code",
   "execution_count": 17,
   "metadata": {},
   "outputs": [
    {
     "name": "stdout",
     "output_type": "stream",
     "text": [
      "(7, 2) (7, 1)\n"
     ]
    }
   ],
   "source": [
    "print(x_data.shape, y_data.shape)"
   ]
  },
  {
   "cell_type": "code",
   "execution_count": 18,
   "metadata": {},
   "outputs": [],
   "source": [
    "# 입력 값을 플레이스 홀더에 저장\n",
    "X = tf.placeholder(tf.float64, shape=[None, 2])\n",
    "Y = tf.placeholder(tf.float64, shape=[None, 1])"
   ]
  },
  {
   "cell_type": "code",
   "execution_count": 19,
   "metadata": {},
   "outputs": [],
   "source": [
    "\n",
    "# 웨이트 w와 바이어스 b의 값을 임의로 정함 \n",
    "w = tf.Variable(tf.random_uniform([2,1], dtype=tf.float64)) \n",
    "# [2,1] 의미: 들어오는 값은 2개, 나가는 값은 1개\n",
    "b = tf.Variable(tf.random_uniform([1], dtype=tf.float64))"
   ]
  },
  {
   "cell_type": "code",
   "execution_count": 20,
   "metadata": {},
   "outputs": [],
   "source": [
    "# y 시그모이드 함수의 방정식을 세움\n",
    "yhat = tf.sigmoid(tf.matmul(X, w) + b)"
   ]
  },
  {
   "cell_type": "code",
   "execution_count": 21,
   "metadata": {},
   "outputs": [],
   "source": [
    "# 오차를 구하는 함수\n",
    "loss = -tf.reduce_mean(Y * tf.log(yhat) + (1 - Y) * tf.log(1 - yhat))"
   ]
  },
  {
   "cell_type": "code",
   "execution_count": 22,
   "metadata": {},
   "outputs": [],
   "source": [
    "# 학습률 값\n",
    "learning_rate=0.1"
   ]
  },
  {
   "cell_type": "code",
   "execution_count": 23,
   "metadata": {},
   "outputs": [],
   "source": [
    "# 오차를 최소로 하는 값 찾기\n",
    "gradient_decent = tf.train.GradientDescentOptimizer(learning_rate).minimize(loss)"
   ]
  },
  {
   "cell_type": "code",
   "execution_count": 24,
   "metadata": {},
   "outputs": [],
   "source": [
    "predicted = tf.cast(yhat > 0.5, dtype=tf.float64)\n",
    "accuracy = tf.reduce_mean(tf.cast(tf.equal(predicted, Y), dtype=tf.float64))"
   ]
  },
  {
   "cell_type": "code",
   "execution_count": 26,
   "metadata": {},
   "outputs": [
    {
     "name": "stdout",
     "output_type": "stream",
     "text": [
      "step=300, w1=0.7691, w2=-0.4510, b=-2.6386, loss=0.2542\n",
      "step=600, w1=0.7744, w2=-0.1960, b=-4.0535, loss=0.1842\n",
      "step=900, w1=0.6933, w2=0.1134, b=-5.0856, loss=0.1450\n",
      "step=1200, w1=0.5975, w2=0.4051, b=-5.9063, loss=0.1193\n",
      "step=1500, w1=0.5049, w2=0.6667, b=-6.5894, loss=0.1012\n",
      "step=1800, w1=0.4203, w2=0.8987, b=-7.1752, loss=0.0877\n",
      "step=2100, w1=0.3447, w2=1.1044, b=-7.6881, loss=0.0773\n",
      "step=2400, w1=0.2774, w2=1.2875, b=-8.1445, loss=0.0690\n",
      "step=2700, w1=0.2176, w2=1.4517, b=-8.5557, loss=0.0624\n",
      "step=3000, w1=0.1641, w2=1.5998, b=-8.9298, loss=0.0569\n",
      "공부한 시간: 7, 과외 수업 횟수: 6\n",
      "합격 가능성:  86.04 %\n"
     ]
    }
   ],
   "source": [
    "# 학습\n",
    "with tf.Session() as sess:\n",
    "    sess.run(tf.global_variables_initializer())\n",
    "\n",
    "    for i in range(3001):\n",
    "        w_, b_, loss_, _ = sess.run([w, b, loss, gradient_decent], feed_dict={X: x_data, Y: y_data})\n",
    "        if (i + 1) % 300 == 0:\n",
    "            print(\"step=%d, w1=%.4f, w2=%.4f, b=%.4f, loss=%.4f\" % \n",
    "                  (i + 1, w_[0], w_[1], b_, loss_))\n",
    "\n",
    "# 어떻게 활용하는가\n",
    "    new_x = np.array([7, 6.]).reshape(1, 2)  # [7, 6]은 각각 공부한 시간과 과외 수업 횟수\n",
    "    new_y = sess.run(yhat, feed_dict={X: new_x})\n",
    "\n",
    "    print(\"공부한 시간: %d, 과외 수업 횟수: %d\" % (new_x[:,0], new_x[:,1]))\n",
    "    print(\"합격 가능성: %6.2f %%\" % (new_y*100))"
   ]
  },
  {
   "cell_type": "code",
   "execution_count": 32,
   "metadata": {},
   "outputs": [
    {
     "data": {
      "text/plain": [
       "(1, 2)"
      ]
     },
     "execution_count": 32,
     "metadata": {},
     "output_type": "execute_result"
    }
   ],
   "source": [
    "m1 = np.array([7, 6.]).reshape(1, 2)\n",
    "m1.shape"
   ]
  },
  {
   "cell_type": "code",
   "execution_count": 36,
   "metadata": {},
   "outputs": [
    {
     "data": {
      "text/plain": [
       "(2, 1)"
      ]
     },
     "execution_count": 36,
     "metadata": {},
     "output_type": "execute_result"
    }
   ],
   "source": [
    "#300000번 값 w1=-1.5625, w2=7.7428\n",
    "#3000번 값 w1= 0.1779, w2 =1.5675\n",
    "m2 = np.array([0.1641, 1.5998]).reshape(2, 1)\n",
    "m2.shape"
   ]
  },
  {
   "cell_type": "code",
   "execution_count": 37,
   "metadata": {},
   "outputs": [
    {
     "data": {
      "text/plain": [
       "array([[10.7475]])"
      ]
     },
     "execution_count": 37,
     "metadata": {},
     "output_type": "execute_result"
    }
   ],
   "source": [
    "np.matmul(m1, m2)"
   ]
  },
  {
   "cell_type": "code",
   "execution_count": 38,
   "metadata": {},
   "outputs": [],
   "source": [
    "def sigmoid(x):\n",
    "    return 1/(1 + np.exp(-x))"
   ]
  },
  {
   "cell_type": "code",
   "execution_count": 39,
   "metadata": {},
   "outputs": [
    {
     "name": "stdout",
     "output_type": "stream",
     "text": [
      "0.8565344988956533\n"
     ]
    }
   ],
   "source": [
    "print(sigmoid(10.6503 - 8.8635))"
   ]
  },
  {
   "cell_type": "code",
   "execution_count": null,
   "metadata": {},
   "outputs": [],
   "source": []
  }
 ],
 "metadata": {
  "kernelspec": {
   "display_name": "Python 3",
   "language": "python",
   "name": "python3"
  },
  "language_info": {
   "codemirror_mode": {
    "name": "ipython",
    "version": 3
   },
   "file_extension": ".py",
   "mimetype": "text/x-python",
   "name": "python",
   "nbconvert_exporter": "python",
   "pygments_lexer": "ipython3",
   "version": "3.7.7"
  }
 },
 "nbformat": 4,
 "nbformat_minor": 4
}
