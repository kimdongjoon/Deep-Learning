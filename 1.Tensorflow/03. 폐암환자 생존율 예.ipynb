{
 "cells": [
  {
   "cell_type": "code",
   "execution_count": 1,
   "metadata": {},
   "outputs": [
    {
     "data": {
      "text/plain": [
       "'2.1.0'"
      ]
     },
     "execution_count": 1,
     "metadata": {},
     "output_type": "execute_result"
    }
   ],
   "source": [
    "import numpy as np\n",
    "import tensorflow as tf\n",
    "tf.__version__"
   ]
  },
  {
   "cell_type": "code",
   "execution_count": 2,
   "metadata": {},
   "outputs": [],
   "source": [
    "# 실행할 때마다 같은 결과를 출력하기 위한 seed 값 설정\n",
    "seed = 2000\n",
    "np.random.seed(seed)\n",
    "tf.random.set_seed(seed)"
   ]
  },
  {
   "cell_type": "code",
   "execution_count": 7,
   "metadata": {},
   "outputs": [
    {
     "data": {
      "text/plain": [
       "array([[293.  ,   1.  ,   3.8 , ...,   0.  ,  62.  ,   0.  ],\n",
       "       [  1.  ,   2.  ,   2.88, ...,   0.  ,  60.  ,   0.  ],\n",
       "       [  8.  ,   2.  ,   3.19, ...,   0.  ,  66.  ,   1.  ],\n",
       "       ...,\n",
       "       [406.  ,   6.  ,   5.36, ...,   0.  ,  62.  ,   0.  ],\n",
       "       [ 25.  ,   8.  ,   4.32, ...,   0.  ,  58.  ,   1.  ],\n",
       "       [447.  ,   8.  ,   5.2 , ...,   0.  ,  49.  ,   0.  ]])"
      ]
     },
     "execution_count": 7,
     "metadata": {},
     "output_type": "execute_result"
    }
   ],
   "source": [
    "#준비된 수술 환자 데이터를 불러들임\n",
    "Data_set = np.loadtxt(\"./dataset/ThoraricSurgery.csv\", delimiter = \",\")\n",
    "Data_set"
   ]
  },
  {
   "cell_type": "code",
   "execution_count": 19,
   "metadata": {},
   "outputs": [
    {
     "data": {
      "text/plain": [
       "((470, 17), (470,))"
      ]
     },
     "execution_count": 19,
     "metadata": {},
     "output_type": "execute_result"
    }
   ],
   "source": [
    "#환자의 기록과 수술 결과를 X와 Y로 구분하여 저장\n",
    "X = Data_set[:,0:17]\n",
    "Y = Data_set[:,17]\n",
    "X.shape, Y.shape"
   ]
  },
  {
   "cell_type": "code",
   "execution_count": 20,
   "metadata": {},
   "outputs": [],
   "source": [
    "from tensorflow.keras.models import Sequential\n",
    "from tensorflow.keras.layers import Dense\n",
    "\n"
   ]
  },
  {
   "cell_type": "code",
   "execution_count": 21,
   "metadata": {},
   "outputs": [
    {
     "name": "stdout",
     "output_type": "stream",
     "text": [
      "Model: \"sequential_1\"\n",
      "_________________________________________________________________\n",
      "Layer (type)                 Output Shape              Param #   \n",
      "=================================================================\n",
      "dense_4 (Dense)              (None, 30)                540       \n",
      "_________________________________________________________________\n",
      "dense_5 (Dense)              (None, 1)                 31        \n",
      "=================================================================\n",
      "Total params: 571\n",
      "Trainable params: 571\n",
      "Non-trainable params: 0\n",
      "_________________________________________________________________\n"
     ]
    }
   ],
   "source": [
    "model = Sequential ([\n",
    "    Dense(30, input_shape = (17, ), activation = 'relu'),\n",
    "    Dense(1, activation = 'sigmoid')\n",
    "])\n",
    "model.summary()"
   ]
  },
  {
   "cell_type": "code",
   "execution_count": 22,
   "metadata": {},
   "outputs": [],
   "source": [
    "# 딥러닝 환경 설정 (오차함수, 최적화 함수)\n",
    "model.compile(loss = 'binary_crossentropy',\n",
    "             optimizer = 'adam' , metrics = ['accuracy'])"
   ]
  },
  {
   "cell_type": "code",
   "execution_count": 23,
   "metadata": {},
   "outputs": [
    {
     "name": "stdout",
     "output_type": "stream",
     "text": [
      "Train on 470 samples\n",
      "Epoch 1/20\n",
      "470/470 [==============================] - 0s 726us/sample - loss: 1.2386 - accuracy: 0.7723\n",
      "Epoch 2/20\n",
      "470/470 [==============================] - 0s 85us/sample - loss: 0.8075 - accuracy: 0.7979\n",
      "Epoch 3/20\n",
      "470/470 [==============================] - 0s 83us/sample - loss: 0.5550 - accuracy: 0.8064\n",
      "Epoch 4/20\n",
      "470/470 [==============================] - 0s 83us/sample - loss: 0.5158 - accuracy: 0.8319\n",
      "Epoch 5/20\n",
      "470/470 [==============================] - 0s 85us/sample - loss: 0.5146 - accuracy: 0.8277\n",
      "Epoch 6/20\n",
      "470/470 [==============================] - 0s 84us/sample - loss: 0.5394 - accuracy: 0.8426\n",
      "Epoch 7/20\n",
      "470/470 [==============================] - 0s 85us/sample - loss: 0.5169 - accuracy: 0.8191\n",
      "Epoch 8/20\n",
      "470/470 [==============================] - 0s 83us/sample - loss: 0.4746 - accuracy: 0.8383\n",
      "Epoch 9/20\n",
      "470/470 [==============================] - 0s 84us/sample - loss: 0.4377 - accuracy: 0.8468\n",
      "Epoch 10/20\n",
      "470/470 [==============================] - 0s 86us/sample - loss: 0.4423 - accuracy: 0.8532\n",
      "Epoch 11/20\n",
      "470/470 [==============================] - 0s 83us/sample - loss: 0.4340 - accuracy: 0.8404\n",
      "Epoch 12/20\n",
      "470/470 [==============================] - 0s 83us/sample - loss: 0.4539 - accuracy: 0.8447\n",
      "Epoch 13/20\n",
      "470/470 [==============================] - 0s 85us/sample - loss: 0.4556 - accuracy: 0.8511\n",
      "Epoch 14/20\n",
      "470/470 [==============================] - 0s 85us/sample - loss: 0.4548 - accuracy: 0.8426\n",
      "Epoch 15/20\n",
      "470/470 [==============================] - 0s 85us/sample - loss: 0.4237 - accuracy: 0.8426\n",
      "Epoch 16/20\n",
      "470/470 [==============================] - 0s 87us/sample - loss: 0.5070 - accuracy: 0.8277\n",
      "Epoch 17/20\n",
      "470/470 [==============================] - 0s 86us/sample - loss: 0.4445 - accuracy: 0.8340\n",
      "Epoch 18/20\n",
      "470/470 [==============================] - 0s 84us/sample - loss: 0.4403 - accuracy: 0.8404\n",
      "Epoch 19/20\n",
      "470/470 [==============================] - 0s 82us/sample - loss: 0.4248 - accuracy: 0.8362\n",
      "Epoch 20/20\n",
      "470/470 [==============================] - 0s 83us/sample - loss: 0.4515 - accuracy: 0.8426\n"
     ]
    },
    {
     "data": {
      "text/plain": [
       "<tensorflow.python.keras.callbacks.History at 0x253b3f34088>"
      ]
     },
     "execution_count": 23,
     "metadata": {},
     "output_type": "execute_result"
    }
   ],
   "source": [
    "# 딥 러닝 학습\n",
    "model.fit(X,Y, epochs = 20, batch_size = 10)"
   ]
  },
  {
   "cell_type": "code",
   "execution_count": null,
   "metadata": {},
   "outputs": [],
   "source": [
    "#결과 출력 "
   ]
  }
 ],
 "metadata": {
  "kernelspec": {
   "display_name": "Python 3",
   "language": "python",
   "name": "python3"
  },
  "language_info": {
   "codemirror_mode": {
    "name": "ipython",
    "version": 3
   },
   "file_extension": ".py",
   "mimetype": "text/x-python",
   "name": "python",
   "nbconvert_exporter": "python",
   "pygments_lexer": "ipython3",
   "version": "3.7.7"
  }
 },
 "nbformat": 4,
 "nbformat_minor": 4
}
