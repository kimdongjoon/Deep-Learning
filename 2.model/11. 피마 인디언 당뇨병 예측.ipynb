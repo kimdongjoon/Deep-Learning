{
 "cells": [
  {
   "cell_type": "code",
   "execution_count": 12,
   "metadata": {},
   "outputs": [
    {
     "name": "stdout",
     "output_type": "stream",
     "text": [
      "0    500\n",
      "1    268\n",
      "Name: Outcome, dtype: int64\n"
     ]
    },
    {
     "data": {
      "text/html": [
       "<div>\n",
       "<style scoped>\n",
       "    .dataframe tbody tr th:only-of-type {\n",
       "        vertical-align: middle;\n",
       "    }\n",
       "\n",
       "    .dataframe tbody tr th {\n",
       "        vertical-align: top;\n",
       "    }\n",
       "\n",
       "    .dataframe thead th {\n",
       "        text-align: right;\n",
       "    }\n",
       "</style>\n",
       "<table border=\"1\" class=\"dataframe\">\n",
       "  <thead>\n",
       "    <tr style=\"text-align: right;\">\n",
       "      <th></th>\n",
       "      <th>Pregnancies</th>\n",
       "      <th>Glucose</th>\n",
       "      <th>BloodPressure</th>\n",
       "      <th>SkinThickness</th>\n",
       "      <th>Insulin</th>\n",
       "      <th>BMI</th>\n",
       "      <th>DiabetesPedigreeFunction</th>\n",
       "      <th>Age</th>\n",
       "      <th>Outcome</th>\n",
       "    </tr>\n",
       "  </thead>\n",
       "  <tbody>\n",
       "    <tr>\n",
       "      <th>0</th>\n",
       "      <td>6</td>\n",
       "      <td>148</td>\n",
       "      <td>72</td>\n",
       "      <td>35</td>\n",
       "      <td>0</td>\n",
       "      <td>33.6</td>\n",
       "      <td>0.627</td>\n",
       "      <td>50</td>\n",
       "      <td>1</td>\n",
       "    </tr>\n",
       "    <tr>\n",
       "      <th>1</th>\n",
       "      <td>1</td>\n",
       "      <td>85</td>\n",
       "      <td>66</td>\n",
       "      <td>29</td>\n",
       "      <td>0</td>\n",
       "      <td>26.6</td>\n",
       "      <td>0.351</td>\n",
       "      <td>31</td>\n",
       "      <td>0</td>\n",
       "    </tr>\n",
       "    <tr>\n",
       "      <th>2</th>\n",
       "      <td>8</td>\n",
       "      <td>183</td>\n",
       "      <td>64</td>\n",
       "      <td>0</td>\n",
       "      <td>0</td>\n",
       "      <td>23.3</td>\n",
       "      <td>0.672</td>\n",
       "      <td>32</td>\n",
       "      <td>1</td>\n",
       "    </tr>\n",
       "  </tbody>\n",
       "</table>\n",
       "</div>"
      ],
      "text/plain": [
       "   Pregnancies  Glucose  BloodPressure  SkinThickness  Insulin   BMI  \\\n",
       "0            6      148             72             35        0  33.6   \n",
       "1            1       85             66             29        0  26.6   \n",
       "2            8      183             64              0        0  23.3   \n",
       "\n",
       "   DiabetesPedigreeFunction  Age  Outcome  \n",
       "0                     0.627   50        1  \n",
       "1                     0.351   31        0  \n",
       "2                     0.672   32        1  "
      ]
     },
     "execution_count": 12,
     "metadata": {},
     "output_type": "execute_result"
    }
   ],
   "source": [
    "import numpy as np\n",
    "import pandas as pd\n",
    "import matplotlib.pyplot as plt\n",
    "%matplotlib inline\n",
    "\n",
    "from sklearn.model_selection import train_test_split\n",
    "from sklearn.metrics import accuracy_score, precision_score, recall_score, roc_auc_score\n",
    "from sklearn.metrics import f1_score, confusion_matrix, precision_recall_curve, roc_curve\n",
    "from sklearn.preprocessing import StandardScaler\n",
    "from sklearn.linear_model import LogisticRegression\n",
    "\n",
    "diabetes_data = pd.read_csv('./dataset/diabetes.csv')\n",
    "print(diabetes_data['Outcome'].value_counts())\n",
    "diabetes_data.head(3)"
   ]
  },
  {
   "cell_type": "code",
   "execution_count": 13,
   "metadata": {},
   "outputs": [
    {
     "name": "stdout",
     "output_type": "stream",
     "text": [
      "<class 'pandas.core.frame.DataFrame'>\n",
      "RangeIndex: 768 entries, 0 to 767\n",
      "Data columns (total 9 columns):\n",
      " #   Column                    Non-Null Count  Dtype  \n",
      "---  ------                    --------------  -----  \n",
      " 0   Pregnancies               768 non-null    int64  \n",
      " 1   Glucose                   768 non-null    int64  \n",
      " 2   BloodPressure             768 non-null    int64  \n",
      " 3   SkinThickness             768 non-null    int64  \n",
      " 4   Insulin                   768 non-null    int64  \n",
      " 5   BMI                       768 non-null    float64\n",
      " 6   DiabetesPedigreeFunction  768 non-null    float64\n",
      " 7   Age                       768 non-null    int64  \n",
      " 8   Outcome                   768 non-null    int64  \n",
      "dtypes: float64(2), int64(7)\n",
      "memory usage: 54.1 KB\n"
     ]
    }
   ],
   "source": [
    "diabetes_data.info( )"
   ]
  },
  {
   "cell_type": "code",
   "execution_count": 14,
   "metadata": {},
   "outputs": [],
   "source": [
    "# 수정된 get_clf_eval() 함수 \n",
    "def get_clf_eval(y_test, pred=None, pred_proba=None):\n",
    "    confusion = confusion_matrix( y_test, pred)\n",
    "    accuracy = accuracy_score(y_test , pred)\n",
    "    precision = precision_score(y_test , pred)\n",
    "    recall = recall_score(y_test , pred)\n",
    "    f1 = f1_score(y_test,pred)\n",
    "    # ROC-AUC 추가 \n",
    "    roc_auc = roc_auc_score(y_test, pred_proba)\n",
    "    print('오차 행렬')\n",
    "    print(confusion)\n",
    "    # ROC-AUC print 추가\n",
    "    print('정확도: {0:.4f}, 정밀도: {1:.4f}, 재현율: {2:.4f},\\\n",
    "    F1: {3:.4f}, AUC:{4:.4f}'.format(accuracy, precision, recall, f1, roc_auc))\n"
   ]
  },
  {
   "cell_type": "code",
   "execution_count": 15,
   "metadata": {},
   "outputs": [],
   "source": [
    "def precision_recall_curve_plot(y_test=None, pred_proba_c1=None):\n",
    "    # threshold ndarray와 이 threshold에 따른 정밀도, 재현율 ndarray 추출. \n",
    "    precisions, recalls, thresholds = precision_recall_curve( y_test, pred_proba_c1)\n",
    "    \n",
    "    # X축을 threshold값으로, Y축은 정밀도, 재현율 값으로 각각 Plot 수행. 정밀도는 점선으로 표시\n",
    "    plt.figure(figsize=(8,6))\n",
    "    threshold_boundary = thresholds.shape[0]\n",
    "    plt.plot(thresholds, precisions[0:threshold_boundary], linestyle='--', label='precision')\n",
    "    plt.plot(thresholds, recalls[0:threshold_boundary],label='recall')\n",
    "    \n",
    "    # threshold 값 X 축의 Scale을 0.1 단위로 변경\n",
    "    start, end = plt.xlim()\n",
    "    plt.xticks(np.round(np.arange(start, end, 0.1),2))\n",
    "    \n",
    "    # x축, y축 label과 legend, 그리고 grid 설정\n",
    "    plt.xlabel('Threshold value'); plt.ylabel('Precision and Recall value')\n",
    "    plt.legend(); plt.grid()\n",
    "    plt.show()"
   ]
  },
  {
   "cell_type": "code",
   "execution_count": 16,
   "metadata": {},
   "outputs": [
    {
     "name": "stdout",
     "output_type": "stream",
     "text": [
      "오차 행렬\n",
      "[[88 12]\n",
      " [23 31]]\n",
      "정확도: 0.7727, 정밀도: 0.7209, 재현율: 0.5741,    F1: 0.6392, AUC:0.7919\n"
     ]
    }
   ],
   "source": [
    "# 피처 데이터 세트 X, 레이블 데이터 세트 y를 추출. \n",
    "# 맨 끝이 Outcome 컬럼으로 레이블 값임. 컬럼 위치 -1을 이용해 추출 \n",
    "X = diabetes_data.iloc[:, :-1]\n",
    "y = diabetes_data.iloc[:, -1]\n",
    "\n",
    "X_train, X_test, y_train, y_test = train_test_split(X, y, test_size = 0.2, random_state = 156, stratify=y)\n",
    "\n",
    "# 로지스틱 회귀로 학습,예측 및 평가 수행. \n",
    "lr_clf = LogisticRegression()\n",
    "lr_clf.fit(X_train , y_train)\n",
    "pred = lr_clf.predict(X_test)\n",
    "pred_proba = lr_clf.predict_proba(X_test)[:, 1]\n",
    "\n",
    "get_clf_eval(y_test , pred, pred_proba)"
   ]
  },
  {
   "cell_type": "code",
   "execution_count": 17,
   "metadata": {},
   "outputs": [
    {
     "data": {
      "image/png": "[encoded data removed]",
      "text/plain": [
       "<Figure size 576x432 with 1 Axes>"
      ]
     },
     "metadata": {
      "needs_background": "light"
     },
     "output_type": "display_data"
    }
   ],
   "source": [
    "pred_proba_c1 = lr_clf.predict_proba(X_test)[:, 1]\n",
    "precision_recall_curve_plot(y_test, pred_proba_c1)"
   ]
  },
  {
   "cell_type": "code",
   "execution_count": 18,
   "metadata": {},
   "outputs": [
    {
     "data": {
      "text/html": [
       "<div>\n",
       "<style scoped>\n",
       "    .dataframe tbody tr th:only-of-type {\n",
       "        vertical-align: middle;\n",
       "    }\n",
       "\n",
       "    .dataframe tbody tr th {\n",
       "        vertical-align: top;\n",
       "    }\n",
       "\n",
       "    .dataframe thead th {\n",
       "        text-align: right;\n",
       "    }\n",
       "</style>\n",
       "<table border=\"1\" class=\"dataframe\">\n",
       "  <thead>\n",
       "    <tr style=\"text-align: right;\">\n",
       "      <th></th>\n",
       "      <th>Pregnancies</th>\n",
       "      <th>Glucose</th>\n",
       "      <th>BloodPressure</th>\n",
       "      <th>SkinThickness</th>\n",
       "      <th>Insulin</th>\n",
       "      <th>BMI</th>\n",
       "      <th>DiabetesPedigreeFunction</th>\n",
       "      <th>Age</th>\n",
       "      <th>Outcome</th>\n",
       "    </tr>\n",
       "  </thead>\n",
       "  <tbody>\n",
       "    <tr>\n",
       "      <th>count</th>\n",
       "      <td>768.000000</td>\n",
       "      <td>768.000000</td>\n",
       "      <td>768.000000</td>\n",
       "      <td>768.000000</td>\n",
       "      <td>768.000000</td>\n",
       "      <td>768.000000</td>\n",
       "      <td>768.000000</td>\n",
       "      <td>768.000000</td>\n",
       "      <td>768.000000</td>\n",
       "    </tr>\n",
       "    <tr>\n",
       "      <th>mean</th>\n",
       "      <td>3.845052</td>\n",
       "      <td>120.894531</td>\n",
       "      <td>69.105469</td>\n",
       "      <td>20.536458</td>\n",
       "      <td>79.799479</td>\n",
       "      <td>31.992578</td>\n",
       "      <td>0.471876</td>\n",
       "      <td>33.240885</td>\n",
       "      <td>0.348958</td>\n",
       "    </tr>\n",
       "    <tr>\n",
       "      <th>std</th>\n",
       "      <td>3.369578</td>\n",
       "      <td>31.972618</td>\n",
       "      <td>19.355807</td>\n",
       "      <td>15.952218</td>\n",
       "      <td>115.244002</td>\n",
       "      <td>7.884160</td>\n",
       "      <td>0.331329</td>\n",
       "      <td>11.760232</td>\n",
       "      <td>0.476951</td>\n",
       "    </tr>\n",
       "    <tr>\n",
       "      <th>min</th>\n",
       "      <td>0.000000</td>\n",
       "      <td>0.000000</td>\n",
       "      <td>0.000000</td>\n",
       "      <td>0.000000</td>\n",
       "      <td>0.000000</td>\n",
       "      <td>0.000000</td>\n",
       "      <td>0.078000</td>\n",
       "      <td>21.000000</td>\n",
       "      <td>0.000000</td>\n",
       "    </tr>\n",
       "    <tr>\n",
       "      <th>25%</th>\n",
       "      <td>1.000000</td>\n",
       "      <td>99.000000</td>\n",
       "      <td>62.000000</td>\n",
       "      <td>0.000000</td>\n",
       "      <td>0.000000</td>\n",
       "      <td>27.300000</td>\n",
       "      <td>0.243750</td>\n",
       "      <td>24.000000</td>\n",
       "      <td>0.000000</td>\n",
       "    </tr>\n",
       "    <tr>\n",
       "      <th>50%</th>\n",
       "      <td>3.000000</td>\n",
       "      <td>117.000000</td>\n",
       "      <td>72.000000</td>\n",
       "      <td>23.000000</td>\n",
       "      <td>30.500000</td>\n",
       "      <td>32.000000</td>\n",
       "      <td>0.372500</td>\n",
       "      <td>29.000000</td>\n",
       "      <td>0.000000</td>\n",
       "    </tr>\n",
       "    <tr>\n",
       "      <th>75%</th>\n",
       "      <td>6.000000</td>\n",
       "      <td>140.250000</td>\n",
       "      <td>80.000000</td>\n",
       "      <td>32.000000</td>\n",
       "      <td>127.250000</td>\n",
       "      <td>36.600000</td>\n",
       "      <td>0.626250</td>\n",
       "      <td>41.000000</td>\n",
       "      <td>1.000000</td>\n",
       "    </tr>\n",
       "    <tr>\n",
       "      <th>max</th>\n",
       "      <td>17.000000</td>\n",
       "      <td>199.000000</td>\n",
       "      <td>122.000000</td>\n",
       "      <td>99.000000</td>\n",
       "      <td>846.000000</td>\n",
       "      <td>67.100000</td>\n",
       "      <td>2.420000</td>\n",
       "      <td>81.000000</td>\n",
       "      <td>1.000000</td>\n",
       "    </tr>\n",
       "  </tbody>\n",
       "</table>\n",
       "</div>"
      ],
      "text/plain": [
       "       Pregnancies     Glucose  BloodPressure  SkinThickness     Insulin  \\\n",
       "count   768.000000  768.000000     768.000000     768.000000  768.000000   \n",
       "mean      3.845052  120.894531      69.105469      20.536458   79.799479   \n",
       "std       3.369578   31.972618      19.355807      15.952218  115.244002   \n",
       "min       0.000000    0.000000       0.000000       0.000000    0.000000   \n",
       "25%       1.000000   99.000000      62.000000       0.000000    0.000000   \n",
       "50%       3.000000  117.000000      72.000000      23.000000   30.500000   \n",
       "75%       6.000000  140.250000      80.000000      32.000000  127.250000   \n",
       "max      17.000000  199.000000     122.000000      99.000000  846.000000   \n",
       "\n",
       "              BMI  DiabetesPedigreeFunction         Age     Outcome  \n",
       "count  768.000000                768.000000  768.000000  768.000000  \n",
       "mean    31.992578                  0.471876   33.240885    0.348958  \n",
       "std      7.884160                  0.331329   11.760232    0.476951  \n",
       "min      0.000000                  0.078000   21.000000    0.000000  \n",
       "25%     27.300000                  0.243750   24.000000    0.000000  \n",
       "50%     32.000000                  0.372500   29.000000    0.000000  \n",
       "75%     36.600000                  0.626250   41.000000    1.000000  \n",
       "max     67.100000                  2.420000   81.000000    1.000000  "
      ]
     },
     "execution_count": 18,
     "metadata": {},
     "output_type": "execute_result"
    }
   ],
   "source": [
    "diabetes_data.describe()"
   ]
  },
  {
   "cell_type": "code",
   "execution_count": 19,
   "metadata": {},
   "outputs": [
    {
     "data": {
      "text/plain": [
       "(array([  5.,   0.,   4.,  32., 156., 211., 163.,  95.,  56.,  46.]),\n",
       " array([  0. ,  19.9,  39.8,  59.7,  79.6,  99.5, 119.4, 139.3, 159.2,\n",
       "        179.1, 199. ]),\n",
       " <a list of 10 Patch objects>)"
      ]
     },
     "execution_count": 19,
     "metadata": {},
     "output_type": "execute_result"
    },
    {
     "data": {
      "image/png": "[encoded data removed]",
      "text/plain": [
       "<Figure size 432x288 with 1 Axes>"
      ]
     },
     "metadata": {
      "needs_background": "light"
     },
     "output_type": "display_data"
    }
   ],
   "source": [
    "plt.hist(diabetes_data['Glucose'], bins=10)"
   ]
  },
  {
   "cell_type": "code",
   "execution_count": 20,
   "metadata": {},
   "outputs": [
    {
     "name": "stdout",
     "output_type": "stream",
     "text": [
      "Glucose 0 건수는 5, 퍼센트는 0.65 %\n",
      "BloodPressure 0 건수는 35, 퍼센트는 4.56 %\n",
      "SkinThickness 0 건수는 227, 퍼센트는 29.56 %\n",
      "Insulin 0 건수는 374, 퍼센트는 48.70 %\n",
      "BMI 0 건수는 11, 퍼센트는 1.43 %\n"
     ]
    }
   ],
   "source": [
    "# 0값을 검사할 피처명 리스트 객체 설정\n",
    "zero_features = ['Glucose', 'BloodPressure','SkinThickness','Insulin','BMI']\n",
    "\n",
    "# 전체 데이터 건수\n",
    "total_count = diabetes_data['Glucose'].count()\n",
    "\n",
    "# 피처별로 반복 하면서 데이터 값이 0 인 데이터 건수 추출하고, 퍼센트 계산\n",
    "for feature in zero_features:\n",
    "    zero_count = diabetes_data[diabetes_data[feature] == 0][feature].count()\n",
    "    print('{0} 0 건수는 {1}, 퍼센트는 {2:.2f} %'.format(feature, zero_count, 100*zero_count/total_count))\n"
   ]
  },
  {
   "cell_type": "code",
   "execution_count": 21,
   "metadata": {},
   "outputs": [],
   "source": [
    "# zero_features 리스트 내부에 저장된 개별 피처들에 대해서 0값을 평균 값으로 대체\n",
    "diabetes_data[zero_features]=diabetes_data[zero_features].replace(0, diabetes_data[zero_features].mean())"
   ]
  },
  {
   "cell_type": "code",
   "execution_count": 22,
   "metadata": {},
   "outputs": [
    {
     "name": "stdout",
     "output_type": "stream",
     "text": [
      "오차 행렬\n",
      "[[90 10]\n",
      " [21 33]]\n",
      "정확도: 0.7987, 정밀도: 0.7674, 재현율: 0.6111,    F1: 0.6804, AUC:0.8433\n"
     ]
    }
   ],
   "source": [
    "X = diabetes_data.iloc[:, :-1]\n",
    "y = diabetes_data.iloc[:, -1]\n",
    "\n",
    "# StandardScaler 클래스를 이용해 피처 데이터 세트에 일괄적으로 스케일링 적용\n",
    "scaler = StandardScaler( )\n",
    "X_scaled = scaler.fit_transform(X)\n",
    "\n",
    "X_train, X_test, y_train, y_test = train_test_split(X_scaled, y, test_size = 0.2, random_state = 156, stratify=y)\n",
    "\n",
    "# 로지스틱 회귀로 학습, 예측 및 평가 수행. \n",
    "lr_clf = LogisticRegression()\n",
    "lr_clf.fit(X_train , y_train)\n",
    "pred = lr_clf.predict(X_test)\n",
    "pred_proba = lr_clf.predict_proba(X_test)[:, 1]\n",
    "\n",
    "get_clf_eval(y_test , pred, pred_proba)"
   ]
  },
  {
   "cell_type": "code",
   "execution_count": 23,
   "metadata": {},
   "outputs": [],
   "source": [
    "from sklearn.preprocessing import Binarizer\n",
    "\n",
    "def get_eval_by_threshold(y_test , pred_proba_c1, thresholds):\n",
    "    # thresholds 리스트 객체내의 값을 차례로 iteration하면서 Evaluation 수행.\n",
    "    for custom_threshold in thresholds:\n",
    "        binarizer = Binarizer(threshold=custom_threshold).fit(pred_proba_c1) \n",
    "        custom_predict = binarizer.transform(pred_proba_c1)\n",
    "        print('임곗값:',custom_threshold)\n",
    "        get_clf_eval(y_test , custom_predict, pred_proba_c1)"
   ]
  },
  {
   "cell_type": "code",
   "execution_count": 24,
   "metadata": {},
   "outputs": [
    {
     "name": "stdout",
     "output_type": "stream",
     "text": [
      "임곗값: 0.3\n",
      "오차 행렬\n",
      "[[67 33]\n",
      " [11 43]]\n",
      "정확도: 0.7143, 정밀도: 0.5658, 재현율: 0.7963,    F1: 0.6615, AUC:0.8433\n",
      "임곗값: 0.33\n",
      "오차 행렬\n",
      "[[72 28]\n",
      " [12 42]]\n",
      "정확도: 0.7403, 정밀도: 0.6000, 재현율: 0.7778,    F1: 0.6774, AUC:0.8433\n",
      "임곗값: 0.36\n",
      "오차 행렬\n",
      "[[76 24]\n",
      " [15 39]]\n",
      "정확도: 0.7468, 정밀도: 0.6190, 재현율: 0.7222,    F1: 0.6667, AUC:0.8433\n",
      "임곗값: 0.39\n",
      "오차 행렬\n",
      "[[78 22]\n",
      " [16 38]]\n",
      "정확도: 0.7532, 정밀도: 0.6333, 재현율: 0.7037,    F1: 0.6667, AUC:0.8433\n",
      "임곗값: 0.42\n",
      "오차 행렬\n",
      "[[84 16]\n",
      " [18 36]]\n",
      "정확도: 0.7792, 정밀도: 0.6923, 재현율: 0.6667,    F1: 0.6792, AUC:0.8433\n",
      "임곗값: 0.45\n",
      "오차 행렬\n",
      "[[85 15]\n",
      " [18 36]]\n",
      "정확도: 0.7857, 정밀도: 0.7059, 재현율: 0.6667,    F1: 0.6857, AUC:0.8433\n",
      "임곗값: 0.48\n",
      "오차 행렬\n",
      "[[88 12]\n",
      " [19 35]]\n",
      "정확도: 0.7987, 정밀도: 0.7447, 재현율: 0.6481,    F1: 0.6931, AUC:0.8433\n",
      "임곗값: 0.5\n",
      "오차 행렬\n",
      "[[90 10]\n",
      " [21 33]]\n",
      "정확도: 0.7987, 정밀도: 0.7674, 재현율: 0.6111,    F1: 0.6804, AUC:0.8433\n"
     ]
    }
   ],
   "source": [
    "thresholds = [0.3 , 0.33 ,0.36,0.39, 0.42 , 0.45 ,0.48, 0.50]\n",
    "pred_proba = lr_clf.predict_proba(X_test)\n",
    "get_eval_by_threshold(y_test, pred_proba[:,1].reshape(-1,1), thresholds )"
   ]
  },
  {
   "cell_type": "code",
   "execution_count": 25,
   "metadata": {},
   "outputs": [
    {
     "name": "stdout",
     "output_type": "stream",
     "text": [
      "오차 행렬\n",
      "[[88 12]\n",
      " [19 35]]\n",
      "정확도: 0.7987, 정밀도: 0.7447, 재현율: 0.6481,    F1: 0.6931, AUC:0.8433\n"
     ]
    }
   ],
   "source": [
    "# 임곗값를 0.48로 설정한 Binarizer 생성\n",
    "binarizer = Binarizer(threshold=0.48)\n",
    "\n",
    "# 위에서 구한 lr_clf의 predict_proba() 예측 확률 array에서 1에 해당하는 컬럼값을 Binarizer변환. \n",
    "pred_th_048 = binarizer.fit_transform(pred_proba[:, 1].reshape(-1,1)) \n",
    "\n",
    "get_clf_eval(y_test , pred_th_048, pred_proba[:, 1])\n",
    "\n",
    "    \n"
   ]
  },
  {
   "cell_type": "code",
   "execution_count": 27,
   "metadata": {},
   "outputs": [
    {
     "data": {
      "text/plain": [
       "'2.1.0'"
      ]
     },
     "execution_count": 27,
     "metadata": {},
     "output_type": "execute_result"
    }
   ],
   "source": [
    "import pandas as pd\n",
    "import numpy as np\n",
    "import tensorflow as tf\n",
    "tf.__version__"
   ]
  },
  {
   "cell_type": "code",
   "execution_count": 28,
   "metadata": {},
   "outputs": [],
   "source": [
    "# 실행할 때마다 같은 결과를 출력하기 위한 seed 값 설정\n",
    "seed = 2000\n",
    "np.random.seed(seed)\n",
    "tf.random.set_seed(seed)"
   ]
  },
  {
   "cell_type": "code",
   "execution_count": 29,
   "metadata": {},
   "outputs": [
    {
     "name": "stdout",
     "output_type": "stream",
     "text": [
      "[[293.     1.     3.8  ...   0.    62.     0.  ]\n",
      " [  1.     2.     2.88 ...   0.    60.     0.  ]\n",
      " [  8.     2.     3.19 ...   0.    66.     1.  ]\n",
      " ...\n",
      " [406.     6.     5.36 ...   0.    62.     0.  ]\n",
      " [ 25.     8.     4.32 ...   0.    58.     1.  ]\n",
      " [447.     8.     5.2  ...   0.    49.     0.  ]]\n"
     ]
    }
   ],
   "source": [
    "#준비된 수술 환자 데이터를 불러들임\n",
    "Data_set = np.loadtxt(\"./dataset/ThoraricSurgery.csv\", delimiter = \",\")\n",
    "print (Data_set)"
   ]
  },
  {
   "cell_type": "code",
   "execution_count": 30,
   "metadata": {},
   "outputs": [
    {
     "data": {
      "text/plain": [
       "((470, 17), (470,))"
      ]
     },
     "execution_count": 30,
     "metadata": {},
     "output_type": "execute_result"
    }
   ],
   "source": [
    "#환자의 기록과 수술 결과를 X와 Y로 구분하여 저장\n",
    "X = Data_set[:,0:17]\n",
    "Y = Data_set[:,17]\n",
    "X.shape, Y.shape"
   ]
  },
  {
   "cell_type": "code",
   "execution_count": 43,
   "metadata": {},
   "outputs": [
    {
     "data": {
      "image/png": "[encoded data removed]",
      "text/plain": [
       "<Figure size 720x576 with 2 Axes>"
      ]
     },
     "metadata": {
      "needs_background": "light"
     },
     "output_type": "display_data"
    }
   ],
   "source": [
    "df = pd.DataFrame(X,Y)\n",
    "\n",
    "plt.figure(figsize = (10,8))\n",
    "sns.heatmap(df.corr(), linewidths = 0.1, vmax = 0.5, cmap = plt.cm.gist_heat, linecolor = 'white', annot = True)\n",
    "plt.show()    "
   ]
  },
  {
   "cell_type": "code",
   "execution_count": 31,
   "metadata": {},
   "outputs": [],
   "source": [
    "from sklearn.model_selection import train_test_split\n",
    "\n",
    "X_train , X_test, y_train, y_test = train_test_split(\n",
    "    X, \n",
    "    Y, \n",
    "    test_size = 0.2, \n",
    "    random_state=2029)"
   ]
  },
  {
   "cell_type": "code",
   "execution_count": 26,
   "metadata": {},
   "outputs": [],
   "source": [
    "from tensorflow.keras.models import Sequential\n",
    "from tensorflow.keras.layers import Dense"
   ]
  },
  {
   "cell_type": "code",
   "execution_count": 33,
   "metadata": {},
   "outputs": [
    {
     "name": "stdout",
     "output_type": "stream",
     "text": [
      "Model: \"sequential\"\n",
      "_________________________________________________________________\n",
      "Layer (type)                 Output Shape              Param #   \n",
      "=================================================================\n",
      "dense (Dense)                (None, 12)                216       \n",
      "_________________________________________________________________\n",
      "dense_1 (Dense)              (None, 8)                 104       \n",
      "_________________________________________________________________\n",
      "dense_2 (Dense)              (None, 1)                 9         \n",
      "=================================================================\n",
      "Total params: 329\n",
      "Trainable params: 329\n",
      "Non-trainable params: 0\n",
      "_________________________________________________________________\n"
     ]
    }
   ],
   "source": [
    "model = Sequential ([\n",
    "    Dense(12, input_shape = (17, ), activation = 'relu'),\n",
    "    Dense(8, activation = 'sigmoid'),\n",
    "    Dense(1, activation = 'sigmoid')\n",
    "])\n",
    "model.summary()"
   ]
  },
  {
   "cell_type": "code",
   "execution_count": 34,
   "metadata": {},
   "outputs": [],
   "source": [
    "# 딥러닝 환경 설정 (오차함수, 최적화 함수)\n",
    "model.compile(loss = 'binary_crossentropy', \n",
    "             optimizer = 'adam' , metrics = ['accuracy'])"
   ]
  },
  {
   "cell_type": "code",
   "execution_count": 37,
   "metadata": {},
   "outputs": [
    {
     "name": "stdout",
     "output_type": "stream",
     "text": [
      "Train on 300 samples, validate on 76 samples\n",
      "Epoch 1/200\n",
      "300/300 [==============================] - 0s 769us/sample - loss: 0.4209 - accuracy: 0.8500 - val_loss: 0.3688 - val_accuracy: 0.8816\n",
      "Epoch 2/200\n",
      "300/300 [==============================] - 0s 43us/sample - loss: 0.4210 - accuracy: 0.8500 - val_loss: 0.3686 - val_accuracy: 0.8816\n",
      "Epoch 3/200\n",
      "300/300 [==============================] - 0s 44us/sample - loss: 0.4209 - accuracy: 0.8500 - val_loss: 0.3684 - val_accuracy: 0.8816\n",
      "Epoch 4/200\n",
      "300/300 [==============================] - 0s 43us/sample - loss: 0.4208 - accuracy: 0.8500 - val_loss: 0.3684 - val_accuracy: 0.8816\n",
      "Epoch 5/200\n",
      "300/300 [==============================] - 0s 43us/sample - loss: 0.4207 - accuracy: 0.8500 - val_loss: 0.3683 - val_accuracy: 0.8816\n",
      "Epoch 6/200\n",
      "300/300 [==============================] - 0s 42us/sample - loss: 0.4207 - accuracy: 0.8500 - val_loss: 0.3682 - val_accuracy: 0.8816\n",
      "Epoch 7/200\n",
      "300/300 [==============================] - 0s 41us/sample - loss: 0.4206 - accuracy: 0.8500 - val_loss: 0.3681 - val_accuracy: 0.8816\n",
      "Epoch 8/200\n",
      "300/300 [==============================] - 0s 43us/sample - loss: 0.4206 - accuracy: 0.8500 - val_loss: 0.3681 - val_accuracy: 0.8816\n",
      "Epoch 9/200\n",
      "300/300 [==============================] - 0s 43us/sample - loss: 0.4206 - accuracy: 0.8500 - val_loss: 0.3681 - val_accuracy: 0.8816\n",
      "Epoch 10/200\n",
      "300/300 [==============================] - 0s 43us/sample - loss: 0.4206 - accuracy: 0.8500 - val_loss: 0.3681 - val_accuracy: 0.8816\n",
      "Epoch 11/200\n",
      "300/300 [==============================] - 0s 40us/sample - loss: 0.4205 - accuracy: 0.8500 - val_loss: 0.3681 - val_accuracy: 0.8816\n",
      "Epoch 12/200\n",
      "300/300 [==============================] - 0s 43us/sample - loss: 0.4205 - accuracy: 0.8500 - val_loss: 0.3681 - val_accuracy: 0.8816\n",
      "Epoch 13/200\n",
      "300/300 [==============================] - 0s 42us/sample - loss: 0.4205 - accuracy: 0.8500 - val_loss: 0.3680 - val_accuracy: 0.8816\n",
      "Epoch 14/200\n",
      "300/300 [==============================] - 0s 43us/sample - loss: 0.4205 - accuracy: 0.8500 - val_loss: 0.3680 - val_accuracy: 0.8816\n",
      "Epoch 15/200\n",
      "300/300 [==============================] - 0s 43us/sample - loss: 0.4205 - accuracy: 0.8500 - val_loss: 0.3680 - val_accuracy: 0.8816\n",
      "Epoch 16/200\n",
      "300/300 [==============================] - 0s 43us/sample - loss: 0.4205 - accuracy: 0.8500 - val_loss: 0.3680 - val_accuracy: 0.8816\n",
      "Epoch 17/200\n",
      "300/300 [==============================] - 0s 43us/sample - loss: 0.4205 - accuracy: 0.8500 - val_loss: 0.3680 - val_accuracy: 0.8816\n",
      "Epoch 18/200\n",
      "300/300 [==============================] - 0s 42us/sample - loss: 0.4205 - accuracy: 0.8500 - val_loss: 0.3679 - val_accuracy: 0.8816\n",
      "Epoch 19/200\n",
      "300/300 [==============================] - 0s 40us/sample - loss: 0.4205 - accuracy: 0.8500 - val_loss: 0.3679 - val_accuracy: 0.8816\n",
      "Epoch 20/200\n",
      "300/300 [==============================] - 0s 41us/sample - loss: 0.4205 - accuracy: 0.8500 - val_loss: 0.3679 - val_accuracy: 0.8816\n",
      "Epoch 21/200\n",
      "300/300 [==============================] - 0s 42us/sample - loss: 0.4204 - accuracy: 0.8500 - val_loss: 0.3679 - val_accuracy: 0.8816\n",
      "Epoch 22/200\n",
      "300/300 [==============================] - 0s 42us/sample - loss: 0.4205 - accuracy: 0.8500 - val_loss: 0.3678 - val_accuracy: 0.8816\n",
      "Epoch 23/200\n",
      "300/300 [==============================] - 0s 44us/sample - loss: 0.4204 - accuracy: 0.8500 - val_loss: 0.3679 - val_accuracy: 0.8816\n",
      "Epoch 24/200\n",
      "300/300 [==============================] - 0s 41us/sample - loss: 0.4204 - accuracy: 0.8500 - val_loss: 0.3679 - val_accuracy: 0.8816\n",
      "Epoch 25/200\n",
      "300/300 [==============================] - 0s 42us/sample - loss: 0.4204 - accuracy: 0.8500 - val_loss: 0.3680 - val_accuracy: 0.8816\n",
      "Epoch 26/200\n",
      "300/300 [==============================] - 0s 40us/sample - loss: 0.4204 - accuracy: 0.8500 - val_loss: 0.3679 - val_accuracy: 0.8816\n",
      "Epoch 27/200\n",
      "300/300 [==============================] - 0s 40us/sample - loss: 0.4204 - accuracy: 0.8500 - val_loss: 0.3679 - val_accuracy: 0.8816\n",
      "Epoch 28/200\n",
      "300/300 [==============================] - 0s 53us/sample - loss: 0.4204 - accuracy: 0.8500 - val_loss: 0.3679 - val_accuracy: 0.8816\n",
      "Epoch 29/200\n",
      "300/300 [==============================] - 0s 43us/sample - loss: 0.4204 - accuracy: 0.8500 - val_loss: 0.3679 - val_accuracy: 0.8816\n",
      "Epoch 30/200\n",
      "300/300 [==============================] - 0s 40us/sample - loss: 0.4204 - accuracy: 0.8500 - val_loss: 0.3678 - val_accuracy: 0.8816\n",
      "Epoch 31/200\n",
      "300/300 [==============================] - 0s 40us/sample - loss: 0.4203 - accuracy: 0.8500 - val_loss: 0.3678 - val_accuracy: 0.8816\n",
      "Epoch 32/200\n",
      "300/300 [==============================] - 0s 43us/sample - loss: 0.4203 - accuracy: 0.8500 - val_loss: 0.3678 - val_accuracy: 0.8816\n",
      "Epoch 33/200\n",
      "300/300 [==============================] - 0s 43us/sample - loss: 0.4203 - accuracy: 0.8500 - val_loss: 0.3678 - val_accuracy: 0.8816\n",
      "Epoch 34/200\n",
      "300/300 [==============================] - 0s 41us/sample - loss: 0.4203 - accuracy: 0.8500 - val_loss: 0.3678 - val_accuracy: 0.8816\n",
      "Epoch 35/200\n",
      "300/300 [==============================] - 0s 43us/sample - loss: 0.4203 - accuracy: 0.8500 - val_loss: 0.3678 - val_accuracy: 0.8816\n",
      "Epoch 36/200\n",
      "300/300 [==============================] - 0s 40us/sample - loss: 0.4203 - accuracy: 0.8500 - val_loss: 0.3678 - val_accuracy: 0.8816\n",
      "Epoch 37/200\n",
      "300/300 [==============================] - 0s 47us/sample - loss: 0.4203 - accuracy: 0.8500 - val_loss: 0.3678 - val_accuracy: 0.8816\n",
      "Epoch 38/200\n",
      "300/300 [==============================] - 0s 43us/sample - loss: 0.4203 - accuracy: 0.8500 - val_loss: 0.3678 - val_accuracy: 0.8816\n",
      "Epoch 39/200\n",
      "300/300 [==============================] - 0s 41us/sample - loss: 0.4203 - accuracy: 0.8500 - val_loss: 0.3678 - val_accuracy: 0.8816\n",
      "Epoch 40/200\n",
      "300/300 [==============================] - 0s 45us/sample - loss: 0.4203 - accuracy: 0.8500 - val_loss: 0.3677 - val_accuracy: 0.8816\n",
      "Epoch 41/200\n",
      "300/300 [==============================] - 0s 43us/sample - loss: 0.4203 - accuracy: 0.8500 - val_loss: 0.3678 - val_accuracy: 0.8816\n",
      "Epoch 42/200\n",
      "300/300 [==============================] - 0s 41us/sample - loss: 0.4202 - accuracy: 0.8500 - val_loss: 0.3678 - val_accuracy: 0.8816\n",
      "Epoch 43/200\n",
      "300/300 [==============================] - 0s 40us/sample - loss: 0.4203 - accuracy: 0.8500 - val_loss: 0.3678 - val_accuracy: 0.8816\n",
      "Epoch 44/200\n",
      "300/300 [==============================] - 0s 46us/sample - loss: 0.4202 - accuracy: 0.8500 - val_loss: 0.3678 - val_accuracy: 0.8816\n",
      "Epoch 45/200\n",
      "300/300 [==============================] - 0s 41us/sample - loss: 0.4203 - accuracy: 0.8500 - val_loss: 0.3679 - val_accuracy: 0.8816\n",
      "Epoch 46/200\n",
      "300/300 [==============================] - 0s 40us/sample - loss: 0.4203 - accuracy: 0.8500 - val_loss: 0.3677 - val_accuracy: 0.8816\n",
      "Epoch 47/200\n",
      "300/300 [==============================] - 0s 44us/sample - loss: 0.4202 - accuracy: 0.8500 - val_loss: 0.3677 - val_accuracy: 0.8816\n",
      "Epoch 48/200\n",
      "300/300 [==============================] - 0s 39us/sample - loss: 0.4202 - accuracy: 0.8500 - val_loss: 0.3677 - val_accuracy: 0.8816\n",
      "Epoch 49/200\n",
      "300/300 [==============================] - 0s 39us/sample - loss: 0.4202 - accuracy: 0.8500 - val_loss: 0.3677 - val_accuracy: 0.8816\n",
      "Epoch 50/200\n",
      "300/300 [==============================] - 0s 40us/sample - loss: 0.4202 - accuracy: 0.8500 - val_loss: 0.3678 - val_accuracy: 0.8816\n",
      "Epoch 51/200\n",
      "300/300 [==============================] - 0s 41us/sample - loss: 0.4202 - accuracy: 0.8500 - val_loss: 0.3678 - val_accuracy: 0.8816\n",
      "Epoch 52/200\n",
      "300/300 [==============================] - 0s 40us/sample - loss: 0.4202 - accuracy: 0.8500 - val_loss: 0.3678 - val_accuracy: 0.8816\n",
      "Epoch 53/200\n",
      "300/300 [==============================] - 0s 40us/sample - loss: 0.4202 - accuracy: 0.8500 - val_loss: 0.3677 - val_accuracy: 0.8816\n",
      "Epoch 54/200\n",
      "300/300 [==============================] - 0s 43us/sample - loss: 0.4201 - accuracy: 0.8500 - val_loss: 0.3677 - val_accuracy: 0.8816\n",
      "Epoch 55/200\n",
      "300/300 [==============================] - 0s 47us/sample - loss: 0.4201 - accuracy: 0.8500 - val_loss: 0.3677 - val_accuracy: 0.8816\n",
      "Epoch 56/200\n"
     ]
    },
    {
     "name": "stdout",
     "output_type": "stream",
     "text": [
      "300/300 [==============================] - 0s 43us/sample - loss: 0.4201 - accuracy: 0.8500 - val_loss: 0.3677 - val_accuracy: 0.8816\n",
      "Epoch 57/200\n",
      "300/300 [==============================] - 0s 42us/sample - loss: 0.4201 - accuracy: 0.8500 - val_loss: 0.3678 - val_accuracy: 0.8816\n",
      "Epoch 58/200\n",
      "300/300 [==============================] - 0s 40us/sample - loss: 0.4201 - accuracy: 0.8500 - val_loss: 0.3677 - val_accuracy: 0.8816\n",
      "Epoch 59/200\n",
      "300/300 [==============================] - 0s 41us/sample - loss: 0.4201 - accuracy: 0.8500 - val_loss: 0.3678 - val_accuracy: 0.8816\n",
      "Epoch 60/200\n",
      "300/300 [==============================] - 0s 40us/sample - loss: 0.4200 - accuracy: 0.8500 - val_loss: 0.3678 - val_accuracy: 0.8816\n",
      "Epoch 61/200\n",
      "300/300 [==============================] - 0s 43us/sample - loss: 0.4201 - accuracy: 0.8500 - val_loss: 0.3677 - val_accuracy: 0.8816\n",
      "Epoch 62/200\n",
      "300/300 [==============================] - 0s 40us/sample - loss: 0.4201 - accuracy: 0.8500 - val_loss: 0.3676 - val_accuracy: 0.8816\n",
      "Epoch 63/200\n",
      "300/300 [==============================] - 0s 40us/sample - loss: 0.4200 - accuracy: 0.8500 - val_loss: 0.3678 - val_accuracy: 0.8816\n",
      "Epoch 64/200\n",
      "300/300 [==============================] - 0s 42us/sample - loss: 0.4200 - accuracy: 0.8500 - val_loss: 0.3678 - val_accuracy: 0.8816\n",
      "Epoch 65/200\n",
      "300/300 [==============================] - 0s 43us/sample - loss: 0.4200 - accuracy: 0.8500 - val_loss: 0.3678 - val_accuracy: 0.8816\n",
      "Epoch 66/200\n",
      "300/300 [==============================] - 0s 42us/sample - loss: 0.4199 - accuracy: 0.8500 - val_loss: 0.3677 - val_accuracy: 0.8816\n",
      "Epoch 67/200\n",
      "300/300 [==============================] - 0s 40us/sample - loss: 0.4199 - accuracy: 0.8500 - val_loss: 0.3677 - val_accuracy: 0.8816\n",
      "Epoch 68/200\n",
      "300/300 [==============================] - ETA: 0s - loss: 0.4418 - accuracy: 0.84 - 0s 40us/sample - loss: 0.4199 - accuracy: 0.8500 - val_loss: 0.3677 - val_accuracy: 0.8816\n",
      "Epoch 69/200\n",
      "300/300 [==============================] - 0s 43us/sample - loss: 0.4200 - accuracy: 0.8500 - val_loss: 0.3678 - val_accuracy: 0.8816\n",
      "Epoch 70/200\n",
      "300/300 [==============================] - 0s 40us/sample - loss: 0.4199 - accuracy: 0.8500 - val_loss: 0.3677 - val_accuracy: 0.8816\n",
      "Epoch 71/200\n",
      "300/300 [==============================] - 0s 40us/sample - loss: 0.4199 - accuracy: 0.8500 - val_loss: 0.3677 - val_accuracy: 0.8816\n",
      "Epoch 72/200\n",
      "300/300 [==============================] - 0s 40us/sample - loss: 0.4199 - accuracy: 0.8500 - val_loss: 0.3678 - val_accuracy: 0.8816\n",
      "Epoch 73/200\n",
      "300/300 [==============================] - 0s 43us/sample - loss: 0.4199 - accuracy: 0.8500 - val_loss: 0.3677 - val_accuracy: 0.8816\n",
      "Epoch 74/200\n",
      "300/300 [==============================] - 0s 44us/sample - loss: 0.4198 - accuracy: 0.8500 - val_loss: 0.3678 - val_accuracy: 0.8816\n",
      "Epoch 75/200\n",
      "300/300 [==============================] - 0s 41us/sample - loss: 0.4198 - accuracy: 0.8500 - val_loss: 0.3678 - val_accuracy: 0.8816\n",
      "Epoch 76/200\n",
      "300/300 [==============================] - ETA: 0s - loss: 0.3988 - accuracy: 0.86 - 0s 43us/sample - loss: 0.4198 - accuracy: 0.8500 - val_loss: 0.3677 - val_accuracy: 0.8816\n",
      "Epoch 77/200\n",
      "300/300 [==============================] - 0s 43us/sample - loss: 0.4198 - accuracy: 0.8500 - val_loss: 0.3677 - val_accuracy: 0.8816\n",
      "Epoch 78/200\n",
      "300/300 [==============================] - 0s 43us/sample - loss: 0.4198 - accuracy: 0.8500 - val_loss: 0.3677 - val_accuracy: 0.8816\n",
      "Epoch 79/200\n",
      "300/300 [==============================] - 0s 42us/sample - loss: 0.4198 - accuracy: 0.8500 - val_loss: 0.3676 - val_accuracy: 0.8816\n",
      "Epoch 80/200\n",
      "300/300 [==============================] - 0s 42us/sample - loss: 0.4197 - accuracy: 0.8500 - val_loss: 0.3677 - val_accuracy: 0.8816\n",
      "Epoch 81/200\n",
      "300/300 [==============================] - 0s 41us/sample - loss: 0.4197 - accuracy: 0.8500 - val_loss: 0.3677 - val_accuracy: 0.8816\n",
      "Epoch 82/200\n",
      "300/300 [==============================] - 0s 40us/sample - loss: 0.4197 - accuracy: 0.8500 - val_loss: 0.3676 - val_accuracy: 0.8816\n",
      "Epoch 83/200\n",
      "300/300 [==============================] - 0s 43us/sample - loss: 0.4197 - accuracy: 0.8500 - val_loss: 0.3676 - val_accuracy: 0.8816\n",
      "Epoch 84/200\n",
      "300/300 [==============================] - 0s 44us/sample - loss: 0.4197 - accuracy: 0.8500 - val_loss: 0.3675 - val_accuracy: 0.8816\n",
      "Epoch 85/200\n",
      "300/300 [==============================] - 0s 41us/sample - loss: 0.4197 - accuracy: 0.8500 - val_loss: 0.3677 - val_accuracy: 0.8816\n",
      "Epoch 86/200\n",
      "300/300 [==============================] - 0s 43us/sample - loss: 0.4197 - accuracy: 0.8500 - val_loss: 0.3677 - val_accuracy: 0.8816\n",
      "Epoch 87/200\n",
      "300/300 [==============================] - 0s 42us/sample - loss: 0.4196 - accuracy: 0.8500 - val_loss: 0.3677 - val_accuracy: 0.8816\n",
      "Epoch 88/200\n",
      "300/300 [==============================] - 0s 40us/sample - loss: 0.4196 - accuracy: 0.8500 - val_loss: 0.3677 - val_accuracy: 0.8816\n",
      "Epoch 89/200\n",
      "300/300 [==============================] - 0s 43us/sample - loss: 0.4196 - accuracy: 0.8500 - val_loss: 0.3678 - val_accuracy: 0.8816\n",
      "Epoch 90/200\n",
      "300/300 [==============================] - 0s 46us/sample - loss: 0.4196 - accuracy: 0.8500 - val_loss: 0.3677 - val_accuracy: 0.8816\n",
      "Epoch 91/200\n",
      "300/300 [==============================] - 0s 39us/sample - loss: 0.4196 - accuracy: 0.8500 - val_loss: 0.3677 - val_accuracy: 0.8816\n",
      "Epoch 92/200\n",
      "300/300 [==============================] - 0s 43us/sample - loss: 0.4196 - accuracy: 0.8500 - val_loss: 0.3678 - val_accuracy: 0.8816\n",
      "Epoch 93/200\n",
      "300/300 [==============================] - 0s 43us/sample - loss: 0.4195 - accuracy: 0.8500 - val_loss: 0.3678 - val_accuracy: 0.8816\n",
      "Epoch 94/200\n",
      "300/300 [==============================] - 0s 43us/sample - loss: 0.4195 - accuracy: 0.8500 - val_loss: 0.3678 - val_accuracy: 0.8816\n",
      "Epoch 95/200\n",
      "300/300 [==============================] - 0s 42us/sample - loss: 0.4195 - accuracy: 0.8500 - val_loss: 0.3677 - val_accuracy: 0.8816\n",
      "Epoch 96/200\n",
      "300/300 [==============================] - 0s 43us/sample - loss: 0.4195 - accuracy: 0.8500 - val_loss: 0.3678 - val_accuracy: 0.8816\n",
      "Epoch 97/200\n",
      "300/300 [==============================] - 0s 40us/sample - loss: 0.4194 - accuracy: 0.8500 - val_loss: 0.3677 - val_accuracy: 0.8816\n",
      "Epoch 98/200\n",
      "300/300 [==============================] - 0s 39us/sample - loss: 0.4194 - accuracy: 0.8500 - val_loss: 0.3678 - val_accuracy: 0.8816\n",
      "Epoch 99/200\n",
      "300/300 [==============================] - 0s 42us/sample - loss: 0.4194 - accuracy: 0.8500 - val_loss: 0.3678 - val_accuracy: 0.8816\n",
      "Epoch 100/200\n",
      "300/300 [==============================] - 0s 43us/sample - loss: 0.4194 - accuracy: 0.8500 - val_loss: 0.3678 - val_accuracy: 0.8816\n",
      "Epoch 101/200\n",
      "300/300 [==============================] - 0s 40us/sample - loss: 0.4193 - accuracy: 0.8500 - val_loss: 0.3677 - val_accuracy: 0.8816\n",
      "Epoch 102/200\n",
      "300/300 [==============================] - 0s 42us/sample - loss: 0.4194 - accuracy: 0.8500 - val_loss: 0.3676 - val_accuracy: 0.8816\n",
      "Epoch 103/200\n",
      "300/300 [==============================] - 0s 40us/sample - loss: 0.4193 - accuracy: 0.8500 - val_loss: 0.3677 - val_accuracy: 0.8816\n",
      "Epoch 104/200\n",
      "300/300 [==============================] - 0s 40us/sample - loss: 0.4193 - accuracy: 0.8500 - val_loss: 0.3678 - val_accuracy: 0.8816\n",
      "Epoch 105/200\n",
      "300/300 [==============================] - 0s 39us/sample - loss: 0.4193 - accuracy: 0.8500 - val_loss: 0.3678 - val_accuracy: 0.8816\n",
      "Epoch 106/200\n",
      "300/300 [==============================] - 0s 42us/sample - loss: 0.4193 - accuracy: 0.8500 - val_loss: 0.3677 - val_accuracy: 0.8816\n",
      "Epoch 107/200\n",
      "300/300 [==============================] - 0s 40us/sample - loss: 0.4192 - accuracy: 0.8500 - val_loss: 0.3677 - val_accuracy: 0.8816\n",
      "Epoch 108/200\n",
      "300/300 [==============================] - 0s 40us/sample - loss: 0.4193 - accuracy: 0.8500 - val_loss: 0.3677 - val_accuracy: 0.8816\n",
      "Epoch 109/200\n",
      "300/300 [==============================] - 0s 41us/sample - loss: 0.4192 - accuracy: 0.8500 - val_loss: 0.3677 - val_accuracy: 0.8816\n",
      "Epoch 110/200\n",
      "300/300 [==============================] - 0s 41us/sample - loss: 0.4192 - accuracy: 0.8500 - val_loss: 0.3677 - val_accuracy: 0.8816\n",
      "Epoch 111/200\n"
     ]
    },
    {
     "name": "stdout",
     "output_type": "stream",
     "text": [
      "300/300 [==============================] - 0s 43us/sample - loss: 0.4192 - accuracy: 0.8500 - val_loss: 0.3678 - val_accuracy: 0.8816\n",
      "Epoch 112/200\n",
      "300/300 [==============================] - 0s 42us/sample - loss: 0.4192 - accuracy: 0.8500 - val_loss: 0.3677 - val_accuracy: 0.8816\n",
      "Epoch 113/200\n",
      "300/300 [==============================] - 0s 41us/sample - loss: 0.4191 - accuracy: 0.8500 - val_loss: 0.3678 - val_accuracy: 0.8816\n",
      "Epoch 114/200\n",
      "300/300 [==============================] - 0s 41us/sample - loss: 0.4192 - accuracy: 0.8500 - val_loss: 0.3678 - val_accuracy: 0.8816\n",
      "Epoch 115/200\n",
      "300/300 [==============================] - 0s 43us/sample - loss: 0.4192 - accuracy: 0.8500 - val_loss: 0.3676 - val_accuracy: 0.8816\n",
      "Epoch 116/200\n",
      "300/300 [==============================] - 0s 41us/sample - loss: 0.4191 - accuracy: 0.8500 - val_loss: 0.3677 - val_accuracy: 0.8816\n",
      "Epoch 117/200\n",
      "300/300 [==============================] - 0s 43us/sample - loss: 0.4191 - accuracy: 0.8500 - val_loss: 0.3678 - val_accuracy: 0.8816\n",
      "Epoch 118/200\n",
      "300/300 [==============================] - 0s 43us/sample - loss: 0.4190 - accuracy: 0.8500 - val_loss: 0.3678 - val_accuracy: 0.8816\n",
      "Epoch 119/200\n",
      "300/300 [==============================] - 0s 41us/sample - loss: 0.4190 - accuracy: 0.8500 - val_loss: 0.3677 - val_accuracy: 0.8816\n",
      "Epoch 120/200\n",
      "300/300 [==============================] - 0s 42us/sample - loss: 0.4190 - accuracy: 0.8500 - val_loss: 0.3678 - val_accuracy: 0.8816\n",
      "Epoch 121/200\n",
      "300/300 [==============================] - 0s 39us/sample - loss: 0.4190 - accuracy: 0.8500 - val_loss: 0.3677 - val_accuracy: 0.8816\n",
      "Epoch 122/200\n",
      "300/300 [==============================] - 0s 38us/sample - loss: 0.4191 - accuracy: 0.8500 - val_loss: 0.3677 - val_accuracy: 0.8816\n",
      "Epoch 123/200\n",
      "300/300 [==============================] - 0s 39us/sample - loss: 0.4190 - accuracy: 0.8500 - val_loss: 0.3678 - val_accuracy: 0.8816\n",
      "Epoch 124/200\n",
      "300/300 [==============================] - 0s 42us/sample - loss: 0.4190 - accuracy: 0.8500 - val_loss: 0.3679 - val_accuracy: 0.8816\n",
      "Epoch 125/200\n",
      "300/300 [==============================] - 0s 41us/sample - loss: 0.4189 - accuracy: 0.8500 - val_loss: 0.3679 - val_accuracy: 0.8816\n",
      "Epoch 126/200\n",
      "300/300 [==============================] - 0s 42us/sample - loss: 0.4189 - accuracy: 0.8500 - val_loss: 0.3678 - val_accuracy: 0.8816\n",
      "Epoch 127/200\n",
      "300/300 [==============================] - 0s 38us/sample - loss: 0.4189 - accuracy: 0.8500 - val_loss: 0.3678 - val_accuracy: 0.8816\n",
      "Epoch 128/200\n",
      "300/300 [==============================] - 0s 44us/sample - loss: 0.4189 - accuracy: 0.8500 - val_loss: 0.3679 - val_accuracy: 0.8816\n",
      "Epoch 129/200\n",
      "300/300 [==============================] - 0s 40us/sample - loss: 0.4188 - accuracy: 0.8500 - val_loss: 0.3678 - val_accuracy: 0.8816\n",
      "Epoch 130/200\n",
      "300/300 [==============================] - 0s 42us/sample - loss: 0.4188 - accuracy: 0.8500 - val_loss: 0.3679 - val_accuracy: 0.8816\n",
      "Epoch 131/200\n",
      "300/300 [==============================] - 0s 38us/sample - loss: 0.4188 - accuracy: 0.8500 - val_loss: 0.3678 - val_accuracy: 0.8816\n",
      "Epoch 132/200\n",
      "300/300 [==============================] - 0s 40us/sample - loss: 0.4188 - accuracy: 0.8500 - val_loss: 0.3678 - val_accuracy: 0.8816\n",
      "Epoch 133/200\n",
      "300/300 [==============================] - 0s 42us/sample - loss: 0.4188 - accuracy: 0.8500 - val_loss: 0.3677 - val_accuracy: 0.8816\n",
      "Epoch 134/200\n",
      "300/300 [==============================] - 0s 39us/sample - loss: 0.4188 - accuracy: 0.8500 - val_loss: 0.3678 - val_accuracy: 0.8816\n",
      "Epoch 135/200\n",
      "300/300 [==============================] - 0s 42us/sample - loss: 0.4189 - accuracy: 0.8500 - val_loss: 0.3680 - val_accuracy: 0.8816\n",
      "Epoch 136/200\n",
      "300/300 [==============================] - 0s 39us/sample - loss: 0.4188 - accuracy: 0.8500 - val_loss: 0.3679 - val_accuracy: 0.8816\n",
      "Epoch 137/200\n",
      "300/300 [==============================] - ETA: 0s - loss: 0.5444 - accuracy: 0.78 - 0s 42us/sample - loss: 0.4187 - accuracy: 0.8500 - val_loss: 0.3679 - val_accuracy: 0.8816\n",
      "Epoch 138/200\n",
      "300/300 [==============================] - 0s 42us/sample - loss: 0.4187 - accuracy: 0.8500 - val_loss: 0.3678 - val_accuracy: 0.8816\n",
      "Epoch 139/200\n",
      "300/300 [==============================] - 0s 43us/sample - loss: 0.4188 - accuracy: 0.8500 - val_loss: 0.3677 - val_accuracy: 0.8816\n",
      "Epoch 140/200\n",
      "300/300 [==============================] - 0s 43us/sample - loss: 0.4186 - accuracy: 0.8500 - val_loss: 0.3678 - val_accuracy: 0.8816\n",
      "Epoch 141/200\n",
      "300/300 [==============================] - 0s 40us/sample - loss: 0.4186 - accuracy: 0.8500 - val_loss: 0.3678 - val_accuracy: 0.8816\n",
      "Epoch 142/200\n",
      "300/300 [==============================] - 0s 42us/sample - loss: 0.4187 - accuracy: 0.8500 - val_loss: 0.3679 - val_accuracy: 0.8816\n",
      "Epoch 143/200\n",
      "300/300 [==============================] - 0s 44us/sample - loss: 0.4186 - accuracy: 0.8500 - val_loss: 0.3678 - val_accuracy: 0.8816\n",
      "Epoch 144/200\n",
      "300/300 [==============================] - 0s 43us/sample - loss: 0.4186 - accuracy: 0.8500 - val_loss: 0.3678 - val_accuracy: 0.8816\n",
      "Epoch 145/200\n",
      "300/300 [==============================] - 0s 42us/sample - loss: 0.4186 - accuracy: 0.8500 - val_loss: 0.3678 - val_accuracy: 0.8816\n",
      "Epoch 146/200\n",
      "300/300 [==============================] - 0s 39us/sample - loss: 0.4186 - accuracy: 0.8500 - val_loss: 0.3678 - val_accuracy: 0.8816\n",
      "Epoch 147/200\n",
      "300/300 [==============================] - 0s 43us/sample - loss: 0.4186 - accuracy: 0.8500 - val_loss: 0.3677 - val_accuracy: 0.8816\n",
      "Epoch 148/200\n",
      "300/300 [==============================] - 0s 40us/sample - loss: 0.4185 - accuracy: 0.8500 - val_loss: 0.3678 - val_accuracy: 0.8816\n",
      "Epoch 149/200\n",
      "300/300 [==============================] - 0s 43us/sample - loss: 0.4185 - accuracy: 0.8500 - val_loss: 0.3678 - val_accuracy: 0.8816\n",
      "Epoch 150/200\n",
      "300/300 [==============================] - 0s 37us/sample - loss: 0.4185 - accuracy: 0.8500 - val_loss: 0.3678 - val_accuracy: 0.8816\n",
      "Epoch 151/200\n",
      "300/300 [==============================] - 0s 43us/sample - loss: 0.4185 - accuracy: 0.8500 - val_loss: 0.3678 - val_accuracy: 0.8816\n",
      "Epoch 152/200\n",
      "300/300 [==============================] - 0s 43us/sample - loss: 0.4185 - accuracy: 0.8500 - val_loss: 0.3678 - val_accuracy: 0.8816\n",
      "Epoch 153/200\n",
      "300/300 [==============================] - 0s 42us/sample - loss: 0.4185 - accuracy: 0.8500 - val_loss: 0.3678 - val_accuracy: 0.8816\n",
      "Epoch 154/200\n",
      "300/300 [==============================] - 0s 40us/sample - loss: 0.4185 - accuracy: 0.8500 - val_loss: 0.3679 - val_accuracy: 0.8816\n",
      "Epoch 155/200\n",
      "300/300 [==============================] - 0s 40us/sample - loss: 0.4184 - accuracy: 0.8500 - val_loss: 0.3679 - val_accuracy: 0.8816\n",
      "Epoch 156/200\n",
      "300/300 [==============================] - 0s 43us/sample - loss: 0.4184 - accuracy: 0.8500 - val_loss: 0.3678 - val_accuracy: 0.8816\n",
      "Epoch 157/200\n",
      "300/300 [==============================] - 0s 43us/sample - loss: 0.4184 - accuracy: 0.8500 - val_loss: 0.3678 - val_accuracy: 0.8816\n",
      "Epoch 158/200\n",
      "300/300 [==============================] - 0s 40us/sample - loss: 0.4184 - accuracy: 0.8500 - val_loss: 0.3678 - val_accuracy: 0.8816\n",
      "Epoch 159/200\n",
      "300/300 [==============================] - 0s 43us/sample - loss: 0.4184 - accuracy: 0.8500 - val_loss: 0.3677 - val_accuracy: 0.8816\n",
      "Epoch 160/200\n",
      "300/300 [==============================] - 0s 41us/sample - loss: 0.4184 - accuracy: 0.8500 - val_loss: 0.3679 - val_accuracy: 0.8816\n",
      "Epoch 161/200\n",
      "300/300 [==============================] - 0s 43us/sample - loss: 0.4183 - accuracy: 0.8500 - val_loss: 0.3679 - val_accuracy: 0.8816\n",
      "Epoch 162/200\n",
      "300/300 [==============================] - 0s 39us/sample - loss: 0.4183 - accuracy: 0.8500 - val_loss: 0.3678 - val_accuracy: 0.8816\n",
      "Epoch 163/200\n",
      "300/300 [==============================] - 0s 41us/sample - loss: 0.4183 - accuracy: 0.8500 - val_loss: 0.3678 - val_accuracy: 0.8816\n",
      "Epoch 164/200\n",
      "300/300 [==============================] - 0s 40us/sample - loss: 0.4183 - accuracy: 0.8500 - val_loss: 0.3678 - val_accuracy: 0.8816\n",
      "Epoch 165/200\n",
      "300/300 [==============================] - 0s 41us/sample - loss: 0.4183 - accuracy: 0.8500 - val_loss: 0.3678 - val_accuracy: 0.8816\n",
      "Epoch 166/200\n"
     ]
    },
    {
     "name": "stdout",
     "output_type": "stream",
     "text": [
      "300/300 [==============================] - 0s 44us/sample - loss: 0.4183 - accuracy: 0.8500 - val_loss: 0.3677 - val_accuracy: 0.8816\n",
      "Epoch 167/200\n",
      "300/300 [==============================] - 0s 45us/sample - loss: 0.4183 - accuracy: 0.8500 - val_loss: 0.3678 - val_accuracy: 0.8816\n",
      "Epoch 168/200\n",
      "300/300 [==============================] - 0s 41us/sample - loss: 0.4182 - accuracy: 0.8500 - val_loss: 0.3677 - val_accuracy: 0.8816\n",
      "Epoch 169/200\n",
      "300/300 [==============================] - 0s 40us/sample - loss: 0.4182 - accuracy: 0.8500 - val_loss: 0.3678 - val_accuracy: 0.8816\n",
      "Epoch 170/200\n",
      "300/300 [==============================] - 0s 40us/sample - loss: 0.4182 - accuracy: 0.8500 - val_loss: 0.3677 - val_accuracy: 0.8816\n",
      "Epoch 171/200\n",
      "300/300 [==============================] - 0s 37us/sample - loss: 0.4182 - accuracy: 0.8500 - val_loss: 0.3678 - val_accuracy: 0.8816\n",
      "Epoch 172/200\n",
      "300/300 [==============================] - 0s 40us/sample - loss: 0.4182 - accuracy: 0.8500 - val_loss: 0.3678 - val_accuracy: 0.8816\n",
      "Epoch 173/200\n",
      "300/300 [==============================] - 0s 43us/sample - loss: 0.4182 - accuracy: 0.8500 - val_loss: 0.3677 - val_accuracy: 0.8816\n",
      "Epoch 174/200\n",
      "300/300 [==============================] - 0s 40us/sample - loss: 0.4182 - accuracy: 0.8500 - val_loss: 0.3677 - val_accuracy: 0.8816\n",
      "Epoch 175/200\n",
      "300/300 [==============================] - 0s 43us/sample - loss: 0.4181 - accuracy: 0.8500 - val_loss: 0.3678 - val_accuracy: 0.8816\n",
      "Epoch 176/200\n",
      "300/300 [==============================] - 0s 41us/sample - loss: 0.4181 - accuracy: 0.8500 - val_loss: 0.3679 - val_accuracy: 0.8816\n",
      "Epoch 177/200\n",
      "300/300 [==============================] - 0s 41us/sample - loss: 0.4181 - accuracy: 0.8500 - val_loss: 0.3678 - val_accuracy: 0.8816\n",
      "Epoch 178/200\n",
      "300/300 [==============================] - 0s 41us/sample - loss: 0.4181 - accuracy: 0.8500 - val_loss: 0.3677 - val_accuracy: 0.8816\n",
      "Epoch 179/200\n",
      "300/300 [==============================] - 0s 40us/sample - loss: 0.4181 - accuracy: 0.8500 - val_loss: 0.3677 - val_accuracy: 0.8816\n",
      "Epoch 180/200\n",
      "300/300 [==============================] - 0s 40us/sample - loss: 0.4181 - accuracy: 0.8500 - val_loss: 0.3678 - val_accuracy: 0.8816\n",
      "Epoch 181/200\n",
      "300/300 [==============================] - ETA: 0s - loss: 0.4387 - accuracy: 0.84 - 0s 45us/sample - loss: 0.4181 - accuracy: 0.8500 - val_loss: 0.3678 - val_accuracy: 0.8816\n",
      "Epoch 182/200\n",
      "300/300 [==============================] - ETA: 0s - loss: 0.3614 - accuracy: 0.88 - 0s 43us/sample - loss: 0.4181 - accuracy: 0.8500 - val_loss: 0.3678 - val_accuracy: 0.8816\n",
      "Epoch 183/200\n",
      "300/300 [==============================] - 0s 41us/sample - loss: 0.4180 - accuracy: 0.8500 - val_loss: 0.3678 - val_accuracy: 0.8816\n",
      "Epoch 184/200\n",
      "300/300 [==============================] - 0s 39us/sample - loss: 0.4181 - accuracy: 0.8500 - val_loss: 0.3679 - val_accuracy: 0.8816\n",
      "Epoch 185/200\n",
      "300/300 [==============================] - 0s 40us/sample - loss: 0.4180 - accuracy: 0.8500 - val_loss: 0.3678 - val_accuracy: 0.8816\n",
      "Epoch 186/200\n",
      "300/300 [==============================] - 0s 40us/sample - loss: 0.4180 - accuracy: 0.8500 - val_loss: 0.3678 - val_accuracy: 0.8816\n",
      "Epoch 187/200\n",
      "300/300 [==============================] - 0s 41us/sample - loss: 0.4180 - accuracy: 0.8500 - val_loss: 0.3679 - val_accuracy: 0.8816\n",
      "Epoch 188/200\n",
      "300/300 [==============================] - 0s 43us/sample - loss: 0.4180 - accuracy: 0.8500 - val_loss: 0.3679 - val_accuracy: 0.8816\n",
      "Epoch 189/200\n",
      "300/300 [==============================] - 0s 39us/sample - loss: 0.4181 - accuracy: 0.8500 - val_loss: 0.3678 - val_accuracy: 0.8816\n",
      "Epoch 190/200\n",
      "300/300 [==============================] - 0s 41us/sample - loss: 0.4179 - accuracy: 0.8500 - val_loss: 0.3678 - val_accuracy: 0.8816\n",
      "Epoch 191/200\n",
      "300/300 [==============================] - 0s 40us/sample - loss: 0.4180 - accuracy: 0.8500 - val_loss: 0.3679 - val_accuracy: 0.8816\n",
      "Epoch 192/200\n",
      "300/300 [==============================] - 0s 43us/sample - loss: 0.4179 - accuracy: 0.8500 - val_loss: 0.3679 - val_accuracy: 0.8816\n",
      "Epoch 193/200\n",
      "300/300 [==============================] - 0s 43us/sample - loss: 0.4179 - accuracy: 0.8500 - val_loss: 0.3679 - val_accuracy: 0.8816\n",
      "Epoch 194/200\n",
      "300/300 [==============================] - 0s 40us/sample - loss: 0.4179 - accuracy: 0.8500 - val_loss: 0.3678 - val_accuracy: 0.8816\n",
      "Epoch 195/200\n",
      "300/300 [==============================] - 0s 41us/sample - loss: 0.4179 - accuracy: 0.8500 - val_loss: 0.3679 - val_accuracy: 0.8816\n",
      "Epoch 196/200\n",
      "300/300 [==============================] - 0s 41us/sample - loss: 0.4179 - accuracy: 0.8500 - val_loss: 0.3678 - val_accuracy: 0.8816\n",
      "Epoch 197/200\n",
      "300/300 [==============================] - 0s 40us/sample - loss: 0.4178 - accuracy: 0.8500 - val_loss: 0.3679 - val_accuracy: 0.8816\n",
      "Epoch 198/200\n",
      "300/300 [==============================] - 0s 43us/sample - loss: 0.4179 - accuracy: 0.8500 - val_loss: 0.3679 - val_accuracy: 0.8816\n",
      "Epoch 199/200\n",
      "300/300 [==============================] - 0s 38us/sample - loss: 0.4179 - accuracy: 0.8500 - val_loss: 0.3678 - val_accuracy: 0.8816\n",
      "Epoch 200/200\n",
      "300/300 [==============================] - 0s 42us/sample - loss: 0.4178 - accuracy: 0.8500 - val_loss: 0.3678 - val_accuracy: 0.8816\n"
     ]
    }
   ],
   "source": [
    "# 딥 러닝 학습\n",
    "history = model.fit(X_train,y_train, epochs = 200, validation_split=0.2, batch_size = 50)\n"
   ]
  },
  {
   "cell_type": "code",
   "execution_count": 38,
   "metadata": {},
   "outputs": [
    {
     "name": "stdout",
     "output_type": "stream",
     "text": [
      "94/94 - 0s - loss: 0.4639 - accuracy: 0.8298\n",
      "\n",
      " Accuracy : 0.8298\n"
     ]
    }
   ],
   "source": [
    "#결과 출력 \n",
    "print(\"\\n Accuracy : %.4f\" % (model.evaluate(X_test, y_test, verbose = 2)[1]))"
   ]
  },
  {
   "cell_type": "code",
   "execution_count": null,
   "metadata": {},
   "outputs": [],
   "source": []
  }
 ],
 "metadata": {
  "kernelspec": {
   "display_name": "Python 3",
   "language": "python",
   "name": "python3"
  },
  "language_info": {
   "codemirror_mode": {
    "name": "ipython",
    "version": 3
   },
   "file_extension": ".py",
   "mimetype": "text/x-python",
   "name": "python",
   "nbconvert_exporter": "python",
   "pygments_lexer": "ipython3",
   "version": "3.7.7"
  }
 },
 "nbformat": 4,
 "nbformat_minor": 4
}
