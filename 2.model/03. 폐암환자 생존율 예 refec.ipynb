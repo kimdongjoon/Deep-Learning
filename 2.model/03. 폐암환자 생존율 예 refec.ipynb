{
 "cells": [
  {
   "cell_type": "code",
   "execution_count": 7,
   "metadata": {},
   "outputs": [
    {
     "data": {
      "text/plain": [
       "'2.1.0'"
      ]
     },
     "execution_count": 7,
     "metadata": {},
     "output_type": "execute_result"
    }
   ],
   "source": [
    "import pandas as pd\n",
    "import numpy as np\n",
    "import tensorflow as tf\n",
    "tf.__version__"
   ]
  },
  {
   "cell_type": "code",
   "execution_count": 56,
   "metadata": {},
   "outputs": [],
   "source": [
    "# 실행할 때마다 같은 결과를 출력하기 위한 seed 값 설정\n",
    "seed = 2000\n",
    "np.random.seed(seed)\n",
    "tf.random.set_seed(seed)"
   ]
  },
  {
   "cell_type": "code",
   "execution_count": 57,
   "metadata": {},
   "outputs": [
    {
     "name": "stdout",
     "output_type": "stream",
     "text": [
      "[[293.     1.     3.8  ...   0.    62.     0.  ]\n",
      " [  1.     2.     2.88 ...   0.    60.     0.  ]\n",
      " [  8.     2.     3.19 ...   0.    66.     1.  ]\n",
      " ...\n",
      " [406.     6.     5.36 ...   0.    62.     0.  ]\n",
      " [ 25.     8.     4.32 ...   0.    58.     1.  ]\n",
      " [447.     8.     5.2  ...   0.    49.     0.  ]]\n"
     ]
    }
   ],
   "source": [
    "#준비된 수술 환자 데이터를 불러들임\n",
    "Data_set = np.loadtxt(\"./dataset/ThoraricSurgery.csv\", delimiter = \",\")\n",
    "print (Data_set)"
   ]
  },
  {
   "cell_type": "code",
   "execution_count": 60,
   "metadata": {},
   "outputs": [
    {
     "data": {
      "text/plain": [
       "((470, 17), (470,))"
      ]
     },
     "execution_count": 60,
     "metadata": {},
     "output_type": "execute_result"
    }
   ],
   "source": [
    "#환자의 기록과 수술 결과를 X와 Y로 구분하여 저장\n",
    "X = Data_set[:,0:17]\n",
    "Y = Data_set[:,17]\n",
    "X.shape, Y.shape"
   ]
  },
  {
   "cell_type": "code",
   "execution_count": 75,
   "metadata": {},
   "outputs": [],
   "source": [
    "from sklearn.model_selection import train_test_split\n",
    "\n",
    "X_train , X_test, y_train, y_test = train_test_split(\n",
    "    X, \n",
    "    Y, \n",
    "    test_size = 0.2, \n",
    "    random_state=2029)"
   ]
  },
  {
   "cell_type": "code",
   "execution_count": 69,
   "metadata": {},
   "outputs": [],
   "source": [
    "from tensorflow.keras.models import Sequential\n",
    "from tensorflow.keras.layers import Dense\n"
   ]
  },
  {
   "cell_type": "code",
   "execution_count": 76,
   "metadata": {},
   "outputs": [
    {
     "name": "stdout",
     "output_type": "stream",
     "text": [
      "Model: \"sequential_3\"\n",
      "_________________________________________________________________\n",
      "Layer (type)                 Output Shape              Param #   \n",
      "=================================================================\n",
      "dense_6 (Dense)              (None, 30)                540       \n",
      "_________________________________________________________________\n",
      "dense_7 (Dense)              (None, 1)                 31        \n",
      "=================================================================\n",
      "Total params: 571\n",
      "Trainable params: 571\n",
      "Non-trainable params: 0\n",
      "_________________________________________________________________\n"
     ]
    }
   ],
   "source": [
    "model = Sequential ([\n",
    "    Dense(30, input_shape = (17, ), activation = 'relu'),\n",
    "    Dense(1, activation = 'sigmoid')\n",
    "])\n",
    "model.summary()"
   ]
  },
  {
   "cell_type": "code",
   "execution_count": 77,
   "metadata": {},
   "outputs": [],
   "source": [
    "#딥러닝 학습\n",
    "#validataion set의 비율을 20%\n"
   ]
  },
  {
   "cell_type": "code",
   "execution_count": 78,
   "metadata": {},
   "outputs": [],
   "source": [
    "# 딥러닝 환경 설정 (오차함수, 최적화 함수)\n",
    "model.compile(loss = 'binary_crossentropy', \n",
    "             optimizer = 'adam' , metrics = ['accuracy'])"
   ]
  },
  {
   "cell_type": "code",
   "execution_count": 79,
   "metadata": {},
   "outputs": [
    {
     "name": "stdout",
     "output_type": "stream",
     "text": [
      "Train on 300 samples, validate on 76 samples\n",
      "Epoch 1/20\n",
      "300/300 [==============================] - 0s 968us/sample - loss: 22.2580 - accuracy: 0.2900 - val_loss: 1.7762 - val_accuracy: 0.8026\n",
      "Epoch 2/20\n",
      "300/300 [==============================] - 0s 157us/sample - loss: 2.9650 - accuracy: 0.8233 - val_loss: 2.1458 - val_accuracy: 0.8553\n",
      "Epoch 3/20\n",
      "300/300 [==============================] - 0s 114us/sample - loss: 2.0443 - accuracy: 0.8100 - val_loss: 1.4611 - val_accuracy: 0.8026\n",
      "Epoch 4/20\n",
      "300/300 [==============================] - 0s 114us/sample - loss: 1.5612 - accuracy: 0.7933 - val_loss: 1.2381 - val_accuracy: 0.8421\n",
      "Epoch 5/20\n",
      "300/300 [==============================] - 0s 115us/sample - loss: 1.2531 - accuracy: 0.8033 - val_loss: 0.9383 - val_accuracy: 0.8289\n",
      "Epoch 6/20\n",
      "300/300 [==============================] - 0s 114us/sample - loss: 1.0141 - accuracy: 0.7967 - val_loss: 0.7424 - val_accuracy: 0.8421\n",
      "Epoch 7/20\n",
      "300/300 [==============================] - 0s 118us/sample - loss: 0.7822 - accuracy: 0.7867 - val_loss: 0.5952 - val_accuracy: 0.8289\n",
      "Epoch 8/20\n",
      "300/300 [==============================] - 0s 117us/sample - loss: 0.6612 - accuracy: 0.8100 - val_loss: 0.5387 - val_accuracy: 0.8421\n",
      "Epoch 9/20\n",
      "300/300 [==============================] - 0s 119us/sample - loss: 0.5954 - accuracy: 0.8100 - val_loss: 0.4692 - val_accuracy: 0.8421\n",
      "Epoch 10/20\n",
      "300/300 [==============================] - 0s 120us/sample - loss: 0.5319 - accuracy: 0.8267 - val_loss: 0.4492 - val_accuracy: 0.8684\n",
      "Epoch 11/20\n",
      "300/300 [==============================] - 0s 119us/sample - loss: 0.4895 - accuracy: 0.8433 - val_loss: 0.4514 - val_accuracy: 0.8816\n",
      "Epoch 12/20\n",
      "300/300 [==============================] - 0s 119us/sample - loss: 0.4789 - accuracy: 0.8333 - val_loss: 0.4758 - val_accuracy: 0.8684\n",
      "Epoch 13/20\n",
      "300/300 [==============================] - 0s 119us/sample - loss: 0.4534 - accuracy: 0.8367 - val_loss: 0.4582 - val_accuracy: 0.8816\n",
      "Epoch 14/20\n",
      "300/300 [==============================] - 0s 114us/sample - loss: 0.5128 - accuracy: 0.8233 - val_loss: 0.4238 - val_accuracy: 0.8816\n",
      "Epoch 15/20\n",
      "300/300 [==============================] - 0s 117us/sample - loss: 0.5044 - accuracy: 0.8267 - val_loss: 0.5104 - val_accuracy: 0.8816\n",
      "Epoch 16/20\n",
      "300/300 [==============================] - 0s 119us/sample - loss: 0.4553 - accuracy: 0.8367 - val_loss: 0.4283 - val_accuracy: 0.8816\n",
      "Epoch 17/20\n",
      "300/300 [==============================] - 0s 118us/sample - loss: 0.4237 - accuracy: 0.8433 - val_loss: 0.4158 - val_accuracy: 0.8816\n",
      "Epoch 18/20\n",
      "300/300 [==============================] - 0s 119us/sample - loss: 0.4350 - accuracy: 0.8500 - val_loss: 0.4116 - val_accuracy: 0.8816\n",
      "Epoch 19/20\n",
      "300/300 [==============================] - 0s 119us/sample - loss: 0.4330 - accuracy: 0.8400 - val_loss: 0.4147 - val_accuracy: 0.8816\n",
      "Epoch 20/20\n",
      "300/300 [==============================] - 0s 120us/sample - loss: 0.4292 - accuracy: 0.8467 - val_loss: 0.4110 - val_accuracy: 0.8816\n"
     ]
    }
   ],
   "source": [
    "# 딥 러닝 학습\n",
    "history = model.fit(X_train,y_train, epochs = 20, validation_split=0.2, batch_size = 10)\n"
   ]
  },
  {
   "cell_type": "code",
   "execution_count": 81,
   "metadata": {},
   "outputs": [
    {
     "name": "stdout",
     "output_type": "stream",
     "text": [
      "94/94 - 0s - loss: 0.4891 - accuracy: 0.8191\n",
      "\n",
      " Accuracy : 0.8191\n"
     ]
    }
   ],
   "source": [
    "#결과 출력 \n",
    "print(\"\\n Accuracy : %.4f\" % (model.evaluate(X_test, y_test, verbose = 2)[1]))"
   ]
  },
  {
   "cell_type": "code",
   "execution_count": 46,
   "metadata": {
    "scrolled": true
   },
   "outputs": [
    {
     "data": {
      "text/html": [
       "<div>\n",
       "<style scoped>\n",
       "    .dataframe tbody tr th:only-of-type {\n",
       "        vertical-align: middle;\n",
       "    }\n",
       "\n",
       "    .dataframe tbody tr th {\n",
       "        vertical-align: top;\n",
       "    }\n",
       "\n",
       "    .dataframe thead th {\n",
       "        text-align: right;\n",
       "    }\n",
       "</style>\n",
       "<table border=\"1\" class=\"dataframe\">\n",
       "  <thead>\n",
       "    <tr style=\"text-align: right;\">\n",
       "      <th></th>\n",
       "      <th>loss</th>\n",
       "      <th>accuracy</th>\n",
       "      <th>val_loss</th>\n",
       "      <th>val_accuracy</th>\n",
       "    </tr>\n",
       "  </thead>\n",
       "  <tbody>\n",
       "    <tr>\n",
       "      <th>0</th>\n",
       "      <td>0.386944</td>\n",
       "      <td>0.853333</td>\n",
       "      <td>0.415366</td>\n",
       "      <td>0.881579</td>\n",
       "    </tr>\n",
       "    <tr>\n",
       "      <th>1</th>\n",
       "      <td>0.451753</td>\n",
       "      <td>0.830000</td>\n",
       "      <td>0.433763</td>\n",
       "      <td>0.855263</td>\n",
       "    </tr>\n",
       "    <tr>\n",
       "      <th>2</th>\n",
       "      <td>0.431896</td>\n",
       "      <td>0.856667</td>\n",
       "      <td>0.621273</td>\n",
       "      <td>0.723684</td>\n",
       "    </tr>\n",
       "    <tr>\n",
       "      <th>3</th>\n",
       "      <td>0.464616</td>\n",
       "      <td>0.813333</td>\n",
       "      <td>0.414319</td>\n",
       "      <td>0.868421</td>\n",
       "    </tr>\n",
       "    <tr>\n",
       "      <th>4</th>\n",
       "      <td>0.389297</td>\n",
       "      <td>0.850000</td>\n",
       "      <td>0.428390</td>\n",
       "      <td>0.881579</td>\n",
       "    </tr>\n",
       "  </tbody>\n",
       "</table>\n",
       "</div>"
      ],
      "text/plain": [
       "       loss  accuracy  val_loss  val_accuracy\n",
       "0  0.386944  0.853333  0.415366      0.881579\n",
       "1  0.451753  0.830000  0.433763      0.855263\n",
       "2  0.431896  0.856667  0.621273      0.723684\n",
       "3  0.464616  0.813333  0.414319      0.868421\n",
       "4  0.389297  0.850000  0.428390      0.881579"
      ]
     },
     "execution_count": 46,
     "metadata": {},
     "output_type": "execute_result"
    }
   ],
   "source": [
    "df =pd.DataFrame(history.history)\n",
    "#history.history\n",
    "df.head()"
   ]
  },
  {
   "cell_type": "markdown",
   "metadata": {},
   "source": [
    "# 향후에 아래 항목으로 이용 가능\n",
    "- history.history['accuracy']\n",
    "- history.history['val_accuracy']\n",
    "- history.history['loss']\n",
    "- history.history['val_loss']\n"
   ]
  },
  {
   "cell_type": "code",
   "execution_count": null,
   "metadata": {},
   "outputs": [],
   "source": []
  }
 ],
 "metadata": {
  "kernelspec": {
   "display_name": "Python 3",
   "language": "python",
   "name": "python3"
  },
  "language_info": {
   "codemirror_mode": {
    "name": "ipython",
    "version": 3
   },
   "file_extension": ".py",
   "mimetype": "text/x-python",
   "name": "python",
   "nbconvert_exporter": "python",
   "pygments_lexer": "ipython3",
   "version": "3.7.7"
  }
 },
 "nbformat": 4,
 "nbformat_minor": 4
}
