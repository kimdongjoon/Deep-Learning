{
 "cells": [
  {
   "cell_type": "markdown",
   "metadata": {},
   "source": [
    "# 시계열 예측 문제\n",
    "- 사인파형 시계열을 입력으로 다음 스텝의 출력을 예측\n",
    "- 3개의 순서열을 입력한 후 출력값이 target과 일치하게 만듦"
   ]
  },
  {
   "cell_type": "code",
   "execution_count": 2,
   "metadata": {},
   "outputs": [],
   "source": [
    "import numpy as np\n",
    "import matplotlib.pyplot as plt\n",
    "%matplotlib inline"
   ]
  },
  {
   "cell_type": "code",
   "execution_count": 5,
   "metadata": {},
   "outputs": [
    {
     "data": {
      "image/png": "[encoded data removed]",
      "text/plain": [
       "<Figure size 432x288 with 1 Axes>"
      ]
     },
     "metadata": {
      "needs_background": "light"
     },
     "output_type": "display_data"
    }
   ],
   "source": [
    "s = np.sin(2 * np.pi * 0.125 * np.arange(100))\n",
    "plt.plot(s, 'ro-')\n",
    "plt.xlim(-0.5, 100.5)\n",
    "plt.ylim(-1.1, 1.1)\n",
    "plt.show()"
   ]
  },
  {
   "cell_type": "markdown",
   "metadata": {},
   "source": [
    "# 원래의 시계열 벡터를 Toeplitz 행렬 형태로 변환\n",
    "- (대각선 위의 성분들이 같은 정사각 행렬)"
   ]
  },
  {
   "cell_type": "code",
   "execution_count": 9,
   "metadata": {},
   "outputs": [
    {
     "data": {
      "text/plain": [
       "array([[ 0.00000000e+00,  7.07106781e-01,  1.00000000e+00],\n",
       "       [ 7.07106781e-01,  1.00000000e+00,  7.07106781e-01],\n",
       "       [ 1.00000000e+00,  7.07106781e-01,  1.22464680e-16],\n",
       "       [ 7.07106781e-01,  1.22464680e-16, -7.07106781e-01],\n",
       "       [ 1.22464680e-16, -7.07106781e-01, -1.00000000e+00],\n",
       "       [-7.07106781e-01, -1.00000000e+00, -7.07106781e-01],\n",
       "       [-1.00000000e+00, -7.07106781e-01, -2.44929360e-16],\n",
       "       [-7.07106781e-01, -2.44929360e-16,  7.07106781e-01],\n",
       "       [-2.44929360e-16,  7.07106781e-01,  1.00000000e+00],\n",
       "       [ 7.07106781e-01,  1.00000000e+00,  7.07106781e-01],\n",
       "       [ 1.00000000e+00,  7.07106781e-01,  3.67394040e-16],\n",
       "       [ 7.07106781e-01,  3.67394040e-16, -7.07106781e-01],\n",
       "       [ 3.67394040e-16, -7.07106781e-01, -1.00000000e+00],\n",
       "       [-7.07106781e-01, -1.00000000e+00, -7.07106781e-01],\n",
       "       [-1.00000000e+00, -7.07106781e-01, -4.89858720e-16],\n",
       "       [-7.07106781e-01, -4.89858720e-16,  7.07106781e-01],\n",
       "       [-4.89858720e-16,  7.07106781e-01,  1.00000000e+00],\n",
       "       [ 7.07106781e-01,  1.00000000e+00,  7.07106781e-01],\n",
       "       [ 1.00000000e+00,  7.07106781e-01,  6.12323400e-16],\n",
       "       [ 7.07106781e-01,  6.12323400e-16, -7.07106781e-01]])"
      ]
     },
     "execution_count": 9,
     "metadata": {},
     "output_type": "execute_result"
    }
   ],
   "source": [
    "from scipy.linalg import toeplitz\n",
    "S = np.fliplr(toeplitz(np.r_[s[-1], np.zeros(s.shape[0] - 2)], s[::-1]))\n",
    "S[:20, :3]"
   ]
  },
  {
   "cell_type": "code",
   "execution_count": 10,
   "metadata": {},
   "outputs": [
    {
     "data": {
      "text/plain": [
       "((98, 20, 1), (98,))"
      ]
     },
     "execution_count": 10,
     "metadata": {},
     "output_type": "execute_result"
    }
   ],
   "source": [
    "X_train = S[:-1, :20][:, :, np.newaxis]\n",
    "Y_train = S[:-1, 20]\n",
    "X_train.shape, Y_train.shape"
   ]
  },
  {
   "cell_type": "code",
   "execution_count": 11,
   "metadata": {},
   "outputs": [
    {
     "data": {
      "text/plain": [
       "array([[[ 0.00000000e+00],\n",
       "        [ 7.07106781e-01],\n",
       "        [ 1.00000000e+00],\n",
       "        [ 7.07106781e-01],\n",
       "        [ 1.22464680e-16],\n",
       "        [-7.07106781e-01],\n",
       "        [-1.00000000e+00],\n",
       "        [-7.07106781e-01],\n",
       "        [-2.44929360e-16],\n",
       "        [ 7.07106781e-01],\n",
       "        [ 1.00000000e+00],\n",
       "        [ 7.07106781e-01],\n",
       "        [ 3.67394040e-16],\n",
       "        [-7.07106781e-01],\n",
       "        [-1.00000000e+00],\n",
       "        [-7.07106781e-01],\n",
       "        [-4.89858720e-16],\n",
       "        [ 7.07106781e-01],\n",
       "        [ 1.00000000e+00],\n",
       "        [ 7.07106781e-01]],\n",
       "\n",
       "       [[ 7.07106781e-01],\n",
       "        [ 1.00000000e+00],\n",
       "        [ 7.07106781e-01],\n",
       "        [ 1.22464680e-16],\n",
       "        [-7.07106781e-01],\n",
       "        [-1.00000000e+00],\n",
       "        [-7.07106781e-01],\n",
       "        [-2.44929360e-16],\n",
       "        [ 7.07106781e-01],\n",
       "        [ 1.00000000e+00],\n",
       "        [ 7.07106781e-01],\n",
       "        [ 3.67394040e-16],\n",
       "        [-7.07106781e-01],\n",
       "        [-1.00000000e+00],\n",
       "        [-7.07106781e-01],\n",
       "        [-4.89858720e-16],\n",
       "        [ 7.07106781e-01],\n",
       "        [ 1.00000000e+00],\n",
       "        [ 7.07106781e-01],\n",
       "        [ 6.12323400e-16]],\n",
       "\n",
       "       [[ 1.00000000e+00],\n",
       "        [ 7.07106781e-01],\n",
       "        [ 1.22464680e-16],\n",
       "        [-7.07106781e-01],\n",
       "        [-1.00000000e+00],\n",
       "        [-7.07106781e-01],\n",
       "        [-2.44929360e-16],\n",
       "        [ 7.07106781e-01],\n",
       "        [ 1.00000000e+00],\n",
       "        [ 7.07106781e-01],\n",
       "        [ 3.67394040e-16],\n",
       "        [-7.07106781e-01],\n",
       "        [-1.00000000e+00],\n",
       "        [-7.07106781e-01],\n",
       "        [-4.89858720e-16],\n",
       "        [ 7.07106781e-01],\n",
       "        [ 1.00000000e+00],\n",
       "        [ 7.07106781e-01],\n",
       "        [ 6.12323400e-16],\n",
       "        [-7.07106781e-01]],\n",
       "\n",
       "       [[ 7.07106781e-01],\n",
       "        [ 1.22464680e-16],\n",
       "        [-7.07106781e-01],\n",
       "        [-1.00000000e+00],\n",
       "        [-7.07106781e-01],\n",
       "        [-2.44929360e-16],\n",
       "        [ 7.07106781e-01],\n",
       "        [ 1.00000000e+00],\n",
       "        [ 7.07106781e-01],\n",
       "        [ 3.67394040e-16],\n",
       "        [-7.07106781e-01],\n",
       "        [-1.00000000e+00],\n",
       "        [-7.07106781e-01],\n",
       "        [-4.89858720e-16],\n",
       "        [ 7.07106781e-01],\n",
       "        [ 1.00000000e+00],\n",
       "        [ 7.07106781e-01],\n",
       "        [ 6.12323400e-16],\n",
       "        [-7.07106781e-01],\n",
       "        [-1.00000000e+00]],\n",
       "\n",
       "       [[ 1.22464680e-16],\n",
       "        [-7.07106781e-01],\n",
       "        [-1.00000000e+00],\n",
       "        [-7.07106781e-01],\n",
       "        [-2.44929360e-16],\n",
       "        [ 7.07106781e-01],\n",
       "        [ 1.00000000e+00],\n",
       "        [ 7.07106781e-01],\n",
       "        [ 3.67394040e-16],\n",
       "        [-7.07106781e-01],\n",
       "        [-1.00000000e+00],\n",
       "        [-7.07106781e-01],\n",
       "        [-4.89858720e-16],\n",
       "        [ 7.07106781e-01],\n",
       "        [ 1.00000000e+00],\n",
       "        [ 7.07106781e-01],\n",
       "        [ 6.12323400e-16],\n",
       "        [-7.07106781e-01],\n",
       "        [-1.00000000e+00],\n",
       "        [-7.07106781e-01]],\n",
       "\n",
       "       [[-7.07106781e-01],\n",
       "        [-1.00000000e+00],\n",
       "        [-7.07106781e-01],\n",
       "        [-2.44929360e-16],\n",
       "        [ 7.07106781e-01],\n",
       "        [ 1.00000000e+00],\n",
       "        [ 7.07106781e-01],\n",
       "        [ 3.67394040e-16],\n",
       "        [-7.07106781e-01],\n",
       "        [-1.00000000e+00],\n",
       "        [-7.07106781e-01],\n",
       "        [-4.89858720e-16],\n",
       "        [ 7.07106781e-01],\n",
       "        [ 1.00000000e+00],\n",
       "        [ 7.07106781e-01],\n",
       "        [ 6.12323400e-16],\n",
       "        [-7.07106781e-01],\n",
       "        [-1.00000000e+00],\n",
       "        [-7.07106781e-01],\n",
       "        [-7.34788079e-16]],\n",
       "\n",
       "       [[-1.00000000e+00],\n",
       "        [-7.07106781e-01],\n",
       "        [-2.44929360e-16],\n",
       "        [ 7.07106781e-01],\n",
       "        [ 1.00000000e+00],\n",
       "        [ 7.07106781e-01],\n",
       "        [ 3.67394040e-16],\n",
       "        [-7.07106781e-01],\n",
       "        [-1.00000000e+00],\n",
       "        [-7.07106781e-01],\n",
       "        [-4.89858720e-16],\n",
       "        [ 7.07106781e-01],\n",
       "        [ 1.00000000e+00],\n",
       "        [ 7.07106781e-01],\n",
       "        [ 6.12323400e-16],\n",
       "        [-7.07106781e-01],\n",
       "        [-1.00000000e+00],\n",
       "        [-7.07106781e-01],\n",
       "        [-7.34788079e-16],\n",
       "        [ 7.07106781e-01]],\n",
       "\n",
       "       [[-7.07106781e-01],\n",
       "        [-2.44929360e-16],\n",
       "        [ 7.07106781e-01],\n",
       "        [ 1.00000000e+00],\n",
       "        [ 7.07106781e-01],\n",
       "        [ 3.67394040e-16],\n",
       "        [-7.07106781e-01],\n",
       "        [-1.00000000e+00],\n",
       "        [-7.07106781e-01],\n",
       "        [-4.89858720e-16],\n",
       "        [ 7.07106781e-01],\n",
       "        [ 1.00000000e+00],\n",
       "        [ 7.07106781e-01],\n",
       "        [ 6.12323400e-16],\n",
       "        [-7.07106781e-01],\n",
       "        [-1.00000000e+00],\n",
       "        [-7.07106781e-01],\n",
       "        [-7.34788079e-16],\n",
       "        [ 7.07106781e-01],\n",
       "        [ 1.00000000e+00]],\n",
       "\n",
       "       [[-2.44929360e-16],\n",
       "        [ 7.07106781e-01],\n",
       "        [ 1.00000000e+00],\n",
       "        [ 7.07106781e-01],\n",
       "        [ 3.67394040e-16],\n",
       "        [-7.07106781e-01],\n",
       "        [-1.00000000e+00],\n",
       "        [-7.07106781e-01],\n",
       "        [-4.89858720e-16],\n",
       "        [ 7.07106781e-01],\n",
       "        [ 1.00000000e+00],\n",
       "        [ 7.07106781e-01],\n",
       "        [ 6.12323400e-16],\n",
       "        [-7.07106781e-01],\n",
       "        [-1.00000000e+00],\n",
       "        [-7.07106781e-01],\n",
       "        [-7.34788079e-16],\n",
       "        [ 7.07106781e-01],\n",
       "        [ 1.00000000e+00],\n",
       "        [ 7.07106781e-01]],\n",
       "\n",
       "       [[ 7.07106781e-01],\n",
       "        [ 1.00000000e+00],\n",
       "        [ 7.07106781e-01],\n",
       "        [ 3.67394040e-16],\n",
       "        [-7.07106781e-01],\n",
       "        [-1.00000000e+00],\n",
       "        [-7.07106781e-01],\n",
       "        [-4.89858720e-16],\n",
       "        [ 7.07106781e-01],\n",
       "        [ 1.00000000e+00],\n",
       "        [ 7.07106781e-01],\n",
       "        [ 6.12323400e-16],\n",
       "        [-7.07106781e-01],\n",
       "        [-1.00000000e+00],\n",
       "        [-7.07106781e-01],\n",
       "        [-7.34788079e-16],\n",
       "        [ 7.07106781e-01],\n",
       "        [ 1.00000000e+00],\n",
       "        [ 7.07106781e-01],\n",
       "        [ 8.57252759e-16]],\n",
       "\n",
       "       [[ 1.00000000e+00],\n",
       "        [ 7.07106781e-01],\n",
       "        [ 3.67394040e-16],\n",
       "        [-7.07106781e-01],\n",
       "        [-1.00000000e+00],\n",
       "        [-7.07106781e-01],\n",
       "        [-4.89858720e-16],\n",
       "        [ 7.07106781e-01],\n",
       "        [ 1.00000000e+00],\n",
       "        [ 7.07106781e-01],\n",
       "        [ 6.12323400e-16],\n",
       "        [-7.07106781e-01],\n",
       "        [-1.00000000e+00],\n",
       "        [-7.07106781e-01],\n",
       "        [-7.34788079e-16],\n",
       "        [ 7.07106781e-01],\n",
       "        [ 1.00000000e+00],\n",
       "        [ 7.07106781e-01],\n",
       "        [ 8.57252759e-16],\n",
       "        [-7.07106781e-01]],\n",
       "\n",
       "       [[ 7.07106781e-01],\n",
       "        [ 3.67394040e-16],\n",
       "        [-7.07106781e-01],\n",
       "        [-1.00000000e+00],\n",
       "        [-7.07106781e-01],\n",
       "        [-4.89858720e-16],\n",
       "        [ 7.07106781e-01],\n",
       "        [ 1.00000000e+00],\n",
       "        [ 7.07106781e-01],\n",
       "        [ 6.12323400e-16],\n",
       "        [-7.07106781e-01],\n",
       "        [-1.00000000e+00],\n",
       "        [-7.07106781e-01],\n",
       "        [-7.34788079e-16],\n",
       "        [ 7.07106781e-01],\n",
       "        [ 1.00000000e+00],\n",
       "        [ 7.07106781e-01],\n",
       "        [ 8.57252759e-16],\n",
       "        [-7.07106781e-01],\n",
       "        [-1.00000000e+00]],\n",
       "\n",
       "       [[ 3.67394040e-16],\n",
       "        [-7.07106781e-01],\n",
       "        [-1.00000000e+00],\n",
       "        [-7.07106781e-01],\n",
       "        [-4.89858720e-16],\n",
       "        [ 7.07106781e-01],\n",
       "        [ 1.00000000e+00],\n",
       "        [ 7.07106781e-01],\n",
       "        [ 6.12323400e-16],\n",
       "        [-7.07106781e-01],\n",
       "        [-1.00000000e+00],\n",
       "        [-7.07106781e-01],\n",
       "        [-7.34788079e-16],\n",
       "        [ 7.07106781e-01],\n",
       "        [ 1.00000000e+00],\n",
       "        [ 7.07106781e-01],\n",
       "        [ 8.57252759e-16],\n",
       "        [-7.07106781e-01],\n",
       "        [-1.00000000e+00],\n",
       "        [-7.07106781e-01]],\n",
       "\n",
       "       [[-7.07106781e-01],\n",
       "        [-1.00000000e+00],\n",
       "        [-7.07106781e-01],\n",
       "        [-4.89858720e-16],\n",
       "        [ 7.07106781e-01],\n",
       "        [ 1.00000000e+00],\n",
       "        [ 7.07106781e-01],\n",
       "        [ 6.12323400e-16],\n",
       "        [-7.07106781e-01],\n",
       "        [-1.00000000e+00],\n",
       "        [-7.07106781e-01],\n",
       "        [-7.34788079e-16],\n",
       "        [ 7.07106781e-01],\n",
       "        [ 1.00000000e+00],\n",
       "        [ 7.07106781e-01],\n",
       "        [ 8.57252759e-16],\n",
       "        [-7.07106781e-01],\n",
       "        [-1.00000000e+00],\n",
       "        [-7.07106781e-01],\n",
       "        [-9.79717439e-16]],\n",
       "\n",
       "       [[-1.00000000e+00],\n",
       "        [-7.07106781e-01],\n",
       "        [-4.89858720e-16],\n",
       "        [ 7.07106781e-01],\n",
       "        [ 1.00000000e+00],\n",
       "        [ 7.07106781e-01],\n",
       "        [ 6.12323400e-16],\n",
       "        [-7.07106781e-01],\n",
       "        [-1.00000000e+00],\n",
       "        [-7.07106781e-01],\n",
       "        [-7.34788079e-16],\n",
       "        [ 7.07106781e-01],\n",
       "        [ 1.00000000e+00],\n",
       "        [ 7.07106781e-01],\n",
       "        [ 8.57252759e-16],\n",
       "        [-7.07106781e-01],\n",
       "        [-1.00000000e+00],\n",
       "        [-7.07106781e-01],\n",
       "        [-9.79717439e-16],\n",
       "        [ 7.07106781e-01]],\n",
       "\n",
       "       [[-7.07106781e-01],\n",
       "        [-4.89858720e-16],\n",
       "        [ 7.07106781e-01],\n",
       "        [ 1.00000000e+00],\n",
       "        [ 7.07106781e-01],\n",
       "        [ 6.12323400e-16],\n",
       "        [-7.07106781e-01],\n",
       "        [-1.00000000e+00],\n",
       "        [-7.07106781e-01],\n",
       "        [-7.34788079e-16],\n",
       "        [ 7.07106781e-01],\n",
       "        [ 1.00000000e+00],\n",
       "        [ 7.07106781e-01],\n",
       "        [ 8.57252759e-16],\n",
       "        [-7.07106781e-01],\n",
       "        [-1.00000000e+00],\n",
       "        [-7.07106781e-01],\n",
       "        [-9.79717439e-16],\n",
       "        [ 7.07106781e-01],\n",
       "        [ 1.00000000e+00]],\n",
       "\n",
       "       [[-4.89858720e-16],\n",
       "        [ 7.07106781e-01],\n",
       "        [ 1.00000000e+00],\n",
       "        [ 7.07106781e-01],\n",
       "        [ 6.12323400e-16],\n",
       "        [-7.07106781e-01],\n",
       "        [-1.00000000e+00],\n",
       "        [-7.07106781e-01],\n",
       "        [-7.34788079e-16],\n",
       "        [ 7.07106781e-01],\n",
       "        [ 1.00000000e+00],\n",
       "        [ 7.07106781e-01],\n",
       "        [ 8.57252759e-16],\n",
       "        [-7.07106781e-01],\n",
       "        [-1.00000000e+00],\n",
       "        [-7.07106781e-01],\n",
       "        [-9.79717439e-16],\n",
       "        [ 7.07106781e-01],\n",
       "        [ 1.00000000e+00],\n",
       "        [ 7.07106781e-01]],\n",
       "\n",
       "       [[ 7.07106781e-01],\n",
       "        [ 1.00000000e+00],\n",
       "        [ 7.07106781e-01],\n",
       "        [ 6.12323400e-16],\n",
       "        [-7.07106781e-01],\n",
       "        [-1.00000000e+00],\n",
       "        [-7.07106781e-01],\n",
       "        [-7.34788079e-16],\n",
       "        [ 7.07106781e-01],\n",
       "        [ 1.00000000e+00],\n",
       "        [ 7.07106781e-01],\n",
       "        [ 8.57252759e-16],\n",
       "        [-7.07106781e-01],\n",
       "        [-1.00000000e+00],\n",
       "        [-7.07106781e-01],\n",
       "        [-9.79717439e-16],\n",
       "        [ 7.07106781e-01],\n",
       "        [ 1.00000000e+00],\n",
       "        [ 7.07106781e-01],\n",
       "        [ 1.10218212e-15]],\n",
       "\n",
       "       [[ 1.00000000e+00],\n",
       "        [ 7.07106781e-01],\n",
       "        [ 6.12323400e-16],\n",
       "        [-7.07106781e-01],\n",
       "        [-1.00000000e+00],\n",
       "        [-7.07106781e-01],\n",
       "        [-7.34788079e-16],\n",
       "        [ 7.07106781e-01],\n",
       "        [ 1.00000000e+00],\n",
       "        [ 7.07106781e-01],\n",
       "        [ 8.57252759e-16],\n",
       "        [-7.07106781e-01],\n",
       "        [-1.00000000e+00],\n",
       "        [-7.07106781e-01],\n",
       "        [-9.79717439e-16],\n",
       "        [ 7.07106781e-01],\n",
       "        [ 1.00000000e+00],\n",
       "        [ 7.07106781e-01],\n",
       "        [ 1.10218212e-15],\n",
       "        [-7.07106781e-01]],\n",
       "\n",
       "       [[ 7.07106781e-01],\n",
       "        [ 6.12323400e-16],\n",
       "        [-7.07106781e-01],\n",
       "        [-1.00000000e+00],\n",
       "        [-7.07106781e-01],\n",
       "        [-7.34788079e-16],\n",
       "        [ 7.07106781e-01],\n",
       "        [ 1.00000000e+00],\n",
       "        [ 7.07106781e-01],\n",
       "        [ 8.57252759e-16],\n",
       "        [-7.07106781e-01],\n",
       "        [-1.00000000e+00],\n",
       "        [-7.07106781e-01],\n",
       "        [-9.79717439e-16],\n",
       "        [ 7.07106781e-01],\n",
       "        [ 1.00000000e+00],\n",
       "        [ 7.07106781e-01],\n",
       "        [ 1.10218212e-15],\n",
       "        [-7.07106781e-01],\n",
       "        [-1.00000000e+00]]])"
      ]
     },
     "execution_count": 11,
     "metadata": {},
     "output_type": "execute_result"
    }
   ],
   "source": [
    "X_train[:20]"
   ]
  },
  {
   "cell_type": "code",
   "execution_count": 12,
   "metadata": {},
   "outputs": [
    {
     "data": {
      "text/plain": [
       "array([ 6.12323400e-16, -7.07106781e-01, -1.00000000e+00, -7.07106781e-01,\n",
       "       -7.34788079e-16,  7.07106781e-01,  1.00000000e+00,  7.07106781e-01,\n",
       "        8.57252759e-16, -7.07106781e-01, -1.00000000e+00, -7.07106781e-01,\n",
       "       -9.79717439e-16,  7.07106781e-01,  1.00000000e+00,  7.07106781e-01,\n",
       "        1.10218212e-15, -7.07106781e-01, -1.00000000e+00, -7.07106781e-01])"
      ]
     },
     "execution_count": 12,
     "metadata": {},
     "output_type": "execute_result"
    }
   ],
   "source": [
    "\n",
    "Y_train[:20]"
   ]
  },
  {
   "cell_type": "code",
   "execution_count": 16,
   "metadata": {},
   "outputs": [
    {
     "data": {
      "image/png": "[encoded data removed]",
      "text/plain": [
       "<Figure size 720x432 with 2 Axes>"
      ]
     },
     "metadata": {
      "needs_background": "light"
     },
     "output_type": "display_data"
    }
   ],
   "source": [
    "\n",
    "plt.figure(figsize=(10,6))\n",
    "\n",
    "plt.subplot(211)\n",
    "plt.plot([0, 1, 2, 3, 4,6,7,8,9,10,11,12,13,14,15,16,17,18,19,20], X_train[0].flatten(), 'bo-', label=\"input sequence\")\n",
    "plt.plot([20], Y_train[0], 'ro', label=\"target\")\n",
    "plt.xlim(-0.5, 100)\n",
    "plt.ylim(-1.1, 1.1)\n",
    "plt.legend()\n",
    "plt.grid()\n",
    "plt.title(\"First sample sequence\")\n",
    "\n",
    "plt.subplot(212)\n",
    "plt.plot([0, 1, 2, 3, 4,6,7,8,9,10,11,12,13,14,15,16,17,18,19,20], X_train[1].flatten(), 'bo-', label=\"input sequence\")\n",
    "plt.plot([20], Y_train[1], 'ro', label=\"target\")\n",
    "plt.xlim(-0.5, 100)\n",
    "plt.ylim(-1.1, 1.1)\n",
    "plt.legend()\n",
    "plt.grid()\n",
    "plt.title(\"Second sample sequence\")\n",
    "\n",
    "plt.tight_layout()\n",
    "plt.show()"
   ]
  },
  {
   "cell_type": "code",
   "execution_count": 17,
   "metadata": {},
   "outputs": [
    {
     "name": "stderr",
     "output_type": "stream",
     "text": [
      "Using TensorFlow backend.\n"
     ]
    }
   ],
   "source": [
    "from tensorflow import keras\n",
    "from keras.models import Sequential\n",
    "from keras.layers import SimpleRNN, Dense\n",
    "\n",
    "seed = 2020\n",
    "np.random.seed(seed)"
   ]
  },
  {
   "cell_type": "code",
   "execution_count": 18,
   "metadata": {},
   "outputs": [
    {
     "name": "stdout",
     "output_type": "stream",
     "text": [
      "Model: \"sequential_1\"\n",
      "_________________________________________________________________\n",
      "Layer (type)                 Output Shape              Param #   \n",
      "=================================================================\n",
      "simple_rnn_1 (SimpleRNN)     (None, 10)                120       \n",
      "_________________________________________________________________\n",
      "dense_1 (Dense)              (None, 1)                 11        \n",
      "=================================================================\n",
      "Total params: 131\n",
      "Trainable params: 131\n",
      "Non-trainable params: 0\n",
      "_________________________________________________________________\n"
     ]
    }
   ],
   "source": [
    "model = Sequential()\n",
    "model.add(SimpleRNN(10, input_shape=(20, 1)))\n",
    "model.add(Dense(1, activation=\"linear\"))\n",
    "model.summary()"
   ]
  },
  {
   "cell_type": "code",
   "execution_count": 19,
   "metadata": {},
   "outputs": [],
   "source": [
    "model.compile(loss='mse', optimizer='sgd')"
   ]
  },
  {
   "cell_type": "code",
   "execution_count": 20,
   "metadata": {},
   "outputs": [
    {
     "data": {
      "image/png": "[encoded data removed]",
      "text/plain": [
       "<Figure size 432x288 with 1 Axes>"
      ]
     },
     "metadata": {
      "needs_background": "light"
     },
     "output_type": "display_data"
    }
   ],
   "source": [
    "plt.plot(Y_train, 'ro-', label=\"target\")\n",
    "plt.plot(model.predict(X_train[:, :, :]), 'bs-', label=\"output\")\n",
    "plt.xlim(-0.5, 100)\n",
    "plt.ylim(-1.1, 1.1)\n",
    "plt.legend()\n",
    "plt.title(\"Before training\")\n",
    "plt.show()"
   ]
  },
  {
   "cell_type": "code",
   "execution_count": 21,
   "metadata": {},
   "outputs": [
    {
     "name": "stdout",
     "output_type": "stream",
     "text": [
      "Epoch 1/100\n",
      "98/98 [==============================] - 0s 1ms/step - loss: 0.6101\n",
      "Epoch 2/100\n",
      "98/98 [==============================] - 0s 153us/step - loss: 0.4575\n",
      "Epoch 3/100\n",
      "98/98 [==============================] - 0s 143us/step - loss: 0.3483\n",
      "Epoch 4/100\n",
      "98/98 [==============================] - 0s 142us/step - loss: 0.2713\n",
      "Epoch 5/100\n",
      "98/98 [==============================] - 0s 142us/step - loss: 0.1743\n",
      "Epoch 6/100\n",
      "98/98 [==============================] - 0s 132us/step - loss: 0.1299\n",
      "Epoch 7/100\n",
      "98/98 [==============================] - 0s 132us/step - loss: 0.1106\n",
      "Epoch 8/100\n",
      "98/98 [==============================] - 0s 132us/step - loss: 0.0730\n",
      "Epoch 9/100\n",
      "98/98 [==============================] - 0s 142us/step - loss: 0.0625\n",
      "Epoch 10/100\n",
      "98/98 [==============================] - 0s 132us/step - loss: 0.0548\n",
      "Epoch 11/100\n",
      "98/98 [==============================] - 0s 122us/step - loss: 0.0509\n",
      "Epoch 12/100\n",
      "98/98 [==============================] - 0s 132us/step - loss: 0.0509\n",
      "Epoch 13/100\n",
      "98/98 [==============================] - 0s 132us/step - loss: 0.0475\n",
      "Epoch 14/100\n",
      "98/98 [==============================] - 0s 142us/step - loss: 0.0449\n",
      "Epoch 15/100\n",
      "98/98 [==============================] - 0s 132us/step - loss: 0.0431\n",
      "Epoch 16/100\n",
      "98/98 [==============================] - 0s 142us/step - loss: 0.0410\n",
      "Epoch 17/100\n",
      "98/98 [==============================] - 0s 132us/step - loss: 0.0400\n",
      "Epoch 18/100\n",
      "98/98 [==============================] - 0s 142us/step - loss: 0.0416\n",
      "Epoch 19/100\n",
      "98/98 [==============================] - 0s 132us/step - loss: 0.0386\n",
      "Epoch 20/100\n",
      "98/98 [==============================] - 0s 132us/step - loss: 0.0445\n",
      "Epoch 21/100\n",
      "98/98 [==============================] - 0s 142us/step - loss: 0.0389\n",
      "Epoch 22/100\n",
      "98/98 [==============================] - 0s 142us/step - loss: 0.0378\n",
      "Epoch 23/100\n",
      "98/98 [==============================] - 0s 132us/step - loss: 0.0350\n",
      "Epoch 24/100\n",
      "98/98 [==============================] - 0s 132us/step - loss: 0.0345\n",
      "Epoch 25/100\n",
      "98/98 [==============================] - 0s 132us/step - loss: 0.0336\n",
      "Epoch 26/100\n",
      "98/98 [==============================] - 0s 132us/step - loss: 0.0341\n",
      "Epoch 27/100\n",
      "98/98 [==============================] - 0s 142us/step - loss: 0.0360\n",
      "Epoch 28/100\n",
      "98/98 [==============================] - 0s 142us/step - loss: 0.0317\n",
      "Epoch 29/100\n",
      "98/98 [==============================] - 0s 122us/step - loss: 0.0336\n",
      "Epoch 30/100\n",
      "98/98 [==============================] - 0s 122us/step - loss: 0.0309\n",
      "Epoch 31/100\n",
      "98/98 [==============================] - 0s 122us/step - loss: 0.0298\n",
      "Epoch 32/100\n",
      "98/98 [==============================] - 0s 132us/step - loss: 0.0291\n",
      "Epoch 33/100\n",
      "98/98 [==============================] - 0s 142us/step - loss: 0.0287\n",
      "Epoch 34/100\n",
      "98/98 [==============================] - 0s 142us/step - loss: 0.0284\n",
      "Epoch 35/100\n",
      "98/98 [==============================] - 0s 142us/step - loss: 0.0300\n",
      "Epoch 36/100\n",
      "98/98 [==============================] - 0s 142us/step - loss: 0.0293\n",
      "Epoch 37/100\n",
      "98/98 [==============================] - 0s 132us/step - loss: 0.0315\n",
      "Epoch 38/100\n",
      "98/98 [==============================] - 0s 132us/step - loss: 0.0267\n",
      "Epoch 39/100\n",
      "98/98 [==============================] - ETA: 0s - loss: 0.012 - 0s 122us/step - loss: 0.0256\n",
      "Epoch 40/100\n",
      "98/98 [==============================] - 0s 112us/step - loss: 0.0268\n",
      "Epoch 41/100\n",
      "98/98 [==============================] - 0s 132us/step - loss: 0.0250\n",
      "Epoch 42/100\n",
      "98/98 [==============================] - 0s 112us/step - loss: 0.0244\n",
      "Epoch 43/100\n",
      "98/98 [==============================] - 0s 122us/step - loss: 0.0245\n",
      "Epoch 44/100\n",
      "98/98 [==============================] - 0s 122us/step - loss: 0.0227\n",
      "Epoch 45/100\n",
      "98/98 [==============================] - 0s 122us/step - loss: 0.0222\n",
      "Epoch 46/100\n",
      "98/98 [==============================] - 0s 132us/step - loss: 0.0222\n",
      "Epoch 47/100\n",
      "98/98 [==============================] - 0s 122us/step - loss: 0.0218\n",
      "Epoch 48/100\n",
      "98/98 [==============================] - 0s 112us/step - loss: 0.0253\n",
      "Epoch 49/100\n",
      "98/98 [==============================] - 0s 122us/step - loss: 0.0288\n",
      "Epoch 50/100\n",
      "98/98 [==============================] - 0s 132us/step - loss: 0.0235\n",
      "Epoch 51/100\n",
      "98/98 [==============================] - 0s 142us/step - loss: 0.0218\n",
      "Epoch 52/100\n",
      "98/98 [==============================] - 0s 122us/step - loss: 0.0205\n",
      "Epoch 53/100\n",
      "98/98 [==============================] - 0s 122us/step - loss: 0.0228\n",
      "Epoch 54/100\n",
      "98/98 [==============================] - 0s 122us/step - loss: 0.0211\n",
      "Epoch 55/100\n",
      "98/98 [==============================] - 0s 122us/step - loss: 0.0200\n",
      "Epoch 56/100\n",
      "98/98 [==============================] - 0s 122us/step - loss: 0.0196\n",
      "Epoch 57/100\n",
      "98/98 [==============================] - 0s 122us/step - loss: 0.0194\n",
      "Epoch 58/100\n",
      "98/98 [==============================] - 0s 112us/step - loss: 0.0194\n",
      "Epoch 59/100\n",
      "98/98 [==============================] - 0s 132us/step - loss: 0.0190\n",
      "Epoch 60/100\n",
      "98/98 [==============================] - 0s 122us/step - loss: 0.0194\n",
      "Epoch 61/100\n",
      "98/98 [==============================] - 0s 122us/step - loss: 0.0194\n",
      "Epoch 62/100\n",
      "98/98 [==============================] - 0s 122us/step - loss: 0.0189\n",
      "Epoch 63/100\n",
      "98/98 [==============================] - 0s 122us/step - loss: 0.0194\n",
      "Epoch 64/100\n",
      "98/98 [==============================] - 0s 122us/step - loss: 0.0180\n",
      "Epoch 65/100\n",
      "98/98 [==============================] - 0s 132us/step - loss: 0.0180\n",
      "Epoch 66/100\n",
      "98/98 [==============================] - 0s 122us/step - loss: 0.0178\n",
      "Epoch 67/100\n",
      "98/98 [==============================] - 0s 122us/step - loss: 0.0181\n",
      "Epoch 68/100\n",
      "98/98 [==============================] - 0s 132us/step - loss: 0.0177\n",
      "Epoch 69/100\n",
      "98/98 [==============================] - 0s 122us/step - loss: 0.0202\n",
      "Epoch 70/100\n",
      "98/98 [==============================] - 0s 132us/step - loss: 0.0191\n",
      "Epoch 71/100\n",
      "98/98 [==============================] - 0s 122us/step - loss: 0.0175\n",
      "Epoch 72/100\n",
      "98/98 [==============================] - 0s 122us/step - loss: 0.0210\n",
      "Epoch 73/100\n",
      "98/98 [==============================] - 0s 122us/step - loss: 0.0173\n",
      "Epoch 74/100\n",
      "98/98 [==============================] - 0s 122us/step - loss: 0.0166\n",
      "Epoch 75/100\n",
      "98/98 [==============================] - 0s 122us/step - loss: 0.0173\n",
      "Epoch 76/100\n",
      "98/98 [==============================] - 0s 122us/step - loss: 0.0161\n",
      "Epoch 77/100\n",
      "98/98 [==============================] - 0s 132us/step - loss: 0.0219\n",
      "Epoch 78/100\n",
      "98/98 [==============================] - 0s 132us/step - loss: 0.0165\n",
      "Epoch 79/100\n",
      "98/98 [==============================] - 0s 122us/step - loss: 0.0163\n",
      "Epoch 80/100\n",
      "98/98 [==============================] - 0s 122us/step - loss: 0.0159\n",
      "Epoch 81/100\n",
      "98/98 [==============================] - 0s 112us/step - loss: 0.0174\n",
      "Epoch 82/100\n",
      "98/98 [==============================] - 0s 132us/step - loss: 0.0161\n",
      "Epoch 83/100\n",
      "98/98 [==============================] - 0s 132us/step - loss: 0.0154\n",
      "Epoch 84/100\n",
      "98/98 [==============================] - 0s 132us/step - loss: 0.0154\n",
      "Epoch 85/100\n",
      "98/98 [==============================] - 0s 122us/step - loss: 0.0153\n",
      "Epoch 86/100\n",
      "98/98 [==============================] - 0s 122us/step - loss: 0.0153\n",
      "Epoch 87/100\n",
      "98/98 [==============================] - 0s 122us/step - loss: 0.0153\n",
      "Epoch 88/100\n",
      "98/98 [==============================] - 0s 132us/step - loss: 0.0150\n",
      "Epoch 89/100\n",
      "98/98 [==============================] - 0s 132us/step - loss: 0.0151\n",
      "Epoch 90/100\n",
      "98/98 [==============================] - 0s 122us/step - loss: 0.0150\n",
      "Epoch 91/100\n",
      "98/98 [==============================] - 0s 122us/step - loss: 0.0150\n",
      "Epoch 92/100\n",
      "98/98 [==============================] - 0s 132us/step - loss: 0.0147\n",
      "Epoch 93/100\n",
      "98/98 [==============================] - 0s 122us/step - loss: 0.0147\n",
      "Epoch 94/100\n",
      "98/98 [==============================] - 0s 122us/step - loss: 0.0146\n",
      "Epoch 95/100\n",
      "98/98 [==============================] - 0s 122us/step - loss: 0.0162\n",
      "Epoch 96/100\n",
      "98/98 [==============================] - 0s 132us/step - loss: 0.0151\n",
      "Epoch 97/100\n",
      "98/98 [==============================] - 0s 132us/step - loss: 0.0145\n",
      "Epoch 98/100\n",
      "98/98 [==============================] - 0s 132us/step - loss: 0.0146\n",
      "Epoch 99/100\n"
     ]
    },
    {
     "name": "stdout",
     "output_type": "stream",
     "text": [
      "98/98 [==============================] - 0s 122us/step - loss: 0.0144\n",
      "Epoch 100/100\n",
      "98/98 [==============================] - 0s 112us/step - loss: 0.0148\n"
     ]
    }
   ],
   "source": [
    "history = model.fit(X_train, Y_train, epochs=100)"
   ]
  },
  {
   "cell_type": "markdown",
   "metadata": {},
   "source": [
    "# 결과 확인"
   ]
  },
  {
   "cell_type": "code",
   "execution_count": 22,
   "metadata": {},
   "outputs": [
    {
     "data": {
      "image/png": "[encoded data removed]",
      "text/plain": [
       "<Figure size 432x288 with 1 Axes>"
      ]
     },
     "metadata": {
      "needs_background": "light"
     },
     "output_type": "display_data"
    }
   ],
   "source": [
    "\n",
    "plt.plot(history.history[\"loss\"])\n",
    "plt.title(\"Loss\")\n",
    "plt.show()"
   ]
  },
  {
   "cell_type": "code",
   "execution_count": 23,
   "metadata": {},
   "outputs": [
    {
     "data": {
      "image/png": "[encoded data removed]",
      "text/plain": [
       "<Figure size 432x288 with 1 Axes>"
      ]
     },
     "metadata": {
      "needs_background": "light"
     },
     "output_type": "display_data"
    }
   ],
   "source": [
    "plt.plot(Y_train, 'ro-', label=\"target\")\n",
    "plt.plot(model.predict(X_train[:, :, :]), 'bs-', label=\"output\")\n",
    "plt.xlim(-0.5, 100)\n",
    "plt.ylim(-1.1, 1.1)\n",
    "plt.legend()\n",
    "plt.title(\"After training\")\n",
    "plt.show()"
   ]
  },
  {
   "cell_type": "code",
   "execution_count": 24,
   "metadata": {},
   "outputs": [
    {
     "data": {
      "text/plain": [
       "<tf.Variable 'simple_rnn_1/kernel:0' shape=(1, 10) dtype=float32, numpy=\n",
       "array([[ 0.24065237, -0.5543643 ,  0.02074404, -0.30702   , -0.55866045,\n",
       "         0.35075083,  0.29540056, -0.09533634, -0.46888888, -0.2769984 ]],\n",
       "      dtype=float32)>"
      ]
     },
     "execution_count": 24,
     "metadata": {},
     "output_type": "execute_result"
    }
   ],
   "source": [
    "# 입력에 대한 weights\n",
    "model.weights[0]"
   ]
  },
  {
   "cell_type": "code",
   "execution_count": 25,
   "metadata": {},
   "outputs": [
    {
     "data": {
      "text/plain": [
       "<tf.Variable 'simple_rnn_1/recurrent_kernel:0' shape=(10, 10) dtype=float32, numpy=\n",
       "array([[-0.31630722, -0.00707801, -0.42816332, -0.06879356,  0.34141913,\n",
       "        -0.46076432, -0.3037084 , -0.02124802,  0.2528526 , -0.41576883],\n",
       "       [ 0.410478  , -0.2139284 , -0.54833716,  0.06221759,  0.17263809,\n",
       "         0.54663736, -0.13358308, -0.09872529, -0.19008051, -0.24101576],\n",
       "       [-0.20370284, -0.14407118,  0.3612986 ,  0.28994146, -0.10298885,\n",
       "         0.31523556,  0.11349893,  0.11309621,  0.4430566 , -0.6534425 ],\n",
       "       [-0.0610658 ,  0.43949997, -0.14211753, -0.18495627, -0.31469932,\n",
       "         0.21692248, -0.5605632 ,  0.3020704 ,  0.30505994,  0.13522051],\n",
       "       [-0.177177  , -0.26784217, -0.21125604,  0.60112876,  0.01060094,\n",
       "         0.08976421, -0.07225196, -0.25972402,  0.40341896,  0.495666  ],\n",
       "       [ 0.08758023,  0.03704412,  0.40145105,  0.29210365,  0.557936  ,\n",
       "        -0.06548247, -0.30084437,  0.35383618, -0.19669019,  0.06319533],\n",
       "       [ 0.31322396,  0.3385624 ,  0.41867426, -0.05267789,  0.29869413,\n",
       "         0.01836197, -0.15852225, -0.55468357,  0.3416205 , -0.05559776],\n",
       "       [-0.08717293, -0.5276016 ,  0.14930008, -0.6376665 ,  0.27809346,\n",
       "         0.17274824, -0.07298281, -0.03046903,  0.22569732,  0.1799402 ],\n",
       "       [-0.42534074, -0.1894203 ,  0.17067245, -0.01405071, -0.19344194,\n",
       "         0.03247708, -0.43908072, -0.41184047, -0.45287493, -0.05995878],\n",
       "       [ 0.5966786 , -0.42440903,  0.04132603,  0.07466243, -0.39942455,\n",
       "        -0.42351267, -0.33734098,  0.06052702,  0.0652235 , -0.07494453]],\n",
       "      dtype=float32)>"
      ]
     },
     "execution_count": 25,
     "metadata": {},
     "output_type": "execute_result"
    }
   ],
   "source": [
    "# 유닛에 대한 weights\n",
    "model.weights[1]"
   ]
  },
  {
   "cell_type": "code",
   "execution_count": 26,
   "metadata": {},
   "outputs": [
    {
     "data": {
      "text/plain": [
       "<tf.Variable 'simple_rnn_1/bias:0' shape=(10,) dtype=float32, numpy=\n",
       "array([ 0.00054746, -0.00604442,  0.00815324, -0.0033111 , -0.01529239,\n",
       "       -0.00351852, -0.00847365, -0.00526892, -0.00034939, -0.00645196],\n",
       "      dtype=float32)>"
      ]
     },
     "execution_count": 26,
     "metadata": {},
     "output_type": "execute_result"
    }
   ],
   "source": [
    "\n",
    "# bias\n",
    "model.weights[2]"
   ]
  },
  {
   "cell_type": "code",
   "execution_count": null,
   "metadata": {},
   "outputs": [],
   "source": []
  },
  {
   "cell_type": "code",
   "execution_count": null,
   "metadata": {},
   "outputs": [],
   "source": []
  },
  {
   "cell_type": "code",
   "execution_count": null,
   "metadata": {},
   "outputs": [],
   "source": []
  },
  {
   "cell_type": "code",
   "execution_count": null,
   "metadata": {},
   "outputs": [],
   "source": []
  },
  {
   "cell_type": "code",
   "execution_count": null,
   "metadata": {},
   "outputs": [],
   "source": []
  }
 ],
 "metadata": {
  "kernelspec": {
   "display_name": "Python 3",
   "language": "python",
   "name": "python3"
  },
  "language_info": {
   "codemirror_mode": {
    "name": "ipython",
    "version": 3
   },
   "file_extension": ".py",
   "mimetype": "text/x-python",
   "name": "python",
   "nbconvert_exporter": "python",
   "pygments_lexer": "ipython3",
   "version": "3.7.7"
  }
 },
 "nbformat": 4,
 "nbformat_minor": 4
}
