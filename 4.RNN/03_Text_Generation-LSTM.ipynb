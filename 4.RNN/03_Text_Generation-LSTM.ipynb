{
 "cells": [
  {
   "cell_type": "markdown",
   "metadata": {},
   "source": [
    "# LSTM을 이용한 텍스트 생성\n",
    "- 데이터 다운로드: 캐글 New York Times Comments"
   ]
  },
  {
   "cell_type": "markdown",
   "metadata": {},
   "source": [
    "1. 데이터 전처리"
   ]
  },
  {
   "cell_type": "code",
   "execution_count": 2,
   "metadata": {},
   "outputs": [
    {
     "name": "stderr",
     "output_type": "stream",
     "text": [
      "Using TensorFlow backend.\n"
     ]
    }
   ],
   "source": [
    "import numpy as np\n",
    "import pandas as pd\n",
    "from string import punctuation\n",
    "\n",
    "from tensorflow import keras\n",
    "from keras.preprocessing.text import Tokenizer\n",
    "from keras.preprocessing.sequence import pad_sequences\n",
    "from keras.utils import to_categorical"
   ]
  },
  {
   "cell_type": "code",
   "execution_count": 22,
   "metadata": {},
   "outputs": [
    {
     "data": {
      "text/html": [
       "<div>\n",
       "<style scoped>\n",
       "    .dataframe tbody tr th:only-of-type {\n",
       "        vertical-align: middle;\n",
       "    }\n",
       "\n",
       "    .dataframe tbody tr th {\n",
       "        vertical-align: top;\n",
       "    }\n",
       "\n",
       "    .dataframe thead th {\n",
       "        text-align: right;\n",
       "    }\n",
       "</style>\n",
       "<table border=\"1\" class=\"dataframe\">\n",
       "  <thead>\n",
       "    <tr style=\"text-align: right;\">\n",
       "      <th></th>\n",
       "      <th>articleID</th>\n",
       "      <th>articleWordCount</th>\n",
       "      <th>byline</th>\n",
       "      <th>documentType</th>\n",
       "      <th>headline</th>\n",
       "      <th>keywords</th>\n",
       "      <th>multimedia</th>\n",
       "      <th>newDesk</th>\n",
       "      <th>printPage</th>\n",
       "      <th>pubDate</th>\n",
       "      <th>sectionName</th>\n",
       "      <th>snippet</th>\n",
       "      <th>source</th>\n",
       "      <th>typeOfMaterial</th>\n",
       "      <th>webURL</th>\n",
       "    </tr>\n",
       "  </thead>\n",
       "  <tbody>\n",
       "    <tr>\n",
       "      <th>0</th>\n",
       "      <td>5adf6684068401528a2aa69b</td>\n",
       "      <td>781</td>\n",
       "      <td>By JOHN BRANCH</td>\n",
       "      <td>article</td>\n",
       "      <td>Former N.F.L. Cheerleadersâ Settlement Offer...</td>\n",
       "      <td>['Workplace Hazards and Violations', 'Football...</td>\n",
       "      <td>68</td>\n",
       "      <td>Sports</td>\n",
       "      <td>0</td>\n",
       "      <td>2018-04-24 17:16:49</td>\n",
       "      <td>Pro Football</td>\n",
       "      <td>âI understand that they could meet with us, ...</td>\n",
       "      <td>The New York Times</td>\n",
       "      <td>News</td>\n",
       "      <td>https://www.nytimes.com/2018/04/24/sports/foot...</td>\n",
       "    </tr>\n",
       "    <tr>\n",
       "      <th>1</th>\n",
       "      <td>5adf653f068401528a2aa697</td>\n",
       "      <td>656</td>\n",
       "      <td>By LISA FRIEDMAN</td>\n",
       "      <td>article</td>\n",
       "      <td>E.P.A. to Unveil a New Rule. Its Effect: Less ...</td>\n",
       "      <td>['Environmental Protection Agency', 'Pruitt, S...</td>\n",
       "      <td>68</td>\n",
       "      <td>Climate</td>\n",
       "      <td>0</td>\n",
       "      <td>2018-04-24 17:11:21</td>\n",
       "      <td>Unknown</td>\n",
       "      <td>The agency plans to publish a new regulation T...</td>\n",
       "      <td>The New York Times</td>\n",
       "      <td>News</td>\n",
       "      <td>https://www.nytimes.com/2018/04/24/climate/epa...</td>\n",
       "    </tr>\n",
       "    <tr>\n",
       "      <th>2</th>\n",
       "      <td>5adf4626068401528a2aa628</td>\n",
       "      <td>2427</td>\n",
       "      <td>By PETE WELLS</td>\n",
       "      <td>article</td>\n",
       "      <td>The New Noma, Explained</td>\n",
       "      <td>['Restaurants', 'Noma (Copenhagen, Restaurant)...</td>\n",
       "      <td>66</td>\n",
       "      <td>Dining</td>\n",
       "      <td>0</td>\n",
       "      <td>2018-04-24 14:58:44</td>\n",
       "      <td>Unknown</td>\n",
       "      <td>Whatâs it like to eat at the second incarnat...</td>\n",
       "      <td>The New York Times</td>\n",
       "      <td>News</td>\n",
       "      <td>https://www.nytimes.com/2018/04/24/dining/noma...</td>\n",
       "    </tr>\n",
       "    <tr>\n",
       "      <th>3</th>\n",
       "      <td>5adf40d2068401528a2aa619</td>\n",
       "      <td>626</td>\n",
       "      <td>By JULIE HIRSCHFELD DAVIS and PETER BAKER</td>\n",
       "      <td>article</td>\n",
       "      <td>Unknown</td>\n",
       "      <td>['Macron, Emmanuel (1977- )', 'Trump, Donald J...</td>\n",
       "      <td>68</td>\n",
       "      <td>Washington</td>\n",
       "      <td>0</td>\n",
       "      <td>2018-04-24 14:35:57</td>\n",
       "      <td>Europe</td>\n",
       "      <td>President Trump welcomed President Emmanuel Ma...</td>\n",
       "      <td>The New York Times</td>\n",
       "      <td>News</td>\n",
       "      <td>https://www.nytimes.com/2018/04/24/world/europ...</td>\n",
       "    </tr>\n",
       "    <tr>\n",
       "      <th>4</th>\n",
       "      <td>5adf3d64068401528a2aa60f</td>\n",
       "      <td>815</td>\n",
       "      <td>By IAN AUSTEN and DAN BILEFSKY</td>\n",
       "      <td>article</td>\n",
       "      <td>Unknown</td>\n",
       "      <td>['Toronto, Ontario, Attack (April, 2018)', 'Mu...</td>\n",
       "      <td>68</td>\n",
       "      <td>Foreign</td>\n",
       "      <td>0</td>\n",
       "      <td>2018-04-24 14:21:21</td>\n",
       "      <td>Canada</td>\n",
       "      <td>Alek Minassian, 25, a resident of Torontoâs ...</td>\n",
       "      <td>The New York Times</td>\n",
       "      <td>News</td>\n",
       "      <td>https://www.nytimes.com/2018/04/24/world/canad...</td>\n",
       "    </tr>\n",
       "  </tbody>\n",
       "</table>\n",
       "</div>"
      ],
      "text/plain": [
       "                  articleID  articleWordCount  \\\n",
       "0  5adf6684068401528a2aa69b               781   \n",
       "1  5adf653f068401528a2aa697               656   \n",
       "2  5adf4626068401528a2aa628              2427   \n",
       "3  5adf40d2068401528a2aa619               626   \n",
       "4  5adf3d64068401528a2aa60f               815   \n",
       "\n",
       "                                      byline documentType  \\\n",
       "0                             By JOHN BRANCH      article   \n",
       "1                           By LISA FRIEDMAN      article   \n",
       "2                              By PETE WELLS      article   \n",
       "3  By JULIE HIRSCHFELD DAVIS and PETER BAKER      article   \n",
       "4             By IAN AUSTEN and DAN BILEFSKY      article   \n",
       "\n",
       "                                            headline  \\\n",
       "0  Former N.F.L. Cheerleadersâ Settlement Offer...   \n",
       "1  E.P.A. to Unveil a New Rule. Its Effect: Less ...   \n",
       "2                            The New Noma, Explained   \n",
       "3                                            Unknown   \n",
       "4                                            Unknown   \n",
       "\n",
       "                                            keywords  multimedia     newDesk  \\\n",
       "0  ['Workplace Hazards and Violations', 'Football...          68      Sports   \n",
       "1  ['Environmental Protection Agency', 'Pruitt, S...          68     Climate   \n",
       "2  ['Restaurants', 'Noma (Copenhagen, Restaurant)...          66      Dining   \n",
       "3  ['Macron, Emmanuel (1977- )', 'Trump, Donald J...          68  Washington   \n",
       "4  ['Toronto, Ontario, Attack (April, 2018)', 'Mu...          68     Foreign   \n",
       "\n",
       "   printPage              pubDate   sectionName  \\\n",
       "0          0  2018-04-24 17:16:49  Pro Football   \n",
       "1          0  2018-04-24 17:11:21       Unknown   \n",
       "2          0  2018-04-24 14:58:44       Unknown   \n",
       "3          0  2018-04-24 14:35:57        Europe   \n",
       "4          0  2018-04-24 14:21:21        Canada   \n",
       "\n",
       "                                             snippet              source  \\\n",
       "0  âI understand that they could meet with us, ...  The New York Times   \n",
       "1  The agency plans to publish a new regulation T...  The New York Times   \n",
       "2  Whatâs it like to eat at the second incarnat...  The New York Times   \n",
       "3  President Trump welcomed President Emmanuel Ma...  The New York Times   \n",
       "4  Alek Minassian, 25, a resident of Torontoâs ...  The New York Times   \n",
       "\n",
       "  typeOfMaterial                                             webURL  \n",
       "0           News  https://www.nytimes.com/2018/04/24/sports/foot...  \n",
       "1           News  https://www.nytimes.com/2018/04/24/climate/epa...  \n",
       "2           News  https://www.nytimes.com/2018/04/24/dining/noma...  \n",
       "3           News  https://www.nytimes.com/2018/04/24/world/europ...  \n",
       "4           News  https://www.nytimes.com/2018/04/24/world/canad...  "
      ]
     },
     "execution_count": 22,
     "metadata": {},
     "output_type": "execute_result"
    }
   ],
   "source": [
    "df=pd.read_csv('../dataset/ArticlesApril2018.csv', encoding = \"latin\")\n",
    "df.head()"
   ]
  },
  {
   "cell_type": "code",
   "execution_count": 4,
   "metadata": {},
   "outputs": [
    {
     "name": "stdout",
     "output_type": "stream",
     "text": [
      "열의 개수:  15\n",
      "Index(['articleID', 'articleWordCount', 'byline', 'documentType', 'headline',\n",
      "       'keywords', 'multimedia', 'newDesk', 'printPage', 'pubDate',\n",
      "       'sectionName', 'snippet', 'source', 'typeOfMaterial', 'webURL'],\n",
      "      dtype='object')\n"
     ]
    }
   ],
   "source": [
    "print('열의 개수: ', len(df.columns))\n",
    "print(df.columns)"
   ]
  },
  {
   "cell_type": "code",
   "execution_count": 5,
   "metadata": {},
   "outputs": [
    {
     "data": {
      "text/plain": [
       "False"
      ]
     },
     "execution_count": 5,
     "metadata": {},
     "output_type": "execute_result"
    }
   ],
   "source": [
    "# headline 열의 데이터만 사용, Null 검사\n",
    "df['headline'].isnull().values.any()"
   ]
  },
  {
   "cell_type": "code",
   "execution_count": 6,
   "metadata": {},
   "outputs": [
    {
     "data": {
      "text/plain": [
       "['Former N.F.L. Cheerleaders’ Settlement Offer: $1 and a Meeting With Goodell',\n",
       " 'E.P.A. to Unveil a New Rule. Its Effect: Less Science in Policymaking.',\n",
       " 'The New Noma, Explained',\n",
       " 'Unknown',\n",
       " 'Unknown']"
      ]
     },
     "execution_count": 6,
     "metadata": {},
     "output_type": "execute_result"
    }
   ],
   "source": [
    "# headline 열의 데이터로 리스트 생성\n",
    "headline = [title for title in df.headline.values]\n",
    "headline[:5]"
   ]
  },
  {
   "cell_type": "code",
   "execution_count": 7,
   "metadata": {},
   "outputs": [
    {
     "data": {
      "text/plain": [
       "1324"
      ]
     },
     "execution_count": 7,
     "metadata": {},
     "output_type": "execute_result"
    }
   ],
   "source": [
    "len(headline)"
   ]
  },
  {
   "cell_type": "code",
   "execution_count": 8,
   "metadata": {},
   "outputs": [
    {
     "data": {
      "text/plain": [
       "1214"
      ]
     },
     "execution_count": 8,
     "metadata": {},
     "output_type": "execute_result"
    }
   ],
   "source": [
    "# 노이즈 데이터('Unknown') 제거\n",
    "headline = [title for title in headline if title != 'Unknown']\n",
    "len(headline)"
   ]
  },
  {
   "cell_type": "code",
   "execution_count": 9,
   "metadata": {},
   "outputs": [],
   "source": [
    "# 구두점 제거와 소문자화를 위한 함수\n",
    "def repreprocessing(s):\n",
    "    s=s.encode(\"utf8\").decode(\"ascii\",'ignore')\n",
    "    return ''.join(c for c in s if c not in punctuation).lower()"
   ]
  },
  {
   "cell_type": "code",
   "execution_count": 10,
   "metadata": {},
   "outputs": [
    {
     "data": {
      "text/plain": [
       "['former nfl cheerleaders settlement offer 1 and a meeting with goodell',\n",
       " 'epa to unveil a new rule its effect less science in policymaking',\n",
       " 'the new noma explained',\n",
       " 'how a bag of texas dirt  became a times tradition',\n",
       " 'is school a place for selfexpression']"
      ]
     },
     "execution_count": 10,
     "metadata": {},
     "output_type": "execute_result"
    }
   ],
   "source": [
    "text = [repreprocessing(x) for x in headline]\n",
    "text[:5]"
   ]
  },
  {
   "cell_type": "code",
   "execution_count": 11,
   "metadata": {},
   "outputs": [
    {
     "name": "stdout",
     "output_type": "stream",
     "text": [
      "단어 집합의 크기 : 3494\n"
     ]
    }
   ],
   "source": [
    "# 단어 집합(vocabulary)을 만들고 크기를 확인\n",
    "t = Tokenizer()\n",
    "t.fit_on_texts(text)\n",
    "vocab_size = len(t.word_index) + 1\n",
    "print('단어 집합의 크기 : %d' % vocab_size)"
   ]
  },
  {
   "cell_type": "code",
   "execution_count": 12,
   "metadata": {},
   "outputs": [
    {
     "data": {
      "text/plain": [
       "[[99, 269],\n",
       " [99, 269, 371],\n",
       " [99, 269, 371, 1115],\n",
       " [99, 269, 371, 1115, 582],\n",
       " [99, 269, 371, 1115, 582, 52],\n",
       " [99, 269, 371, 1115, 582, 52, 7],\n",
       " [99, 269, 371, 1115, 582, 52, 7, 2],\n",
       " [99, 269, 371, 1115, 582, 52, 7, 2, 372],\n",
       " [99, 269, 371, 1115, 582, 52, 7, 2, 372, 10],\n",
       " [99, 269, 371, 1115, 582, 52, 7, 2, 372, 10, 1116],\n",
       " [100, 3]]"
      ]
     },
     "execution_count": 12,
     "metadata": {},
     "output_type": "execute_result"
    }
   ],
   "source": [
    "sequences = []\n",
    "for line in text: # 1,214 개의 샘플에 대해서 샘플을 1개씩 가져온다.\n",
    "    encoded = t.texts_to_sequences([line])[0] # 각 샘플에 대한 정수 인코딩\n",
    "    for i in range(1, len(encoded)):\n",
    "        sequence = encoded[:i+1]\n",
    "        sequences.append(sequence)\n",
    "\n",
    "sequences[:11] # 11개의 샘플 출력"
   ]
  },
  {
   "cell_type": "code",
   "execution_count": 13,
   "metadata": {},
   "outputs": [
    {
     "name": "stdout",
     "output_type": "stream",
     "text": [
      "빈도수 상위 1번 단어 : the\n",
      "빈도수 상위 582번 단어 : offer\n"
     ]
    }
   ],
   "source": [
    "\n",
    "index_to_word = {}\n",
    "for key, value in t.word_index.items(): # 인덱스를 단어로 바꾸기 위해 index_to_word를 생성\n",
    "    index_to_word[value] = key\n",
    "\n",
    "print('빈도수 상위 1번 단어 :', index_to_word[1])\n",
    "print('빈도수 상위 582번 단어 :', index_to_word[582])"
   ]
  },
  {
   "cell_type": "code",
   "execution_count": 14,
   "metadata": {},
   "outputs": [
    {
     "name": "stdout",
     "output_type": "stream",
     "text": [
      "샘플의 최대 길이 : 24\n"
     ]
    }
   ],
   "source": [
    "max_len=max(len(s) for s in sequences)\n",
    "print('샘플의 최대 길이 :', max_len)"
   ]
  },
  {
   "cell_type": "code",
   "execution_count": 15,
   "metadata": {},
   "outputs": [
    {
     "name": "stdout",
     "output_type": "stream",
     "text": [
      "[[   0    0    0    0    0    0    0    0    0    0    0    0    0    0\n",
      "     0    0    0    0    0    0    0    0   99  269]\n",
      " [   0    0    0    0    0    0    0    0    0    0    0    0    0    0\n",
      "     0    0    0    0    0    0    0   99  269  371]\n",
      " [   0    0    0    0    0    0    0    0    0    0    0    0    0    0\n",
      "     0    0    0    0    0    0   99  269  371 1115]]\n"
     ]
    }
   ],
   "source": [
    "# 전체 샘플의 길이를 24(가장 긴 샘플의 길이)로 패딩\n",
    "# 'pre' 옵션을 주면 앞을 0으로 패딩\n",
    "sequences = pad_sequences(sequences, maxlen=max_len, padding='pre')\n",
    "print(sequences[:3])"
   ]
  },
  {
   "cell_type": "code",
   "execution_count": 16,
   "metadata": {},
   "outputs": [],
   "source": [
    "X = sequences[:,:-1]\n",
    "y = sequences[:,-1]"
   ]
  },
  {
   "cell_type": "code",
   "execution_count": 17,
   "metadata": {},
   "outputs": [],
   "source": [
    "# 레이블 데이터 y에 대해서 원-핫 인코딩을 수행\n",
    "y = to_categorical(y, num_classes=vocab_size)"
   ]
  },
  {
   "cell_type": "code",
   "execution_count": 18,
   "metadata": {},
   "outputs": [
    {
     "data": {
      "text/plain": [
       "((7803, 23), (7803, 3494))"
      ]
     },
     "execution_count": 18,
     "metadata": {},
     "output_type": "execute_result"
    }
   ],
   "source": [
    "X.shape, y.shape"
   ]
  },
  {
   "cell_type": "markdown",
   "metadata": {},
   "source": [
    "# 2. 모델 설계 및 학습"
   ]
  },
  {
   "cell_type": "code",
   "execution_count": 19,
   "metadata": {},
   "outputs": [],
   "source": [
    "from tensorflow import keras\n",
    "from keras.models import Sequential\n",
    "from keras.layers import Embedding, Dense, LSTM"
   ]
  },
  {
   "cell_type": "code",
   "execution_count": 20,
   "metadata": {},
   "outputs": [],
   "source": [
    "\n",
    "# 임베딩 벡터는 10차원, 은닉 상태 크기는 128\n",
    "embedding = Embedding(vocab_size, 10, input_length=max_len-1, name=\"Embedding_Layer\")\n",
    "lstm = LSTM(128, name=\"LSTM_Layer\")\n",
    "output = Dense(vocab_size, activation='softmax', name=\"Output_Layer\")"
   ]
  },
  {
   "cell_type": "code",
   "execution_count": 21,
   "metadata": {},
   "outputs": [
    {
     "name": "stdout",
     "output_type": "stream",
     "text": [
      "Model: \"sequential_1\"\n",
      "_________________________________________________________________\n",
      "Layer (type)                 Output Shape              Param #   \n",
      "=================================================================\n",
      "Embedding_Layer (Embedding)  (None, 23, 10)            34940     \n",
      "_________________________________________________________________\n",
      "LSTM_Layer (LSTM)            (None, 128)               71168     \n",
      "_________________________________________________________________\n",
      "Output_Layer (Dense)         (None, 3494)              450726    \n",
      "=================================================================\n",
      "Total params: 556,834\n",
      "Trainable params: 556,834\n",
      "Non-trainable params: 0\n",
      "_________________________________________________________________\n"
     ]
    }
   ],
   "source": [
    "\n",
    "model = Sequential()\n",
    "model.add(embedding)\n",
    "model.add(lstm)\n",
    "model.add(output)\n",
    "model.summary()"
   ]
  },
  {
   "cell_type": "code",
   "execution_count": 23,
   "metadata": {},
   "outputs": [],
   "source": [
    "model.compile(loss='categorical_crossentropy', \n",
    "              optimizer='adam', metrics=['accuracy'])"
   ]
  },
  {
   "cell_type": "code",
   "execution_count": 24,
   "metadata": {},
   "outputs": [
    {
     "name": "stderr",
     "output_type": "stream",
     "text": [
      "C:\\ProgramData\\Anaconda3\\envs\\tf2\\lib\\site-packages\\tensorflow_core\\python\\framework\\indexed_slices.py:433: UserWarning: Converting sparse IndexedSlices to a dense Tensor of unknown shape. This may consume a large amount of memory.\n",
      "  \"Converting sparse IndexedSlices to a dense Tensor of unknown shape. \"\n"
     ]
    },
    {
     "name": "stdout",
     "output_type": "stream",
     "text": [
      "Epoch 1/200\n",
      " - 4s - loss: 7.6350 - accuracy: 0.0278\n",
      "Epoch 2/200\n",
      " - 4s - loss: 7.1061 - accuracy: 0.0313\n",
      "Epoch 3/200\n",
      " - 4s - loss: 6.9698 - accuracy: 0.0338\n",
      "Epoch 4/200\n",
      " - 4s - loss: 6.8504 - accuracy: 0.0413\n",
      "Epoch 5/200\n",
      " - 4s - loss: 6.7056 - accuracy: 0.0461\n",
      "Epoch 6/200\n",
      " - 4s - loss: 6.5479 - accuracy: 0.0481\n",
      "Epoch 7/200\n",
      " - 4s - loss: 6.3622 - accuracy: 0.0525\n",
      "Epoch 8/200\n",
      " - 4s - loss: 6.1615 - accuracy: 0.0559\n",
      "Epoch 9/200\n",
      " - 4s - loss: 5.9610 - accuracy: 0.0627\n",
      "Epoch 10/200\n",
      " - 4s - loss: 5.7711 - accuracy: 0.0668\n",
      "Epoch 11/200\n",
      " - 4s - loss: 5.5885 - accuracy: 0.0681\n",
      "Epoch 12/200\n",
      " - 4s - loss: 5.4173 - accuracy: 0.0782\n",
      "Epoch 13/200\n",
      " - 4s - loss: 5.2563 - accuracy: 0.0830\n",
      "Epoch 14/200\n",
      " - 4s - loss: 5.1070 - accuracy: 0.0878\n",
      "Epoch 15/200\n",
      " - 4s - loss: 4.9641 - accuracy: 0.1009\n",
      "Epoch 16/200\n",
      " - 4s - loss: 4.8296 - accuracy: 0.1062\n",
      "Epoch 17/200\n",
      " - 4s - loss: 4.6950 - accuracy: 0.1162\n",
      "Epoch 18/200\n",
      " - 4s - loss: 4.5704 - accuracy: 0.1306\n",
      "Epoch 19/200\n",
      " - 4s - loss: 4.4463 - accuracy: 0.1457\n",
      "Epoch 20/200\n",
      " - 4s - loss: 4.3282 - accuracy: 0.1581\n",
      "Epoch 21/200\n",
      " - 4s - loss: 4.2144 - accuracy: 0.1792\n",
      "Epoch 22/200\n",
      " - 4s - loss: 4.0995 - accuracy: 0.1948\n",
      "Epoch 23/200\n",
      " - 4s - loss: 3.9924 - accuracy: 0.2118\n",
      "Epoch 24/200\n",
      " - 4s - loss: 3.8910 - accuracy: 0.2281\n",
      "Epoch 25/200\n",
      " - 4s - loss: 3.7840 - accuracy: 0.2504\n",
      "Epoch 26/200\n",
      " - 4s - loss: 3.6875 - accuracy: 0.2585\n",
      "Epoch 27/200\n",
      " - 4s - loss: 3.5910 - accuracy: 0.2798\n",
      "Epoch 28/200\n",
      " - 4s - loss: 3.5013 - accuracy: 0.2971\n",
      "Epoch 29/200\n",
      " - 4s - loss: 3.4078 - accuracy: 0.3113\n",
      "Epoch 30/200\n",
      " - 4s - loss: 3.3239 - accuracy: 0.3269\n",
      "Epoch 31/200\n",
      " - 4s - loss: 3.2348 - accuracy: 0.3437\n",
      "Epoch 32/200\n",
      " - 4s - loss: 3.1571 - accuracy: 0.3572\n",
      "Epoch 33/200\n",
      " - 4s - loss: 3.0806 - accuracy: 0.3750\n",
      "Epoch 34/200\n",
      " - 4s - loss: 3.0078 - accuracy: 0.3852\n",
      "Epoch 35/200\n",
      " - 4s - loss: 2.9325 - accuracy: 0.4032\n",
      "Epoch 36/200\n",
      " - 4s - loss: 2.8601 - accuracy: 0.4124\n",
      "Epoch 37/200\n",
      " - 4s - loss: 2.7892 - accuracy: 0.4259\n",
      "Epoch 38/200\n",
      " - 4s - loss: 2.7241 - accuracy: 0.4357\n",
      "Epoch 39/200\n",
      " - 4s - loss: 2.6596 - accuracy: 0.4529\n",
      "Epoch 40/200\n",
      " - 4s - loss: 2.5960 - accuracy: 0.4647\n",
      "Epoch 41/200\n",
      " - 4s - loss: 2.5367 - accuracy: 0.4726\n",
      "Epoch 42/200\n",
      " - 4s - loss: 2.4773 - accuracy: 0.4919\n",
      "Epoch 43/200\n",
      " - 4s - loss: 2.4173 - accuracy: 0.5054\n",
      "Epoch 44/200\n",
      " - 4s - loss: 2.3667 - accuracy: 0.5089\n",
      "Epoch 45/200\n",
      " - 4s - loss: 2.3092 - accuracy: 0.5270\n",
      "Epoch 46/200\n",
      " - 4s - loss: 2.2589 - accuracy: 0.5349\n",
      "Epoch 47/200\n",
      " - 4s - loss: 2.2075 - accuracy: 0.5465\n",
      "Epoch 48/200\n",
      " - 4s - loss: 2.1601 - accuracy: 0.5524\n",
      "Epoch 49/200\n",
      " - 4s - loss: 2.1093 - accuracy: 0.5623\n",
      "Epoch 50/200\n",
      " - 4s - loss: 2.0606 - accuracy: 0.5730\n",
      "Epoch 51/200\n",
      " - 4s - loss: 2.0145 - accuracy: 0.5853\n",
      "Epoch 52/200\n",
      " - 4s - loss: 1.9688 - accuracy: 0.5925\n",
      "Epoch 53/200\n",
      " - 4s - loss: 1.9251 - accuracy: 0.6040\n",
      "Epoch 54/200\n",
      " - 4s - loss: 1.8850 - accuracy: 0.6116\n",
      "Epoch 55/200\n",
      " - 4s - loss: 1.8399 - accuracy: 0.6232\n",
      "Epoch 56/200\n",
      " - 4s - loss: 1.7988 - accuracy: 0.6319\n",
      "Epoch 57/200\n",
      " - 4s - loss: 1.7607 - accuracy: 0.6385\n",
      "Epoch 58/200\n",
      " - 4s - loss: 1.7192 - accuracy: 0.6486\n",
      "Epoch 59/200\n",
      " - 4s - loss: 1.6810 - accuracy: 0.6563\n",
      "Epoch 60/200\n",
      " - 4s - loss: 1.6429 - accuracy: 0.6658\n",
      "Epoch 61/200\n",
      " - 4s - loss: 1.6032 - accuracy: 0.6786\n",
      "Epoch 62/200\n",
      " - 4s - loss: 1.5673 - accuracy: 0.6867\n",
      "Epoch 63/200\n",
      " - 4s - loss: 1.5320 - accuracy: 0.6915\n",
      "Epoch 64/200\n",
      " - 4s - loss: 1.4983 - accuracy: 0.6996\n",
      "Epoch 65/200\n",
      " - 4s - loss: 1.4640 - accuracy: 0.7046\n",
      "Epoch 66/200\n",
      " - 4s - loss: 1.4321 - accuracy: 0.7134\n",
      "Epoch 67/200\n",
      " - 4s - loss: 1.3994 - accuracy: 0.7172\n",
      "Epoch 68/200\n",
      " - 4s - loss: 1.3666 - accuracy: 0.7278\n",
      "Epoch 69/200\n",
      " - 4s - loss: 1.3351 - accuracy: 0.7286\n",
      "Epoch 70/200\n",
      " - 4s - loss: 1.3034 - accuracy: 0.7369\n",
      "Epoch 71/200\n",
      " - 4s - loss: 1.2768 - accuracy: 0.7418\n",
      "Epoch 72/200\n",
      " - 4s - loss: 1.2485 - accuracy: 0.7496\n",
      "Epoch 73/200\n",
      " - 4s - loss: 1.2191 - accuracy: 0.7545\n",
      "Epoch 74/200\n",
      " - 4s - loss: 1.1923 - accuracy: 0.7582\n",
      "Epoch 75/200\n",
      " - 4s - loss: 1.1648 - accuracy: 0.7657\n",
      "Epoch 76/200\n",
      " - 4s - loss: 1.1379 - accuracy: 0.7730\n",
      "Epoch 77/200\n",
      " - 4s - loss: 1.1144 - accuracy: 0.7771\n",
      "Epoch 78/200\n",
      " - 4s - loss: 1.0891 - accuracy: 0.7839\n",
      "Epoch 79/200\n",
      " - 4s - loss: 1.0622 - accuracy: 0.7870\n",
      "Epoch 80/200\n",
      " - 4s - loss: 1.0394 - accuracy: 0.7929\n",
      "Epoch 81/200\n",
      " - 4s - loss: 1.0171 - accuracy: 0.7958\n",
      "Epoch 82/200\n",
      " - 4s - loss: 0.9954 - accuracy: 0.8026\n",
      "Epoch 83/200\n",
      " - 4s - loss: 0.9733 - accuracy: 0.8102\n",
      "Epoch 84/200\n",
      " - 4s - loss: 0.9494 - accuracy: 0.8115\n",
      "Epoch 85/200\n",
      " - 4s - loss: 0.9277 - accuracy: 0.8140\n",
      "Epoch 86/200\n",
      " - 4s - loss: 0.9084 - accuracy: 0.8196\n",
      "Epoch 87/200\n",
      " - 4s - loss: 0.8888 - accuracy: 0.8246\n",
      "Epoch 88/200\n",
      " - 4s - loss: 0.8704 - accuracy: 0.8252\n",
      "Epoch 89/200\n",
      " - 4s - loss: 0.8523 - accuracy: 0.8316\n",
      "Epoch 90/200\n",
      " - 4s - loss: 0.8333 - accuracy: 0.8320\n",
      "Epoch 91/200\n",
      " - 4s - loss: 0.8160 - accuracy: 0.8366\n",
      "Epoch 92/200\n",
      " - 4s - loss: 0.7973 - accuracy: 0.8429\n",
      "Epoch 93/200\n",
      " - 4s - loss: 0.7794 - accuracy: 0.8454\n",
      "Epoch 94/200\n",
      " - 4s - loss: 0.7610 - accuracy: 0.8476\n",
      "Epoch 95/200\n",
      " - 4s - loss: 0.7467 - accuracy: 0.8525\n",
      "Epoch 96/200\n",
      " - 4s - loss: 0.7302 - accuracy: 0.8565\n",
      "Epoch 97/200\n",
      " - 4s - loss: 0.7128 - accuracy: 0.8572\n",
      "Epoch 98/200\n",
      " - 4s - loss: 0.6997 - accuracy: 0.8603\n",
      "Epoch 99/200\n",
      " - 4s - loss: 0.6894 - accuracy: 0.8644\n",
      "Epoch 100/200\n",
      " - 4s - loss: 0.6722 - accuracy: 0.8674\n",
      "Epoch 101/200\n",
      " - 4s - loss: 0.6566 - accuracy: 0.8685\n",
      "Epoch 102/200\n",
      " - 4s - loss: 0.6414 - accuracy: 0.8735\n",
      "Epoch 103/200\n",
      " - 4s - loss: 0.6318 - accuracy: 0.8735\n",
      "Epoch 104/200\n",
      " - 4s - loss: 0.6197 - accuracy: 0.8770\n",
      "Epoch 105/200\n",
      " - 4s - loss: 0.6060 - accuracy: 0.8809\n",
      "Epoch 106/200\n",
      " - 4s - loss: 0.5919 - accuracy: 0.8826\n",
      "Epoch 107/200\n",
      " - 4s - loss: 0.5809 - accuracy: 0.8825\n",
      "Epoch 108/200\n",
      " - 4s - loss: 0.5712 - accuracy: 0.8865\n",
      "Epoch 109/200\n",
      " - 4s - loss: 0.5588 - accuracy: 0.8875\n",
      "Epoch 110/200\n",
      " - 4s - loss: 0.5508 - accuracy: 0.8912\n",
      "Epoch 111/200\n",
      " - 4s - loss: 0.5360 - accuracy: 0.8925\n",
      "Epoch 112/200\n",
      " - 4s - loss: 0.5241 - accuracy: 0.8953\n",
      "Epoch 113/200\n",
      " - 4s - loss: 0.5140 - accuracy: 0.8972\n",
      "Epoch 114/200\n",
      " - 4s - loss: 0.5055 - accuracy: 0.8981\n",
      "Epoch 115/200\n",
      " - 4s - loss: 0.4935 - accuracy: 0.9008\n",
      "Epoch 116/200\n",
      " - 4s - loss: 0.4865 - accuracy: 0.8991\n",
      "Epoch 117/200\n",
      " - 4s - loss: 0.4884 - accuracy: 0.9022\n",
      "Epoch 118/200\n",
      " - 4s - loss: 0.4843 - accuracy: 0.9000\n",
      "Epoch 119/200\n",
      " - 4s - loss: 0.4682 - accuracy: 0.9020\n",
      "Epoch 120/200\n",
      " - 4s - loss: 0.4641 - accuracy: 0.9029\n",
      "Epoch 121/200\n",
      " - 4s - loss: 0.4468 - accuracy: 0.9044\n",
      "Epoch 122/200\n",
      " - 4s - loss: 0.4366 - accuracy: 0.9071\n",
      "Epoch 123/200\n",
      " - 4s - loss: 0.4277 - accuracy: 0.9061\n",
      "Epoch 124/200\n",
      " - 4s - loss: 0.4218 - accuracy: 0.9072\n",
      "Epoch 125/200\n",
      " - 4s - loss: 0.4142 - accuracy: 0.9091\n",
      "Epoch 126/200\n",
      " - 4s - loss: 0.4091 - accuracy: 0.9088\n",
      "Epoch 127/200\n",
      " - 4s - loss: 0.4015 - accuracy: 0.9099\n",
      "Epoch 128/200\n",
      " - 4s - loss: 0.3972 - accuracy: 0.9103\n",
      "Epoch 129/200\n",
      " - 4s - loss: 0.3913 - accuracy: 0.9100\n",
      "Epoch 130/200\n",
      " - 4s - loss: 0.3877 - accuracy: 0.9104\n",
      "Epoch 131/200\n",
      " - 4s - loss: 0.3803 - accuracy: 0.9129\n",
      "Epoch 132/200\n",
      " - 4s - loss: 0.3754 - accuracy: 0.9114\n",
      "Epoch 133/200\n",
      " - 4s - loss: 0.3728 - accuracy: 0.9130\n",
      "Epoch 134/200\n",
      " - 4s - loss: 0.3656 - accuracy: 0.9125\n",
      "Epoch 135/200\n",
      " - 4s - loss: 0.3613 - accuracy: 0.9134\n",
      "Epoch 136/200\n",
      " - 4s - loss: 0.3560 - accuracy: 0.9138\n",
      "Epoch 137/200\n",
      " - 4s - loss: 0.3515 - accuracy: 0.9132\n",
      "Epoch 138/200\n",
      " - 4s - loss: 0.3485 - accuracy: 0.9131\n",
      "Epoch 139/200\n",
      " - 4s - loss: 0.3425 - accuracy: 0.9148\n",
      "Epoch 140/200\n",
      " - 4s - loss: 0.3473 - accuracy: 0.9132\n",
      "Epoch 141/200\n",
      " - 4s - loss: 0.3420 - accuracy: 0.9145\n",
      "Epoch 142/200\n",
      " - 4s - loss: 0.3408 - accuracy: 0.9146\n",
      "Epoch 143/200\n",
      " - 4s - loss: 0.3332 - accuracy: 0.9146\n",
      "Epoch 144/200\n",
      " - 4s - loss: 0.3255 - accuracy: 0.9148\n",
      "Epoch 145/200\n",
      " - 4s - loss: 0.3220 - accuracy: 0.9154\n",
      "Epoch 146/200\n",
      " - 4s - loss: 0.3192 - accuracy: 0.9164\n",
      "Epoch 147/200\n",
      " - 4s - loss: 0.3158 - accuracy: 0.9182\n",
      "Epoch 148/200\n",
      " - 4s - loss: 0.3188 - accuracy: 0.9153\n",
      "Epoch 149/200\n",
      " - 4s - loss: 0.3128 - accuracy: 0.9159\n",
      "Epoch 150/200\n",
      " - 4s - loss: 0.3090 - accuracy: 0.9172\n",
      "Epoch 151/200\n",
      " - 4s - loss: 0.3064 - accuracy: 0.9157\n",
      "Epoch 152/200\n",
      " - 4s - loss: 0.3130 - accuracy: 0.9148\n",
      "Epoch 153/200\n",
      " - 4s - loss: 0.3082 - accuracy: 0.9153\n",
      "Epoch 154/200\n",
      " - 4s - loss: 0.3033 - accuracy: 0.9158\n"
     ]
    },
    {
     "name": "stdout",
     "output_type": "stream",
     "text": [
      "Epoch 155/200\n",
      " - 4s - loss: 0.2995 - accuracy: 0.9163\n",
      "Epoch 156/200\n",
      " - 4s - loss: 0.3064 - accuracy: 0.9161\n",
      "Epoch 157/200\n",
      " - 4s - loss: 0.3029 - accuracy: 0.9168\n",
      "Epoch 158/200\n",
      " - 4s - loss: 0.2976 - accuracy: 0.9159\n",
      "Epoch 159/200\n",
      " - 4s - loss: 0.2962 - accuracy: 0.9153\n",
      "Epoch 160/200\n",
      " - 4s - loss: 0.2920 - accuracy: 0.9171\n",
      "Epoch 161/200\n",
      " - 4s - loss: 0.2899 - accuracy: 0.9153\n",
      "Epoch 162/200\n",
      " - 4s - loss: 0.2886 - accuracy: 0.9152\n",
      "Epoch 163/200\n",
      " - 4s - loss: 0.2888 - accuracy: 0.9159\n",
      "Epoch 164/200\n",
      " - 4s - loss: 0.2866 - accuracy: 0.9157\n",
      "Epoch 165/200\n",
      " - 4s - loss: 0.2843 - accuracy: 0.9172\n",
      "Epoch 166/200\n",
      " - 4s - loss: 0.2829 - accuracy: 0.9164\n",
      "Epoch 167/200\n",
      " - 4s - loss: 0.2940 - accuracy: 0.9146\n",
      "Epoch 168/200\n",
      " - 4s - loss: 0.2837 - accuracy: 0.9167\n",
      "Epoch 169/200\n",
      " - 4s - loss: 0.2798 - accuracy: 0.9166\n",
      "Epoch 170/200\n",
      " - 4s - loss: 0.2784 - accuracy: 0.9163\n",
      "Epoch 171/200\n",
      " - 4s - loss: 0.2781 - accuracy: 0.9180\n",
      "Epoch 172/200\n",
      " - 4s - loss: 0.2775 - accuracy: 0.9161\n",
      "Epoch 173/200\n",
      " - 4s - loss: 0.2753 - accuracy: 0.9170\n",
      "Epoch 174/200\n",
      " - 4s - loss: 0.2752 - accuracy: 0.9164\n",
      "Epoch 175/200\n",
      " - 4s - loss: 0.2753 - accuracy: 0.9170\n",
      "Epoch 176/200\n",
      " - 4s - loss: 0.2746 - accuracy: 0.9164\n",
      "Epoch 177/200\n",
      " - 4s - loss: 0.2733 - accuracy: 0.9161\n",
      "Epoch 178/200\n",
      " - 4s - loss: 0.2740 - accuracy: 0.9153\n",
      "Epoch 179/200\n",
      " - 4s - loss: 0.2767 - accuracy: 0.9158\n",
      "Epoch 180/200\n",
      " - 4s - loss: 0.3087 - accuracy: 0.9089\n",
      "Epoch 181/200\n",
      " - 4s - loss: 0.2870 - accuracy: 0.9144\n",
      "Epoch 182/200\n",
      " - 4s - loss: 0.2730 - accuracy: 0.9159\n",
      "Epoch 183/200\n",
      " - 4s - loss: 0.2683 - accuracy: 0.9172\n",
      "Epoch 184/200\n",
      " - 4s - loss: 0.2686 - accuracy: 0.9162\n",
      "Epoch 185/200\n",
      " - 4s - loss: 0.2665 - accuracy: 0.9180\n",
      "Epoch 186/200\n",
      " - 4s - loss: 0.2672 - accuracy: 0.9172\n",
      "Epoch 187/200\n",
      " - 4s - loss: 0.2672 - accuracy: 0.9157\n",
      "Epoch 188/200\n",
      " - 4s - loss: 0.2666 - accuracy: 0.9158\n",
      "Epoch 189/200\n",
      " - 4s - loss: 0.2732 - accuracy: 0.9150\n",
      "Epoch 190/200\n",
      " - 4s - loss: 0.2690 - accuracy: 0.9162\n",
      "Epoch 191/200\n",
      " - 4s - loss: 0.2665 - accuracy: 0.9153\n",
      "Epoch 192/200\n",
      " - 4s - loss: 0.2648 - accuracy: 0.9172\n",
      "Epoch 193/200\n",
      " - 4s - loss: 0.2652 - accuracy: 0.9150\n",
      "Epoch 194/200\n",
      " - 4s - loss: 0.2649 - accuracy: 0.9173\n",
      "Epoch 195/200\n",
      " - 4s - loss: 0.2646 - accuracy: 0.9170\n",
      "Epoch 196/200\n",
      " - 4s - loss: 0.2823 - accuracy: 0.9122\n",
      "Epoch 197/200\n",
      " - 4s - loss: 0.2805 - accuracy: 0.9132\n",
      "Epoch 198/200\n",
      " - 4s - loss: 0.2770 - accuracy: 0.9157\n",
      "Epoch 199/200\n",
      " - 4s - loss: 0.2652 - accuracy: 0.9162\n",
      "Epoch 200/200\n",
      " - 4s - loss: 0.2629 - accuracy: 0.9172\n"
     ]
    }
   ],
   "source": [
    "history = model.fit(X, y, epochs=200, verbose=2)"
   ]
  },
  {
   "cell_type": "code",
   "execution_count": 25,
   "metadata": {},
   "outputs": [],
   "source": [
    "def sentence_generation(model, t, current_word, n): # 모델, 토크나이저, 현재 단어, 반복할 횟수\n",
    "    init_word = current_word # 처음 들어온 단어도 마지막에 같이 출력하기위해 저장\n",
    "    sentence = ''\n",
    "    for _ in range(n): # n번 반복\n",
    "        encoded = t.texts_to_sequences([current_word])[0] # 현재 단어에 대한 정수 인코딩\n",
    "        encoded = pad_sequences([encoded], maxlen=23, padding='pre') # 데이터에 대한 패딩\n",
    "        result = model.predict_classes(encoded, verbose=0)\n",
    "          # 입력한 X(현재 단어)에 대해서 y를 예측하고 y(예측한 단어)를 result에 저장.\n",
    "        for word, index in t.word_index.items(): \n",
    "            if index == result: # 만약 예측한 단어와 인덱스와 동일한 단어가 있다면\n",
    "                break # 해당 단어가 예측 단어이므로 break\n",
    "        current_word = current_word + ' '  + word # 현재 단어 + ' ' + 예측 단어를 현재 단어로 변경\n",
    "        sentence = sentence + ' ' + word # 예측 단어를 문장에 저장\n",
    "\n",
    "    sentence = init_word + sentence\n",
    "    return sentence"
   ]
  },
  {
   "cell_type": "code",
   "execution_count": 26,
   "metadata": {},
   "outputs": [
    {
     "name": "stdout",
     "output_type": "stream",
     "text": [
      "i cant jump ship from facebook yet control of wwi up\n",
      "how to make a crossword puzzle virtual the initials battle over\n",
      "former cheney aide is pardoned by trump in cia leak case\n"
     ]
    }
   ],
   "source": [
    "print(sentence_generation(model, t, 'i', 10))\n",
    "# 임의의 단어 'i'에 대해서 10개의 단어를 추가 생성\n",
    "print(sentence_generation(model, t, 'how', 10))\n",
    "# 임의의 단어 'how'에 대해서 10개의 단어를 추가 생성\n",
    "print(sentence_generation(model, t, 'former', 10))"
   ]
  },
  {
   "cell_type": "code",
   "execution_count": null,
   "metadata": {},
   "outputs": [],
   "source": []
  },
  {
   "cell_type": "code",
   "execution_count": null,
   "metadata": {},
   "outputs": [],
   "source": []
  }
 ],
 "metadata": {
  "kernelspec": {
   "display_name": "Python 3",
   "language": "python",
   "name": "python3"
  },
  "language_info": {
   "codemirror_mode": {
    "name": "ipython",
    "version": 3
   },
   "file_extension": ".py",
   "mimetype": "text/x-python",
   "name": "python",
   "nbconvert_exporter": "python",
   "pygments_lexer": "ipython3",
   "version": "3.7.7"
  }
 },
 "nbformat": 4,
 "nbformat_minor": 4
}
